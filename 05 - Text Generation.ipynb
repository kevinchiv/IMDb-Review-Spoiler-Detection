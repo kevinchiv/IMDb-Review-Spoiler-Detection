{
 "cells": [
  {
   "cell_type": "markdown",
   "metadata": {},
   "source": [
    "# 05 - Text Generation"
   ]
  },
  {
   "cell_type": "markdown",
   "metadata": {},
   "source": [
    "This is an optional notebook for testing the text generation capabilities of gpt2. <br>"
   ]
  },
  {
   "cell_type": "markdown",
   "metadata": {},
   "source": [
    "## 1. Import Packages <a name=\"import\"></a>"
   ]
  },
  {
   "cell_type": "code",
   "execution_count": 1,
   "metadata": {},
   "outputs": [],
   "source": [
    "import pandas as pd\n",
    "\n",
    "import pickle\n",
    "import os"
   ]
  },
  {
   "cell_type": "code",
   "execution_count": 2,
   "metadata": {},
   "outputs": [
    {
     "name": "stderr",
     "output_type": "stream",
     "text": [
      "C:\\Users\\chivk\\anaconda3\\envs\\tf-gpu\\lib\\site-packages\\tensorflow\\python\\framework\\dtypes.py:516: FutureWarning: Passing (type, 1) or '1type' as a synonym of type is deprecated; in a future version of numpy, it will be understood as (type, (1,)) / '(1,)type'.\n",
      "  _np_qint8 = np.dtype([(\"qint8\", np.int8, 1)])\n",
      "C:\\Users\\chivk\\anaconda3\\envs\\tf-gpu\\lib\\site-packages\\tensorflow\\python\\framework\\dtypes.py:517: FutureWarning: Passing (type, 1) or '1type' as a synonym of type is deprecated; in a future version of numpy, it will be understood as (type, (1,)) / '(1,)type'.\n",
      "  _np_quint8 = np.dtype([(\"quint8\", np.uint8, 1)])\n",
      "C:\\Users\\chivk\\anaconda3\\envs\\tf-gpu\\lib\\site-packages\\tensorflow\\python\\framework\\dtypes.py:518: FutureWarning: Passing (type, 1) or '1type' as a synonym of type is deprecated; in a future version of numpy, it will be understood as (type, (1,)) / '(1,)type'.\n",
      "  _np_qint16 = np.dtype([(\"qint16\", np.int16, 1)])\n",
      "C:\\Users\\chivk\\anaconda3\\envs\\tf-gpu\\lib\\site-packages\\tensorflow\\python\\framework\\dtypes.py:519: FutureWarning: Passing (type, 1) or '1type' as a synonym of type is deprecated; in a future version of numpy, it will be understood as (type, (1,)) / '(1,)type'.\n",
      "  _np_quint16 = np.dtype([(\"quint16\", np.uint16, 1)])\n",
      "C:\\Users\\chivk\\anaconda3\\envs\\tf-gpu\\lib\\site-packages\\tensorflow\\python\\framework\\dtypes.py:520: FutureWarning: Passing (type, 1) or '1type' as a synonym of type is deprecated; in a future version of numpy, it will be understood as (type, (1,)) / '(1,)type'.\n",
      "  _np_qint32 = np.dtype([(\"qint32\", np.int32, 1)])\n",
      "C:\\Users\\chivk\\anaconda3\\envs\\tf-gpu\\lib\\site-packages\\tensorflow\\python\\framework\\dtypes.py:525: FutureWarning: Passing (type, 1) or '1type' as a synonym of type is deprecated; in a future version of numpy, it will be understood as (type, (1,)) / '(1,)type'.\n",
      "  np_resource = np.dtype([(\"resource\", np.ubyte, 1)])\n",
      "C:\\Users\\chivk\\anaconda3\\envs\\tf-gpu\\lib\\site-packages\\tensorboard\\compat\\tensorflow_stub\\dtypes.py:541: FutureWarning: Passing (type, 1) or '1type' as a synonym of type is deprecated; in a future version of numpy, it will be understood as (type, (1,)) / '(1,)type'.\n",
      "  _np_qint8 = np.dtype([(\"qint8\", np.int8, 1)])\n",
      "C:\\Users\\chivk\\anaconda3\\envs\\tf-gpu\\lib\\site-packages\\tensorboard\\compat\\tensorflow_stub\\dtypes.py:542: FutureWarning: Passing (type, 1) or '1type' as a synonym of type is deprecated; in a future version of numpy, it will be understood as (type, (1,)) / '(1,)type'.\n",
      "  _np_quint8 = np.dtype([(\"quint8\", np.uint8, 1)])\n",
      "C:\\Users\\chivk\\anaconda3\\envs\\tf-gpu\\lib\\site-packages\\tensorboard\\compat\\tensorflow_stub\\dtypes.py:543: FutureWarning: Passing (type, 1) or '1type' as a synonym of type is deprecated; in a future version of numpy, it will be understood as (type, (1,)) / '(1,)type'.\n",
      "  _np_qint16 = np.dtype([(\"qint16\", np.int16, 1)])\n",
      "C:\\Users\\chivk\\anaconda3\\envs\\tf-gpu\\lib\\site-packages\\tensorboard\\compat\\tensorflow_stub\\dtypes.py:544: FutureWarning: Passing (type, 1) or '1type' as a synonym of type is deprecated; in a future version of numpy, it will be understood as (type, (1,)) / '(1,)type'.\n",
      "  _np_quint16 = np.dtype([(\"quint16\", np.uint16, 1)])\n",
      "C:\\Users\\chivk\\anaconda3\\envs\\tf-gpu\\lib\\site-packages\\tensorboard\\compat\\tensorflow_stub\\dtypes.py:545: FutureWarning: Passing (type, 1) or '1type' as a synonym of type is deprecated; in a future version of numpy, it will be understood as (type, (1,)) / '(1,)type'.\n",
      "  _np_qint32 = np.dtype([(\"qint32\", np.int32, 1)])\n",
      "C:\\Users\\chivk\\anaconda3\\envs\\tf-gpu\\lib\\site-packages\\tensorboard\\compat\\tensorflow_stub\\dtypes.py:550: FutureWarning: Passing (type, 1) or '1type' as a synonym of type is deprecated; in a future version of numpy, it will be understood as (type, (1,)) / '(1,)type'.\n",
      "  np_resource = np.dtype([(\"resource\", np.ubyte, 1)])\n"
     ]
    }
   ],
   "source": [
    "import tensorflow as tf"
   ]
  },
  {
   "cell_type": "code",
   "execution_count": 3,
   "metadata": {},
   "outputs": [
    {
     "name": "stdout",
     "output_type": "stream",
     "text": [
      "[name: \"/device:CPU:0\"\n",
      "device_type: \"CPU\"\n",
      "memory_limit: 268435456\n",
      "locality {\n",
      "}\n",
      "incarnation: 9407221673825764197\n",
      ", name: \"/device:GPU:0\"\n",
      "device_type: \"GPU\"\n",
      "memory_limit: 3146173644\n",
      "locality {\n",
      "  bus_id: 1\n",
      "  links {\n",
      "  }\n",
      "}\n",
      "incarnation: 8670898653399447291\n",
      "physical_device_desc: \"device: 0, name: GeForce GTX 1050 Ti, pci bus id: 0000:01:00.0, compute capability: 6.1\"\n",
      "]\n"
     ]
    }
   ],
   "source": [
    "#if you have a gpu, use tensorflow-gpu==1.14 instead of tensorflow\n",
    "#gpt_2_simple requires tensorflow.contrib\n",
    "#which only exists in tensorflow versions =<1.14\n",
    "import gpt_2_simple as gpt2 \n",
    "\n",
    "from tensorflow.python.client import device_lib\n",
    "\n",
    "#this is to ensure your gpu is detected\n",
    "print(device_lib.list_local_devices())"
   ]
  },
  {
   "cell_type": "markdown",
   "metadata": {},
   "source": [
    "## Table of Contents <a name=\"table\"></a>\n",
    "1. [Import Packages](#import)\n",
    "2. [Load Data](#load)\n",
    "3. [Text Generation](#text)\n",
    "    1. [GPU Version](#gpu)\n",
    "    2. [CPU Version](#cpu)"
   ]
  },
  {
   "cell_type": "markdown",
   "metadata": {},
   "source": [
    "## 2. Load Data <a name=\"load\"></a>"
   ]
  },
  {
   "cell_type": "code",
   "execution_count": 4,
   "metadata": {},
   "outputs": [
    {
     "data": {
      "text/html": [
       "<div>\n",
       "<style scoped>\n",
       "    .dataframe tbody tr th:only-of-type {\n",
       "        vertical-align: middle;\n",
       "    }\n",
       "\n",
       "    .dataframe tbody tr th {\n",
       "        vertical-align: top;\n",
       "    }\n",
       "\n",
       "    .dataframe thead th {\n",
       "        text-align: right;\n",
       "    }\n",
       "</style>\n",
       "<table border=\"1\" class=\"dataframe\">\n",
       "  <thead>\n",
       "    <tr style=\"text-align: right;\">\n",
       "      <th></th>\n",
       "      <th>movie_id</th>\n",
       "      <th>review_text</th>\n",
       "      <th>rating</th>\n",
       "      <th>review_summary</th>\n",
       "      <th>similarities_lsa</th>\n",
       "      <th>similarities_lda</th>\n",
       "      <th>similarities_nmf</th>\n",
       "      <th>flesch_reading_ease_score</th>\n",
       "      <th>difficult_words_score</th>\n",
       "      <th>linsear_write_score</th>\n",
       "      <th>compound_score</th>\n",
       "    </tr>\n",
       "  </thead>\n",
       "  <tbody>\n",
       "    <tr>\n",
       "      <th>15981</th>\n",
       "      <td>tt0167260</td>\n",
       "      <td>If you want a movie which you can watch many t...</td>\n",
       "      <td>10</td>\n",
       "      <td>my favorite movie of all time</td>\n",
       "      <td>0.638689</td>\n",
       "      <td>0.742431</td>\n",
       "      <td>0.673345</td>\n",
       "      <td>-18</td>\n",
       "      <td>8</td>\n",
       "      <td>56</td>\n",
       "      <td>0.4588</td>\n",
       "    </tr>\n",
       "    <tr>\n",
       "      <th>15990</th>\n",
       "      <td>tt0167260</td>\n",
       "      <td>UM dos Malorie's films DE nos so tempo, a tril...</td>\n",
       "      <td>10</td>\n",
       "      <td>Impressionante</td>\n",
       "      <td>0.642445</td>\n",
       "      <td>0.554692</td>\n",
       "      <td>0.545042</td>\n",
       "      <td>49</td>\n",
       "      <td>35</td>\n",
       "      <td>13</td>\n",
       "      <td>0.0000</td>\n",
       "    </tr>\n",
       "    <tr>\n",
       "      <th>15991</th>\n",
       "      <td>tt0167260</td>\n",
       "      <td>This is simply the best movie I have ever seen...</td>\n",
       "      <td>10</td>\n",
       "      <td>Best Movie I've Ever Seen</td>\n",
       "      <td>0.500536</td>\n",
       "      <td>0.750266</td>\n",
       "      <td>0.594067</td>\n",
       "      <td>78</td>\n",
       "      <td>18</td>\n",
       "      <td>11</td>\n",
       "      <td>0.6369</td>\n",
       "    </tr>\n",
       "    <tr>\n",
       "      <th>15994</th>\n",
       "      <td>tt0167260</td>\n",
       "      <td>If the first film bored you to tears and the s...</td>\n",
       "      <td>1</td>\n",
       "      <td>Supreme boredom</td>\n",
       "      <td>0.786593</td>\n",
       "      <td>0.656013</td>\n",
       "      <td>0.613355</td>\n",
       "      <td>93</td>\n",
       "      <td>14</td>\n",
       "      <td>6</td>\n",
       "      <td>0.3182</td>\n",
       "    </tr>\n",
       "    <tr>\n",
       "      <th>15997</th>\n",
       "      <td>tt0167260</td>\n",
       "      <td>I loved the first Lord of the Rings, and The T...</td>\n",
       "      <td>2</td>\n",
       "      <td>Could this film take longer to end?</td>\n",
       "      <td>0.677961</td>\n",
       "      <td>0.720137</td>\n",
       "      <td>0.658685</td>\n",
       "      <td>70</td>\n",
       "      <td>19</td>\n",
       "      <td>8</td>\n",
       "      <td>0.0000</td>\n",
       "    </tr>\n",
       "  </tbody>\n",
       "</table>\n",
       "</div>"
      ],
      "text/plain": [
       "        movie_id                                        review_text  rating  \\\n",
       "15981  tt0167260  If you want a movie which you can watch many t...      10   \n",
       "15990  tt0167260  UM dos Malorie's films DE nos so tempo, a tril...      10   \n",
       "15991  tt0167260  This is simply the best movie I have ever seen...      10   \n",
       "15994  tt0167260  If the first film bored you to tears and the s...       1   \n",
       "15997  tt0167260  I loved the first Lord of the Rings, and The T...       2   \n",
       "\n",
       "                            review_summary  similarities_lsa  \\\n",
       "15981        my favorite movie of all time          0.638689   \n",
       "15990                       Impressionante          0.642445   \n",
       "15991            Best Movie I've Ever Seen          0.500536   \n",
       "15994                      Supreme boredom          0.786593   \n",
       "15997  Could this film take longer to end?          0.677961   \n",
       "\n",
       "       similarities_lda  similarities_nmf  flesch_reading_ease_score  \\\n",
       "15981          0.742431          0.673345                        -18   \n",
       "15990          0.554692          0.545042                         49   \n",
       "15991          0.750266          0.594067                         78   \n",
       "15994          0.656013          0.613355                         93   \n",
       "15997          0.720137          0.658685                         70   \n",
       "\n",
       "       difficult_words_score  linsear_write_score  compound_score  \n",
       "15981                      8                   56          0.4588  \n",
       "15990                     35                   13          0.0000  \n",
       "15991                     18                   11          0.6369  \n",
       "15994                     14                    6          0.3182  \n",
       "15997                     19                    8          0.0000  "
      ]
     },
     "execution_count": 4,
     "metadata": {},
     "output_type": "execute_result"
    }
   ],
   "source": [
    "movie_id = 'tt0167260'\n",
    "\n",
    "movie_reviews = pd.read_pickle('./data/processed_movie_reviews.pkl.gz', compression = 'gzip')\n",
    "\n",
    "labels = pickle.load(open('./data/labels.pkl', 'rb'))\n",
    "\n",
    "movie_reviews = movie_reviews[labels == 1]\n",
    "\n",
    "movie_reviews = movie_reviews[movie_reviews['movie_id'] == movie_id]\n",
    "\n",
    "movie_reviews = movie_reviews\n",
    "\n",
    "movie_reviews.head()"
   ]
  },
  {
   "cell_type": "code",
   "execution_count": 5,
   "metadata": {},
   "outputs": [],
   "source": [
    "movie_reviews['review_text'].to_csv('./data/non_spoilers_LOTR.csv', header = False, index = False)"
   ]
  },
  {
   "cell_type": "markdown",
   "metadata": {},
   "source": [
    "Return to [Table of Contents](#table)"
   ]
  },
  {
   "cell_type": "markdown",
   "metadata": {},
   "source": [
    "## 3. Text Generation <a name=\"text\"></a>"
   ]
  },
  {
   "cell_type": "code",
   "execution_count": 4,
   "metadata": {},
   "outputs": [],
   "source": [
    "model_name = \"117M\"\n",
    "model_dir = 'text_generator'\n",
    "\n",
    "\n",
    "if not os.listdir('text_generator'):\n",
    "    gpt2.download_gpt2(model_name=model_name, model_dir = model_dir)   "
   ]
  },
  {
   "cell_type": "markdown",
   "metadata": {},
   "source": [
    "### 3A. GPU Version <a name=\"gpu\"></a>"
   ]
  },
  {
   "cell_type": "markdown",
   "metadata": {},
   "source": [
    "Currently, the GPU version does not work. <br>\n",
    "You may need at least 8 GB of memory while I only had 4 GB."
   ]
  },
  {
   "cell_type": "code",
   "execution_count": 13,
   "metadata": {},
   "outputs": [],
   "source": [
    "#currently a workaround to reset the graph to continue finetuning\n",
    "tf.reset_default_graph()\n",
    "\n",
    "config = tf.ConfigProto(allow_soft_placement=True)\n",
    "config.gpu_options.allocator_type = 'BFC'\n",
    "config.gpu_options.per_process_gpu_memory_fraction = 0.95\n",
    "config.gpu_options.allow_growth=True\n",
    "\n",
    "with tf.Session(config=config) as sess:\n",
    " \n",
    "    gpt2.finetune(sess,\n",
    "                  './data/non_spoilers_LOTR.csv',\n",
    "                  model_name = model_name,\n",
    "                  model_dir = 'text_generator',\n",
    "                  steps=1000)   # steps is max number of training steps"
   ]
  },
  {
   "cell_type": "markdown",
   "metadata": {},
   "source": [
    "### 3B. CPU Version <a name=\"cpu\"></a>"
   ]
  },
  {
   "cell_type": "code",
   "execution_count": null,
   "metadata": {},
   "outputs": [
    {
     "name": "stdout",
     "output_type": "stream",
     "text": [
      "Loading checkpoint text_generator\\117M\\model.ckpt\n"
     ]
    },
    {
     "name": "stderr",
     "output_type": "stream",
     "text": [
      "100%|████████████████████████████████████████████████████████████████████████████████████| 1/1 [00:00<00:00, 41.83it/s]"
     ]
    },
    {
     "name": "stdout",
     "output_type": "stream",
     "text": [
      "Loading dataset...\n"
     ]
    },
    {
     "name": "stderr",
     "output_type": "stream",
     "text": [
      "\n"
     ]
    },
    {
     "name": "stdout",
     "output_type": "stream",
     "text": [
      "dataset has 153088 tokens\n",
      "Training...\n",
      "[1 | 74.45] loss=3.07 avg=3.07\n",
      "[2 | 139.31] loss=3.39 avg=3.23\n",
      "[3 | 204.10] loss=3.08 avg=3.18\n",
      "[4 | 273.63] loss=3.03 avg=3.14\n",
      "[5 | 339.89] loss=3.20 avg=3.16\n",
      "[6 | 407.50] loss=3.25 avg=3.17\n",
      "[7 | 476.06] loss=3.01 avg=3.15\n",
      "[8 | 544.89] loss=3.26 avg=3.16\n",
      "[9 | 615.20] loss=3.06 avg=3.15\n",
      "[10 | 685.64] loss=2.96 avg=3.13\n",
      "[11 | 756.47] loss=3.27 avg=3.14\n",
      "[12 | 822.95] loss=3.00 avg=3.13\n",
      "[13 | 889.80] loss=2.88 avg=3.11\n",
      "[14 | 955.91] loss=2.64 avg=3.07\n",
      "[15 | 1021.15] loss=2.96 avg=3.07\n",
      "[16 | 1089.55] loss=2.91 avg=3.06\n",
      "[17 | 1159.91] loss=3.08 avg=3.06\n",
      "[18 | 1230.88] loss=2.86 avg=3.05\n",
      "[19 | 1302.68] loss=2.99 avg=3.04\n",
      "[20 | 1372.85] loss=3.05 avg=3.04\n",
      "[21 | 1443.65] loss=2.99 avg=3.04\n",
      "[22 | 1510.32] loss=3.19 avg=3.05\n",
      "[23 | 1580.49] loss=3.17 avg=3.05\n",
      "[24 | 1648.84] loss=2.93 avg=3.05\n"
     ]
    }
   ],
   "source": [
    "#currently a workaround to reset the graph to continue finetuning\n",
    "tf.reset_default_graph()\n",
    "\n",
    "with tf.Session() as sess:\n",
    "     with tf.device(\"/cpu:0\"):\n",
    " \n",
    "        gpt2.finetune(sess,\n",
    "                      './data/non_spoilers_LOTR.csv',\n",
    "                      model_name = model_name,\n",
    "                      model_dir = 'text_generator',\n",
    "                      steps=1000)   # steps is max number of training steps"
   ]
  },
  {
   "cell_type": "code",
   "execution_count": null,
   "metadata": {},
   "outputs": [],
   "source": [
    "gen_texts = gpt2.generate(sess, return_as_list = True)"
   ]
  },
  {
   "cell_type": "markdown",
   "metadata": {},
   "source": [
    "Return to [Table of Contents](#table)"
   ]
  }
 ],
 "metadata": {
  "kernelspec": {
   "display_name": "TensorFlow-GPU-1.14",
   "language": "python",
   "name": "tf-gpu"
  },
  "language_info": {
   "codemirror_mode": {
    "name": "ipython",
    "version": 3
   },
   "file_extension": ".py",
   "mimetype": "text/x-python",
   "name": "python",
   "nbconvert_exporter": "python",
   "pygments_lexer": "ipython3",
   "version": "3.7.7"
  }
 },
 "nbformat": 4,
 "nbformat_minor": 2
}
