{
 "cells": [
  {
   "cell_type": "markdown",
   "metadata": {},
   "source": [
    "# 04 - pyLDAvis and LSA Plots"
   ]
  },
  {
   "cell_type": "markdown",
   "metadata": {},
   "source": [
    "## 1. Import Packages <a name=\"import\"></a>"
   ]
  },
  {
   "cell_type": "code",
   "execution_count": 10,
   "metadata": {},
   "outputs": [],
   "source": [
    "import pandas as pd\n",
    "import numpy as np\n",
    "import matplotlib.pyplot as plt\n",
    "import seaborn as sns"
   ]
  },
  {
   "cell_type": "code",
   "execution_count": 11,
   "metadata": {},
   "outputs": [],
   "source": [
    "import nltk\n",
    "# nltk.download()\n",
    "\n",
    "from vaderSentiment.vaderSentiment import SentimentIntensityAnalyzer \n",
    "import textstat"
   ]
  },
  {
   "cell_type": "code",
   "execution_count": 12,
   "metadata": {},
   "outputs": [],
   "source": [
    "import pickle\n",
    "import json, csv\n",
    "import os\n",
    "\n",
    "import re\n",
    "import string"
   ]
  },
  {
   "cell_type": "code",
   "execution_count": 3,
   "metadata": {},
   "outputs": [],
   "source": [
    "from sklearn.feature_extraction.text import CountVectorizer, TfidfVectorizer\n",
    "from sklearn.decomposition import TruncatedSVD, NMF, LatentDirichletAllocation\n",
    "from sklearn.metrics.pairwise import cosine_similarity\n",
    "from nltk.stem import WordNetLemmatizer\n",
    "from nltk import word_tokenize"
   ]
  },
  {
   "cell_type": "code",
   "execution_count": 8,
   "metadata": {},
   "outputs": [
    {
     "name": "stderr",
     "output_type": "stream",
     "text": [
      "/home/kchiv/anaconda3/lib/python3.7/site-packages/past/builtins/misc.py:4: DeprecationWarning: Using or importing the ABCs from 'collections' instead of from 'collections.abc' is deprecated, and in 3.8 it will stop working\n",
      "  from collections import Mapping\n"
     ]
    }
   ],
   "source": [
    "import pyLDAvis\n",
    "import pyLDAvis.sklearn\n",
    "\n",
    "pyLDAvis.enable_notebook()"
   ]
  },
  {
   "cell_type": "markdown",
   "metadata": {},
   "source": [
    "## Table of Contents <a name=\"table\"></a>\n",
    "1. [Import Packages](#import)\n",
    "2. [Load Data](#load)\n",
    "3. [Selecting an Example](#example)\n",
    "4. [Topic Modeling Functions](#func)\n",
    "5. [LSA Plots](#lsa)\n",
    "6. [pyLDAvis](#lda)"
   ]
  },
  {
   "cell_type": "markdown",
   "metadata": {},
   "source": [
    "## 2. Load Data <a name=\"load\"></a>"
   ]
  },
  {
   "cell_type": "code",
   "execution_count": 18,
   "metadata": {
    "scrolled": true
   },
   "outputs": [
    {
     "data": {
      "text/html": [
       "<div>\n",
       "<style scoped>\n",
       "    .dataframe tbody tr th:only-of-type {\n",
       "        vertical-align: middle;\n",
       "    }\n",
       "\n",
       "    .dataframe tbody tr th {\n",
       "        vertical-align: top;\n",
       "    }\n",
       "\n",
       "    .dataframe thead th {\n",
       "        text-align: right;\n",
       "    }\n",
       "</style>\n",
       "<table border=\"1\" class=\"dataframe\">\n",
       "  <thead>\n",
       "    <tr style=\"text-align: right;\">\n",
       "      <th></th>\n",
       "      <th>movie_id</th>\n",
       "      <th>review_text</th>\n",
       "      <th>rating</th>\n",
       "      <th>review_summary</th>\n",
       "      <th>similarities_lsa</th>\n",
       "      <th>similarities_lda</th>\n",
       "      <th>similarities_nmf</th>\n",
       "      <th>flesch_reading_ease_score</th>\n",
       "      <th>difficult_words_score</th>\n",
       "      <th>linsear_write_score</th>\n",
       "      <th>compound_score</th>\n",
       "    </tr>\n",
       "  </thead>\n",
       "  <tbody>\n",
       "    <tr>\n",
       "      <td>0</td>\n",
       "      <td>tt0111161</td>\n",
       "      <td>In its Oscar year, Shawshank Redemption (writt...</td>\n",
       "      <td>10</td>\n",
       "      <td>A classic piece of unforgettable film-making.</td>\n",
       "      <td>0.961052</td>\n",
       "      <td>0.875862</td>\n",
       "      <td>0.899648</td>\n",
       "      <td>70</td>\n",
       "      <td>120</td>\n",
       "      <td>16</td>\n",
       "      <td>0.0000</td>\n",
       "    </tr>\n",
       "    <tr>\n",
       "      <td>1</td>\n",
       "      <td>tt0111161</td>\n",
       "      <td>The Shawshank Redemption is without a doubt on...</td>\n",
       "      <td>10</td>\n",
       "      <td>Simply amazing. The best film of the 90's.</td>\n",
       "      <td>0.966842</td>\n",
       "      <td>0.806110</td>\n",
       "      <td>0.925397</td>\n",
       "      <td>69</td>\n",
       "      <td>35</td>\n",
       "      <td>18</td>\n",
       "      <td>0.8402</td>\n",
       "    </tr>\n",
       "    <tr>\n",
       "      <td>2</td>\n",
       "      <td>tt0111161</td>\n",
       "      <td>I believe that this film is the best story eve...</td>\n",
       "      <td>8</td>\n",
       "      <td>The best story ever told on film</td>\n",
       "      <td>0.924182</td>\n",
       "      <td>0.783039</td>\n",
       "      <td>0.789735</td>\n",
       "      <td>70</td>\n",
       "      <td>45</td>\n",
       "      <td>14</td>\n",
       "      <td>0.6369</td>\n",
       "    </tr>\n",
       "    <tr>\n",
       "      <td>3</td>\n",
       "      <td>tt0111161</td>\n",
       "      <td>**Yes, there are SPOILERS here**This film has ...</td>\n",
       "      <td>10</td>\n",
       "      <td>Busy dying or busy living?</td>\n",
       "      <td>0.909945</td>\n",
       "      <td>0.881686</td>\n",
       "      <td>0.784359</td>\n",
       "      <td>-6</td>\n",
       "      <td>76</td>\n",
       "      <td>15</td>\n",
       "      <td>0.0000</td>\n",
       "    </tr>\n",
       "    <tr>\n",
       "      <td>4</td>\n",
       "      <td>tt0111161</td>\n",
       "      <td>At the heart of this extraordinary movie is a ...</td>\n",
       "      <td>8</td>\n",
       "      <td>Great story, wondrously told and acted</td>\n",
       "      <td>0.977627</td>\n",
       "      <td>0.915197</td>\n",
       "      <td>0.942112</td>\n",
       "      <td>63</td>\n",
       "      <td>133</td>\n",
       "      <td>15</td>\n",
       "      <td>0.6249</td>\n",
       "    </tr>\n",
       "  </tbody>\n",
       "</table>\n",
       "</div>"
      ],
      "text/plain": [
       "    movie_id                                        review_text  rating  \\\n",
       "0  tt0111161  In its Oscar year, Shawshank Redemption (writt...      10   \n",
       "1  tt0111161  The Shawshank Redemption is without a doubt on...      10   \n",
       "2  tt0111161  I believe that this film is the best story eve...       8   \n",
       "3  tt0111161  **Yes, there are SPOILERS here**This film has ...      10   \n",
       "4  tt0111161  At the heart of this extraordinary movie is a ...       8   \n",
       "\n",
       "                                  review_summary  similarities_lsa  \\\n",
       "0  A classic piece of unforgettable film-making.          0.961052   \n",
       "1     Simply amazing. The best film of the 90's.          0.966842   \n",
       "2               The best story ever told on film          0.924182   \n",
       "3                     Busy dying or busy living?          0.909945   \n",
       "4         Great story, wondrously told and acted          0.977627   \n",
       "\n",
       "   similarities_lda  similarities_nmf  flesch_reading_ease_score  \\\n",
       "0          0.875862          0.899648                         70   \n",
       "1          0.806110          0.925397                         69   \n",
       "2          0.783039          0.789735                         70   \n",
       "3          0.881686          0.784359                         -6   \n",
       "4          0.915197          0.942112                         63   \n",
       "\n",
       "   difficult_words_score  linsear_write_score  compound_score  \n",
       "0                    120                   16          0.0000  \n",
       "1                     35                   18          0.8402  \n",
       "2                     45                   14          0.6369  \n",
       "3                     76                   15          0.0000  \n",
       "4                    133                   15          0.6249  "
      ]
     },
     "execution_count": 18,
     "metadata": {},
     "output_type": "execute_result"
    }
   ],
   "source": [
    "movie_reviews = pd.read_pickle('./data/processed_movie_reviews.pkl.gz', compression = 'gzip')\n",
    "\n",
    "movie_reviews.head()"
   ]
  },
  {
   "cell_type": "markdown",
   "metadata": {},
   "source": [
    "We add an additional column 'not_spoiler' that indicates whether something is a spoiler or not."
   ]
  },
  {
   "cell_type": "code",
   "execution_count": 20,
   "metadata": {},
   "outputs": [
    {
     "data": {
      "text/html": [
       "<div>\n",
       "<style scoped>\n",
       "    .dataframe tbody tr th:only-of-type {\n",
       "        vertical-align: middle;\n",
       "    }\n",
       "\n",
       "    .dataframe tbody tr th {\n",
       "        vertical-align: top;\n",
       "    }\n",
       "\n",
       "    .dataframe thead th {\n",
       "        text-align: right;\n",
       "    }\n",
       "</style>\n",
       "<table border=\"1\" class=\"dataframe\">\n",
       "  <thead>\n",
       "    <tr style=\"text-align: right;\">\n",
       "      <th></th>\n",
       "      <th>movie_id</th>\n",
       "      <th>review_text</th>\n",
       "      <th>rating</th>\n",
       "      <th>review_summary</th>\n",
       "      <th>similarities_lsa</th>\n",
       "      <th>similarities_lda</th>\n",
       "      <th>similarities_nmf</th>\n",
       "      <th>flesch_reading_ease_score</th>\n",
       "      <th>difficult_words_score</th>\n",
       "      <th>linsear_write_score</th>\n",
       "      <th>compound_score</th>\n",
       "      <th>not_spoiler</th>\n",
       "    </tr>\n",
       "  </thead>\n",
       "  <tbody>\n",
       "    <tr>\n",
       "      <td>0</td>\n",
       "      <td>tt0111161</td>\n",
       "      <td>In its Oscar year, Shawshank Redemption (writt...</td>\n",
       "      <td>10</td>\n",
       "      <td>A classic piece of unforgettable film-making.</td>\n",
       "      <td>0.961052</td>\n",
       "      <td>0.875862</td>\n",
       "      <td>0.899648</td>\n",
       "      <td>70</td>\n",
       "      <td>120</td>\n",
       "      <td>16</td>\n",
       "      <td>0.0000</td>\n",
       "      <td>0.0</td>\n",
       "    </tr>\n",
       "    <tr>\n",
       "      <td>1</td>\n",
       "      <td>tt0111161</td>\n",
       "      <td>The Shawshank Redemption is without a doubt on...</td>\n",
       "      <td>10</td>\n",
       "      <td>Simply amazing. The best film of the 90's.</td>\n",
       "      <td>0.966842</td>\n",
       "      <td>0.806110</td>\n",
       "      <td>0.925397</td>\n",
       "      <td>69</td>\n",
       "      <td>35</td>\n",
       "      <td>18</td>\n",
       "      <td>0.8402</td>\n",
       "      <td>0.0</td>\n",
       "    </tr>\n",
       "    <tr>\n",
       "      <td>2</td>\n",
       "      <td>tt0111161</td>\n",
       "      <td>I believe that this film is the best story eve...</td>\n",
       "      <td>8</td>\n",
       "      <td>The best story ever told on film</td>\n",
       "      <td>0.924182</td>\n",
       "      <td>0.783039</td>\n",
       "      <td>0.789735</td>\n",
       "      <td>70</td>\n",
       "      <td>45</td>\n",
       "      <td>14</td>\n",
       "      <td>0.6369</td>\n",
       "      <td>0.0</td>\n",
       "    </tr>\n",
       "    <tr>\n",
       "      <td>3</td>\n",
       "      <td>tt0111161</td>\n",
       "      <td>**Yes, there are SPOILERS here**This film has ...</td>\n",
       "      <td>10</td>\n",
       "      <td>Busy dying or busy living?</td>\n",
       "      <td>0.909945</td>\n",
       "      <td>0.881686</td>\n",
       "      <td>0.784359</td>\n",
       "      <td>-6</td>\n",
       "      <td>76</td>\n",
       "      <td>15</td>\n",
       "      <td>0.0000</td>\n",
       "      <td>0.0</td>\n",
       "    </tr>\n",
       "    <tr>\n",
       "      <td>4</td>\n",
       "      <td>tt0111161</td>\n",
       "      <td>At the heart of this extraordinary movie is a ...</td>\n",
       "      <td>8</td>\n",
       "      <td>Great story, wondrously told and acted</td>\n",
       "      <td>0.977627</td>\n",
       "      <td>0.915197</td>\n",
       "      <td>0.942112</td>\n",
       "      <td>63</td>\n",
       "      <td>133</td>\n",
       "      <td>15</td>\n",
       "      <td>0.6249</td>\n",
       "      <td>0.0</td>\n",
       "    </tr>\n",
       "  </tbody>\n",
       "</table>\n",
       "</div>"
      ],
      "text/plain": [
       "    movie_id                                        review_text  rating  \\\n",
       "0  tt0111161  In its Oscar year, Shawshank Redemption (writt...      10   \n",
       "1  tt0111161  The Shawshank Redemption is without a doubt on...      10   \n",
       "2  tt0111161  I believe that this film is the best story eve...       8   \n",
       "3  tt0111161  **Yes, there are SPOILERS here**This film has ...      10   \n",
       "4  tt0111161  At the heart of this extraordinary movie is a ...       8   \n",
       "\n",
       "                                  review_summary  similarities_lsa  \\\n",
       "0  A classic piece of unforgettable film-making.          0.961052   \n",
       "1     Simply amazing. The best film of the 90's.          0.966842   \n",
       "2               The best story ever told on film          0.924182   \n",
       "3                     Busy dying or busy living?          0.909945   \n",
       "4         Great story, wondrously told and acted          0.977627   \n",
       "\n",
       "   similarities_lda  similarities_nmf  flesch_reading_ease_score  \\\n",
       "0          0.875862          0.899648                         70   \n",
       "1          0.806110          0.925397                         69   \n",
       "2          0.783039          0.789735                         70   \n",
       "3          0.881686          0.784359                         -6   \n",
       "4          0.915197          0.942112                         63   \n",
       "\n",
       "   difficult_words_score  linsear_write_score  compound_score  not_spoiler  \n",
       "0                    120                   16          0.0000          0.0  \n",
       "1                     35                   18          0.8402          0.0  \n",
       "2                     45                   14          0.6369          0.0  \n",
       "3                     76                   15          0.0000          0.0  \n",
       "4                    133                   15          0.6249          0.0  "
      ]
     },
     "execution_count": 20,
     "metadata": {},
     "output_type": "execute_result"
    }
   ],
   "source": [
    "labels = pickle.load(open('./data/labels.pkl', 'rb'))\n",
    "\n",
    "movie_reviews['not_spoiler'] = labels\n",
    "\n",
    "movie_reviews.head()"
   ]
  },
  {
   "cell_type": "markdown",
   "metadata": {},
   "source": [
    "Return to [Table of Contents](#table)"
   ]
  },
  {
   "cell_type": "markdown",
   "metadata": {},
   "source": [
    "## 3. Selecting an Example <a name=\"example\"></a>"
   ]
  },
  {
   "cell_type": "markdown",
   "metadata": {},
   "source": [
    "We select an example movie to produce visualizations for. <br>"
   ]
  },
  {
   "cell_type": "code",
   "execution_count": 26,
   "metadata": {},
   "outputs": [
    {
     "data": {
      "text/html": [
       "<div>\n",
       "<style scoped>\n",
       "    .dataframe tbody tr th:only-of-type {\n",
       "        vertical-align: middle;\n",
       "    }\n",
       "\n",
       "    .dataframe tbody tr th {\n",
       "        vertical-align: top;\n",
       "    }\n",
       "\n",
       "    .dataframe thead th {\n",
       "        text-align: right;\n",
       "    }\n",
       "</style>\n",
       "<table border=\"1\" class=\"dataframe\">\n",
       "  <thead>\n",
       "    <tr style=\"text-align: right;\">\n",
       "      <th></th>\n",
       "      <th>movie_id</th>\n",
       "      <th>counts</th>\n",
       "    </tr>\n",
       "  </thead>\n",
       "  <tbody>\n",
       "    <tr>\n",
       "      <td>0</td>\n",
       "      <td>tt0111161</td>\n",
       "      <td>2359</td>\n",
       "    </tr>\n",
       "    <tr>\n",
       "      <td>1</td>\n",
       "      <td>tt0137523</td>\n",
       "      <td>1650</td>\n",
       "    </tr>\n",
       "    <tr>\n",
       "      <td>2</td>\n",
       "      <td>tt0468569</td>\n",
       "      <td>1488</td>\n",
       "    </tr>\n",
       "    <tr>\n",
       "      <td>3</td>\n",
       "      <td>tt0110912</td>\n",
       "      <td>1273</td>\n",
       "    </tr>\n",
       "    <tr>\n",
       "      <td>4</td>\n",
       "      <td>tt0068646</td>\n",
       "      <td>1057</td>\n",
       "    </tr>\n",
       "    <tr>\n",
       "      <td>5</td>\n",
       "      <td>tt0167260</td>\n",
       "      <td>1017</td>\n",
       "    </tr>\n",
       "    <tr>\n",
       "      <td>6</td>\n",
       "      <td>tt0407887</td>\n",
       "      <td>588</td>\n",
       "    </tr>\n",
       "    <tr>\n",
       "      <td>7</td>\n",
       "      <td>tt1210819</td>\n",
       "      <td>549</td>\n",
       "    </tr>\n",
       "    <tr>\n",
       "      <td>8</td>\n",
       "      <td>tt0108052</td>\n",
       "      <td>538</td>\n",
       "    </tr>\n",
       "    <tr>\n",
       "      <td>9</td>\n",
       "      <td>tt1800241</td>\n",
       "      <td>537</td>\n",
       "    </tr>\n",
       "  </tbody>\n",
       "</table>\n",
       "</div>"
      ],
      "text/plain": [
       "    movie_id  counts\n",
       "0  tt0111161    2359\n",
       "1  tt0137523    1650\n",
       "2  tt0468569    1488\n",
       "3  tt0110912    1273\n",
       "4  tt0068646    1057\n",
       "5  tt0167260    1017\n",
       "6  tt0407887     588\n",
       "7  tt1210819     549\n",
       "8  tt0108052     538\n",
       "9  tt1800241     537"
      ]
     },
     "execution_count": 26,
     "metadata": {},
     "output_type": "execute_result"
    }
   ],
   "source": [
    "not_spoilers = movie_reviews['not_spoiler'] == 1\n",
    "\n",
    "top_10_movie_ids = movie_reviews.loc[not_spoilers, 'movie_id'].value_counts()[:10]\n",
    "\n",
    "top_10_movie_ids = pd.DataFrame(top_10_movie_ids).reset_index()\n",
    "\n",
    "top_10_movie_ids.columns = ['movie_id', 'counts']\n",
    "\n",
    "top_10_movie_ids"
   ]
  },
  {
   "cell_type": "code",
   "execution_count": 40,
   "metadata": {},
   "outputs": [
    {
     "data": {
      "text/html": [
       "<div>\n",
       "<style scoped>\n",
       "    .dataframe tbody tr th:only-of-type {\n",
       "        vertical-align: middle;\n",
       "    }\n",
       "\n",
       "    .dataframe tbody tr th {\n",
       "        vertical-align: top;\n",
       "    }\n",
       "\n",
       "    .dataframe thead th {\n",
       "        text-align: right;\n",
       "    }\n",
       "</style>\n",
       "<table border=\"1\" class=\"dataframe\">\n",
       "  <thead>\n",
       "    <tr style=\"text-align: right;\">\n",
       "      <th></th>\n",
       "      <th>movie_id</th>\n",
       "      <th>plot_summary</th>\n",
       "      <th>genre</th>\n",
       "      <th>plot_synopsis</th>\n",
       "      <th>title</th>\n",
       "    </tr>\n",
       "  </thead>\n",
       "  <tbody>\n",
       "    <tr>\n",
       "      <td>0</td>\n",
       "      <td>tt0105112</td>\n",
       "      <td>Former CIA analyst, Jack Ryan is in England wi...</td>\n",
       "      <td>[Action, Thriller]</td>\n",
       "      <td>Jack Ryan (Ford) is on a \"working vacation\" in...</td>\n",
       "      <td>Patriot Games</td>\n",
       "    </tr>\n",
       "    <tr>\n",
       "      <td>1</td>\n",
       "      <td>tt1204975</td>\n",
       "      <td>Billy (Michael Douglas), Paddy (Robert De Niro...</td>\n",
       "      <td>[Comedy]</td>\n",
       "      <td>Four boys around the age of 10 are friends in ...</td>\n",
       "      <td>Last Vegas</td>\n",
       "    </tr>\n",
       "    <tr>\n",
       "      <td>2</td>\n",
       "      <td>tt0126886</td>\n",
       "      <td>Tracy Flick is running unopposed for this year...</td>\n",
       "      <td>[Comedy, Drama, Romance]</td>\n",
       "      <td>Jim McAllister (Matthew Broderick) is a much-a...</td>\n",
       "      <td>Election</td>\n",
       "    </tr>\n",
       "    <tr>\n",
       "      <td>3</td>\n",
       "      <td>tt0286716</td>\n",
       "      <td>Bruce Banner, a brilliant scientist with a clo...</td>\n",
       "      <td>[Action, Sci-Fi]</td>\n",
       "      <td>Bruce Banner (Eric Bana) is a research scienti...</td>\n",
       "      <td>Hulk</td>\n",
       "    </tr>\n",
       "    <tr>\n",
       "      <td>4</td>\n",
       "      <td>tt0090605</td>\n",
       "      <td>57 years after Ellen Ripley had a close encoun...</td>\n",
       "      <td>[Action, Adventure, Sci-Fi]</td>\n",
       "      <td>After the opening credits, we see a spacecraft...</td>\n",
       "      <td>Aliens</td>\n",
       "    </tr>\n",
       "  </tbody>\n",
       "</table>\n",
       "</div>"
      ],
      "text/plain": [
       "    movie_id                                       plot_summary  \\\n",
       "0  tt0105112  Former CIA analyst, Jack Ryan is in England wi...   \n",
       "1  tt1204975  Billy (Michael Douglas), Paddy (Robert De Niro...   \n",
       "2  tt0126886  Tracy Flick is running unopposed for this year...   \n",
       "3  tt0286716  Bruce Banner, a brilliant scientist with a clo...   \n",
       "4  tt0090605  57 years after Ellen Ripley had a close encoun...   \n",
       "\n",
       "                         genre  \\\n",
       "0           [Action, Thriller]   \n",
       "1                     [Comedy]   \n",
       "2     [Comedy, Drama, Romance]   \n",
       "3             [Action, Sci-Fi]   \n",
       "4  [Action, Adventure, Sci-Fi]   \n",
       "\n",
       "                                       plot_synopsis          title  \n",
       "0  Jack Ryan (Ford) is on a \"working vacation\" in...  Patriot Games  \n",
       "1  Four boys around the age of 10 are friends in ...     Last Vegas  \n",
       "2  Jim McAllister (Matthew Broderick) is a much-a...       Election  \n",
       "3  Bruce Banner (Eric Bana) is a research scienti...           Hulk  \n",
       "4  After the opening credits, we see a spacecraft...         Aliens  "
      ]
     },
     "execution_count": 40,
     "metadata": {},
     "output_type": "execute_result"
    }
   ],
   "source": [
    "movie_details = pd.read_pickle('./data/movie_details.pkl.gz', compression = 'gzip')\n",
    "\n",
    "movie_details.head()"
   ]
  },
  {
   "cell_type": "code",
   "execution_count": 41,
   "metadata": {},
   "outputs": [
    {
     "data": {
      "text/html": [
       "<div>\n",
       "<style scoped>\n",
       "    .dataframe tbody tr th:only-of-type {\n",
       "        vertical-align: middle;\n",
       "    }\n",
       "\n",
       "    .dataframe tbody tr th {\n",
       "        vertical-align: top;\n",
       "    }\n",
       "\n",
       "    .dataframe thead th {\n",
       "        text-align: right;\n",
       "    }\n",
       "</style>\n",
       "<table border=\"1\" class=\"dataframe\">\n",
       "  <thead>\n",
       "    <tr style=\"text-align: right;\">\n",
       "      <th></th>\n",
       "      <th>movie_id</th>\n",
       "      <th>title</th>\n",
       "    </tr>\n",
       "  </thead>\n",
       "  <tbody>\n",
       "    <tr>\n",
       "      <td>0</td>\n",
       "      <td>tt0105112</td>\n",
       "      <td>Patriot Games</td>\n",
       "    </tr>\n",
       "    <tr>\n",
       "      <td>1</td>\n",
       "      <td>tt1204975</td>\n",
       "      <td>Last Vegas</td>\n",
       "    </tr>\n",
       "    <tr>\n",
       "      <td>2</td>\n",
       "      <td>tt0126886</td>\n",
       "      <td>Election</td>\n",
       "    </tr>\n",
       "    <tr>\n",
       "      <td>3</td>\n",
       "      <td>tt0286716</td>\n",
       "      <td>Hulk</td>\n",
       "    </tr>\n",
       "    <tr>\n",
       "      <td>4</td>\n",
       "      <td>tt0090605</td>\n",
       "      <td>Aliens</td>\n",
       "    </tr>\n",
       "    <tr>\n",
       "      <td>...</td>\n",
       "      <td>...</td>\n",
       "      <td>...</td>\n",
       "    </tr>\n",
       "    <tr>\n",
       "      <td>875</td>\n",
       "      <td>tt0120891</td>\n",
       "      <td>Wild Wild West</td>\n",
       "    </tr>\n",
       "    <tr>\n",
       "      <td>876</td>\n",
       "      <td>tt0120655</td>\n",
       "      <td>Dogma</td>\n",
       "    </tr>\n",
       "    <tr>\n",
       "      <td>877</td>\n",
       "      <td>tt0276751</td>\n",
       "      <td>About a Boy</td>\n",
       "    </tr>\n",
       "    <tr>\n",
       "      <td>878</td>\n",
       "      <td>tt1723811</td>\n",
       "      <td>Shame</td>\n",
       "    </tr>\n",
       "    <tr>\n",
       "      <td>879</td>\n",
       "      <td>tt5013056</td>\n",
       "      <td>Dunkirk</td>\n",
       "    </tr>\n",
       "  </tbody>\n",
       "</table>\n",
       "<p>880 rows × 2 columns</p>\n",
       "</div>"
      ],
      "text/plain": [
       "      movie_id           title\n",
       "0    tt0105112   Patriot Games\n",
       "1    tt1204975      Last Vegas\n",
       "2    tt0126886        Election\n",
       "3    tt0286716            Hulk\n",
       "4    tt0090605          Aliens\n",
       "..         ...             ...\n",
       "875  tt0120891  Wild Wild West\n",
       "876  tt0120655           Dogma\n",
       "877  tt0276751     About a Boy\n",
       "878  tt1723811           Shame\n",
       "879  tt5013056         Dunkirk\n",
       "\n",
       "[880 rows x 2 columns]"
      ]
     },
     "execution_count": 41,
     "metadata": {},
     "output_type": "execute_result"
    }
   ],
   "source": [
    "movie_ids_to_title = movie_details[['movie_id', 'title']]\n",
    "\n",
    "movie_ids_to_title"
   ]
  },
  {
   "cell_type": "code",
   "execution_count": 42,
   "metadata": {},
   "outputs": [
    {
     "data": {
      "text/html": [
       "<div>\n",
       "<style scoped>\n",
       "    .dataframe tbody tr th:only-of-type {\n",
       "        vertical-align: middle;\n",
       "    }\n",
       "\n",
       "    .dataframe tbody tr th {\n",
       "        vertical-align: top;\n",
       "    }\n",
       "\n",
       "    .dataframe thead th {\n",
       "        text-align: right;\n",
       "    }\n",
       "</style>\n",
       "<table border=\"1\" class=\"dataframe\">\n",
       "  <thead>\n",
       "    <tr style=\"text-align: right;\">\n",
       "      <th></th>\n",
       "      <th>movie_id</th>\n",
       "      <th>counts</th>\n",
       "      <th>title</th>\n",
       "    </tr>\n",
       "  </thead>\n",
       "  <tbody>\n",
       "    <tr>\n",
       "      <td>0</td>\n",
       "      <td>tt0111161</td>\n",
       "      <td>2359</td>\n",
       "      <td>The Shawshank Redemption</td>\n",
       "    </tr>\n",
       "    <tr>\n",
       "      <td>1</td>\n",
       "      <td>tt0137523</td>\n",
       "      <td>1650</td>\n",
       "      <td>Fight Club</td>\n",
       "    </tr>\n",
       "    <tr>\n",
       "      <td>2</td>\n",
       "      <td>tt0468569</td>\n",
       "      <td>1488</td>\n",
       "      <td>The Dark Knight</td>\n",
       "    </tr>\n",
       "    <tr>\n",
       "      <td>3</td>\n",
       "      <td>tt0110912</td>\n",
       "      <td>1273</td>\n",
       "      <td>Pulp Fiction</td>\n",
       "    </tr>\n",
       "    <tr>\n",
       "      <td>4</td>\n",
       "      <td>tt0068646</td>\n",
       "      <td>1057</td>\n",
       "      <td>The Godfather</td>\n",
       "    </tr>\n",
       "    <tr>\n",
       "      <td>5</td>\n",
       "      <td>tt0167260</td>\n",
       "      <td>1017</td>\n",
       "      <td>The Lord of the Rings: The Return of the King</td>\n",
       "    </tr>\n",
       "    <tr>\n",
       "      <td>6</td>\n",
       "      <td>tt0407887</td>\n",
       "      <td>588</td>\n",
       "      <td>The Departed</td>\n",
       "    </tr>\n",
       "    <tr>\n",
       "      <td>7</td>\n",
       "      <td>tt1210819</td>\n",
       "      <td>549</td>\n",
       "      <td>The Lone Ranger</td>\n",
       "    </tr>\n",
       "    <tr>\n",
       "      <td>8</td>\n",
       "      <td>tt0108052</td>\n",
       "      <td>538</td>\n",
       "      <td>Schindler's List</td>\n",
       "    </tr>\n",
       "    <tr>\n",
       "      <td>9</td>\n",
       "      <td>tt1800241</td>\n",
       "      <td>537</td>\n",
       "      <td>American Hustle</td>\n",
       "    </tr>\n",
       "  </tbody>\n",
       "</table>\n",
       "</div>"
      ],
      "text/plain": [
       "    movie_id  counts                                          title\n",
       "0  tt0111161    2359                       The Shawshank Redemption\n",
       "1  tt0137523    1650                                     Fight Club\n",
       "2  tt0468569    1488                                The Dark Knight\n",
       "3  tt0110912    1273                                   Pulp Fiction\n",
       "4  tt0068646    1057                                  The Godfather\n",
       "5  tt0167260    1017  The Lord of the Rings: The Return of the King\n",
       "6  tt0407887     588                                   The Departed\n",
       "7  tt1210819     549                                The Lone Ranger\n",
       "8  tt0108052     538                               Schindler's List\n",
       "9  tt1800241     537                                American Hustle"
      ]
     },
     "execution_count": 42,
     "metadata": {},
     "output_type": "execute_result"
    }
   ],
   "source": [
    "top_10_movie_ids.merge(movie_ids_to_title, on = 'movie_id')"
   ]
  },
  {
   "cell_type": "markdown",
   "metadata": {},
   "source": [
    "I selected 'The Lord of the Rings: The Return of the King' for my visualizations because I was most familiar with it. <br>"
   ]
  },
  {
   "cell_type": "code",
   "execution_count": 43,
   "metadata": {},
   "outputs": [],
   "source": [
    "movie_id = 'tt0167260'"
   ]
  },
  {
   "cell_type": "markdown",
   "metadata": {},
   "source": [
    "Return to [Table of Contents](#table)"
   ]
  },
  {
   "cell_type": "markdown",
   "metadata": {},
   "source": [
    "## 4. Topic Modeling Functions <a name=\"func\"></a>"
   ]
  },
  {
   "cell_type": "markdown",
   "metadata": {},
   "source": [
    "We first define some functions and helper functions to aid us. <br>\n",
    "We are mostly reusing the same functions from the '02 - NLP Modeling' notebook. <br>\n",
    "There is just one slight modification to the `topic_modeling` function. <br>\n",
    "It now returns the model as well."
   ]
  },
  {
   "cell_type": "code",
   "execution_count": 34,
   "metadata": {},
   "outputs": [],
   "source": [
    "#initialize lemmatizer here to avoid re-initialization later\n",
    "lemmatizer = WordNetLemmatizer()\n",
    "\n",
    "def text_preprocessing(text):\n",
    "    \"\"\"\n",
    "        Helper function for preprocessing text for vectorization\n",
    "    \n",
    "        :param text: raw text as string\n",
    "        :returns text: preprocessed text as a string\n",
    "    \"\"\"\n",
    "    #match only letters\n",
    "    text = re.sub('\\w*\\d\\w*', ' ', text) \n",
    "    \n",
    "    #lowercase all text and remove punctuation\n",
    "    text = re.sub('[%s]' % re.escape(string.punctuation), ' ', text.lower()) \n",
    "    \n",
    "    #lemmatize text and recombined into one string\n",
    "    word_list = nltk.word_tokenize(text)\n",
    "    text = ' '.join([lemmatizer.lemmatize(word) for word in word_list]) \n",
    "    \n",
    "    return text"
   ]
  },
  {
   "cell_type": "code",
   "execution_count": 35,
   "metadata": {},
   "outputs": [],
   "source": [
    "def generate_paragraphs(synopsis):\n",
    "    \"\"\"\n",
    "        The movie synopses come as one string when we need paragraphs.\n",
    "        This is a helper function to turn a plot synopsis into a paragraph.\n",
    "        \n",
    "        :param synopsis: plot synopsis as one string\n",
    "        \n",
    "        :returns p_list: a list of paragraph strings from the synopsis\n",
    "    \"\"\"\n",
    "\n",
    "    #turn synopsis into a list of sentence tokens\n",
    "    synopsis = synopsis.split('.')\n",
    "\n",
    "    p_list = []\n",
    "\n",
    "    #specify the number of sentences per paragraph\n",
    "    p_length = 5\n",
    "\n",
    "    #lower and upper indices for slicing the list of sentence tokens\n",
    "    lower = 0\n",
    "    upper = p_length\n",
    "\n",
    "    while lower <= len(synopsis):\n",
    "        #slice the list of sentence tokens from \n",
    "        #lower inclusive to upper exclusive\n",
    "        sentences = synopsis[lower:upper]\n",
    "\n",
    "        #combine sentences into a single string\n",
    "        paragraph = '. '.join(sentences)\n",
    "\n",
    "        p_list.append(paragraph)\n",
    "\n",
    "        #increment lower and upper indices for next slice \n",
    "        lower += p_length\n",
    "        upper += p_length\n",
    "    \n",
    "    return p_list"
   ]
  },
  {
   "cell_type": "code",
   "execution_count": 36,
   "metadata": {},
   "outputs": [],
   "source": [
    "def vectorize_movie_items(movie_details, movie_reviews, movie_id):\n",
    "    \"\"\"\n",
    "        Function for producing the necessary vector representations\n",
    "        of the reviews and the plot synopsis for a given movie_id\n",
    "        \n",
    "        :param movie_id: string representing which movie to use\n",
    "        :param movie_details: dataframe containing the plot synopsis of the movie\n",
    "        :param movie_reviews: dataframe containing the reviews for the movie\n",
    "        \n",
    "        :returns vectorizer: vectorizer used to vectorize the text\n",
    "        :returns synopsis_p_vector: a word matrix representation of self-designated \n",
    "                                  paragraphs in the synopsis\n",
    "        :returns synopsis_vector: a word vector representation of the synopsis\n",
    "        :returns review_word_matrix: a word matrix representation of the reviews\n",
    "    \"\"\"\n",
    "    \n",
    "    #preprocess the synopsis\n",
    "    synopsis = movie_details.loc[movie_details['movie_id'] == movie_id, 'plot_synopsis'].values[0]\n",
    "\n",
    "    #turn the synopsis from one string into a list of paragraph strings\n",
    "    synopsis_p = generate_paragraphs(synopsis)\n",
    "\n",
    "    synopsis_p = [text_preprocessing(paragraph) for paragraph in synopsis_p]\n",
    "\n",
    "    #preprocess the reviews\n",
    "    reviews = movie_reviews.loc[movie_reviews['movie_id'] == movie_id, 'review_text'].values\n",
    "    reviews = [text_preprocessing(review) for review in reviews]\n",
    "    \n",
    "    \n",
    "    #import stopwords and add custom stop words like the title\n",
    "    #'spoiler' was included as a stopword to make the task of \n",
    "    #spoiler detection fairer and more challenging\n",
    "\n",
    "    stop_words = nltk.corpus.stopwords.words('english')\n",
    "\n",
    "    new_stop_words = ['actor', 'actress', 'director', 'film', \n",
    "                      'movie', 'rating', 'spoiler', 'book']\n",
    "    \n",
    "    title = movie_details.loc[movie_details['movie_id'] == movie_id, 'title'].values[0]\n",
    "\n",
    "    title_words = text_preprocessing(title).split(' ')\n",
    "\n",
    "    stop_words.extend(new_stop_words)\n",
    "\n",
    "    \n",
    "    #vectorize the text\n",
    "    #CountVectorizer performed reasonably well,\n",
    "    #perhaps due to most plot points appearing with some frequency\n",
    "    vectorizer = CountVectorizer(ngram_range=(1, 3), stop_words = stop_words)\n",
    "\n",
    "    \n",
    "    #we fit the vectorizer on the synopsis paragraphs\n",
    "    #however, we also transform the original synopsis \n",
    "    #we want to compare each review to the synopsis\n",
    "    #a review that is very similar to a synopsis is most likely a spoiler\n",
    "    synopsis_p_vector = vectorizer.fit_transform(synopsis_p)\n",
    "\n",
    "    synopsis_vector = vectorizer.transform([text_preprocessing(synopsis)])\n",
    "\n",
    "    review_word_matrix = vectorizer.transform(reviews)\n",
    "    \n",
    "    return vectorizer, synopsis_p_vector, synopsis_vector, review_word_matrix"
   ]
  },
  {
   "cell_type": "code",
   "execution_count": 37,
   "metadata": {},
   "outputs": [],
   "source": [
    "def topic_modeling(synopsis_p_vector, synopsis_vector, review_word_matrix, \n",
    "                   vectorizer, model_name, num_components = 15):\n",
    "    \"\"\"\n",
    "        Function for performing topic modeling and dimensionality reducing \n",
    "        \n",
    "        :param synopsis_p_vector: a word matrix representation of self-designated \n",
    "                                paragraphs in the synopsis\n",
    "        :param synopsis_vector: a word vector representation of the synopsis\n",
    "        :param review_word_matrix: a word matrix representation of the reviews\n",
    "        :param vectorizer: the vectorizer used before topic modeling\n",
    "        :param model_name: string name of the model, options limited to 'lda', 'lsa', 'nmf'\n",
    "        :param num_components: number of components to use in modeling\n",
    "\n",
    "        :returns synopsis_vector: a topic representation of synopis_vector\n",
    "        :returns review_word_matrix: a topic representation of review_word_matrix\n",
    "        :returns model: the model used for topic modeling after fitting\n",
    "    \n",
    "    \"\"\"\n",
    "\n",
    "    #however, we cannot expect a review with spoiler\n",
    "    #to contains most of the words and phrases from the synopsis\n",
    "    #we need to perform some dimensionality reduction via topic modeling\n",
    "    #this will transform our words into topics\n",
    "    if model_name == 'lda':        \n",
    "        model = LatentDirichletAllocation(n_components=num_components, \n",
    "                                          random_state=42, learning_method = 'batch')        \n",
    "    elif model_name == 'lsa':\n",
    "        model = TruncatedSVD(num_components, random_state = 42)\n",
    "    elif model_name == 'nmf':\n",
    "        model = NMF(num_components)\n",
    "\n",
    "    #we fit our model on synopsis paragraphs\n",
    "    #this allows to find common topics among the paragraphs\n",
    "    #the assumption is topics will be related to plot points\n",
    "    model.fit(synopsis_p_vector)\n",
    "\n",
    "    #however, we only transform synopsis vector because \n",
    "    #we want to compare the whole synopsis to each review, \n",
    "    #not each paragraph of the synopsis to each review\n",
    "    synopsis_vector = model.transform(synopsis_vector)\n",
    "\n",
    "    #we apply the same tranformation from words to topics on the reviews\n",
    "    review_topic_matrix = model.transform(review_word_matrix)\n",
    "\n",
    "    #uncomment the line below if you want to see what topics the model produced\n",
    "    # display_topics(model, vectorizer.get_feature_names(), 10)\n",
    "    \n",
    "    return synopsis_vector, review_topic_matrix, model"
   ]
  },
  {
   "cell_type": "markdown",
   "metadata": {},
   "source": [
    "Return to [Table of Contents](#table)"
   ]
  },
  {
   "cell_type": "markdown",
   "metadata": {},
   "source": [
    "## 5. LSA Plots <a name=\"lsa\"></a>"
   ]
  },
  {
   "cell_type": "code",
   "execution_count": 44,
   "metadata": {},
   "outputs": [],
   "source": [
    "#produce the necessary word vector representations of the reviews and synopsis\n",
    "vectorizer, synopsis_p_vector, synopsis_vector, review_word_matrix = \\\n",
    "    vectorize_movie_items(movie_details, movie_reviews, movie_id)"
   ]
  },
  {
   "cell_type": "code",
   "execution_count": 66,
   "metadata": {},
   "outputs": [],
   "source": [
    "#produce the necessary topic representations of the reviews and synopsis\n",
    "synopsis_topic_vector, review_topic_matrix, lsa = topic_modeling(synopsis_p_vector, synopsis_vector, \n",
    "                                                                 review_word_matrix, vectorizer, 'lsa') "
   ]
  },
  {
   "cell_type": "code",
   "execution_count": 67,
   "metadata": {},
   "outputs": [],
   "source": [
    "var_ratio = lsa.explained_variance_ratio_"
   ]
  },
  {
   "cell_type": "markdown",
   "metadata": {},
   "source": [
    "Normally, we would expect an exponentially decaying curve for the explained variance versus the component number. <br>\n",
    "This is because the first few components usually contribute the most variance due to how SVD functions. <br>\n",
    "SVD identifies the components with the most variance."
   ]
  },
  {
   "cell_type": "code",
   "execution_count": 68,
   "metadata": {},
   "outputs": [
    {
     "data": {
      "image/png": "[encoded data removed]",
      "text/plain": [
       "<Figure size 864x576 with 1 Axes>"
      ]
     },
     "metadata": {
      "needs_background": "light"
     },
     "output_type": "display_data"
    }
   ],
   "source": [
    "num_components = [i+1 for i in range(len(var_ratio))]\n",
    "plt.figure(figsize = (12, 8))\n",
    "sns.lineplot(num_components, var_ratio)\n",
    "sns.scatterplot(num_components, var_ratio)\n",
    "plt.title('Explained Variance by LSA for Lord of the Rings Reviews ', fontsize=16, y= 1.03)\n",
    "plt.xlabel('Component Number', fontsize = 12, x=1.0)\n",
    "plt.ylabel('Explained Variance', fontsize = 12, y=1.03, rotation=0)\n",
    "plt.savefig('./img/variance_per_component_lsa.png', bbox_inches = 'tight')"
   ]
  },
  {
   "cell_type": "markdown",
   "metadata": {},
   "source": [
    "With the number of components we have, this is more than enough for LSA."
   ]
  },
  {
   "cell_type": "code",
   "execution_count": 69,
   "metadata": {},
   "outputs": [
    {
     "data": {
      "image/png": "[encoded data removed]",
      "text/plain": [
       "<Figure size 864x576 with 1 Axes>"
      ]
     },
     "metadata": {
      "needs_background": "light"
     },
     "output_type": "display_data"
    }
   ],
   "source": [
    "num_components = [i+1 for i in range(len(var_ratio))]\n",
    "plt.figure(figsize = (12, 8))\n",
    "cum_variance = np.cumsum(var_ratio)\n",
    "sns.lineplot(num_components, cum_variance)\n",
    "sns.scatterplot(num_components, cum_variance)\n",
    "plt.title('Cumulative Explained Variance by LSA for LOTR Reviews', fontsize=16, y= 1.03)\n",
    "plt.xlabel('Number of Components', fontsize = 12, x=1.01)\n",
    "plt.ylabel('Cumulative \\n Explained Variance', fontsize = 12, y=1.03, rotation=0)\n",
    "plt.savefig('./img/cumulative_variance_lsa.png', bbox_inches = 'tight')"
   ]
  },
  {
   "cell_type": "markdown",
   "metadata": {},
   "source": [
    "Return to [Table of Contents](#table)"
   ]
  },
  {
   "cell_type": "markdown",
   "metadata": {},
   "source": [
    "## 6. pyLDAvis <a name=\"lda\"></a>"
   ]
  },
  {
   "cell_type": "markdown",
   "metadata": {},
   "source": [
    "Unfortunately, we cannot produce the same visualizations for NMF as we did for LSA. <br>\n",
    "NMF does not have a measure of explained variance for each component. <br> \n",
    "This is because NMF does not have a rank matrix like SVD in LSA.\n",
    "\n",
    "LDA is a Bayesian probablistic model so it does not have explained variance for each component either. <br>\n",
    "However, we can use pyLDAvis to better visualize which words are categorized into which topics."
   ]
  },
  {
   "cell_type": "code",
   "execution_count": 59,
   "metadata": {},
   "outputs": [],
   "source": [
    "#produce the necessary topic representations of the reviews and synopsis\n",
    "synopsis_topic_vector, review_topic_matrix, nmf = topic_modeling(synopsis_p_vector, synopsis_vector, \n",
    "                                                                 review_word_matrix, vectorizer, 'nmf') "
   ]
  },
  {
   "cell_type": "code",
   "execution_count": 64,
   "metadata": {},
   "outputs": [],
   "source": [
    "#produce the necessary topic representations of the reviews and synopsis\n",
    "synopsis_topic_vector, review_topic_matrix, lda = topic_modeling(synopsis_p_vector, synopsis_vector, \n",
    "                                                                 review_word_matrix, vectorizer, 'lda') "
   ]
  },
  {
   "cell_type": "markdown",
   "metadata": {},
   "source": [
    "While it is not the only topic cluster with spoilers, the topic 12 cluster seems to contain the most coherent words and phrases that indicate some form of spoiler."
   ]
  },
  {
   "cell_type": "code",
   "execution_count": 73,
   "metadata": {
    "scrolled": false
   },
   "outputs": [
    {
     "name": "stderr",
     "output_type": "stream",
     "text": [
      "/home/kchiv/anaconda3/lib/python3.7/site-packages/pyLDAvis/_prepare.py:257: FutureWarning: Sorting because non-concatenation axis is not aligned. A future version\n",
      "of pandas will change to not sort by default.\n",
      "\n",
      "To accept the future behavior, pass 'sort=False'.\n",
      "\n",
      "To retain the current behavior and silence the warning, pass 'sort=True'.\n",
      "\n",
      "  return pd.concat([default_term_info] + list(topic_dfs))\n"
     ]
    },
    {
     "data": {
      "text/html": [
       "\n",
       "<link rel=\"stylesheet\" type=\"text/css\" href=\"https://cdn.rawgit.com/bmabey/pyLDAvis/files/ldavis.v1.0.0.css\">\n",
       "\n",
       "\n",
       "<div id=\"ldavis_el11971399533533301288151511676\"></div>\n",
       "<script type=\"text/javascript\">\n",
       "\n",
       "var ldavis_el11971399533533301288151511676_data = {\"mdsDat\": {\"x\": [114.34487915039062, 105.821044921875, -138.33447265625, -7.436697483062744, -207.55062866210938, 52.817649841308594, 168.01084899902344, -94.16960144042969, -122.84917449951172, -94.8942642211914, 24.927400588989258, -53.41346740722656, -12.255849838256836, -224.21795654296875, 36.15425491333008], \"y\": [114.30829620361328, -93.74962615966797, 95.32076263427734, 111.25969696044922, -105.47260284423828, 14.603764533996582, 6.806949615478516, -157.78955078125, -39.059417724609375, 195.40829467773438, -180.46487426757812, 26.832107543945312, -72.09320068359375, 28.070581436157227, 209.42758178710938], \"topics\": [1, 2, 3, 4, 5, 6, 7, 8, 9, 10, 11, 12, 13, 14, 15], \"cluster\": [1, 1, 1, 1, 1, 1, 1, 1, 1, 1, 1, 1, 1, 1, 1], \"Freq\": [18.405515932963155, 0.001619302080839516, 15.785050505091899, 0.001619302080839516, 3.7030327932602156, 18.396796006077516, 0.001619302080839516, 12.357771138398371, 3.2985302722695113, 4.849868033828377, 13.029408049375082, 7.327640015289045, 0.001619302080839516, 2.8382907430426396, 0.001619302080839516]}, \"tinfo\": {\"Category\": [\"Default\", \"Default\", \"Default\", \"Default\", \"Default\", \"Default\", \"Default\", \"Default\", \"Default\", \"Default\", \"Default\", \"Default\", \"Default\", \"Default\", \"Default\", \"Default\", \"Default\", \"Default\", \"Default\", \"Default\", \"Default\", \"Default\", \"Default\", \"Default\", \"Default\", \"Default\", \"Default\", \"Default\", \"Default\", \"Default\", \"Topic1\", \"Topic1\", \"Topic1\", \"Topic1\", \"Topic1\", \"Topic1\", \"Topic1\", \"Topic1\", \"Topic1\", \"Topic1\", \"Topic1\", \"Topic1\", \"Topic1\", \"Topic1\", \"Topic1\", \"Topic1\", \"Topic1\", \"Topic1\", \"Topic1\", \"Topic1\", \"Topic1\", \"Topic1\", \"Topic1\", \"Topic1\", \"Topic1\", \"Topic1\", \"Topic1\", \"Topic1\", \"Topic1\", \"Topic1\", \"Topic1\", \"Topic1\", \"Topic1\", \"Topic1\", \"Topic1\", \"Topic1\", \"Topic1\", \"Topic1\", \"Topic1\", \"Topic1\", \"Topic1\", \"Topic1\", \"Topic1\", \"Topic1\", \"Topic1\", \"Topic1\", \"Topic1\", \"Topic1\", \"Topic1\", \"Topic1\", \"Topic1\", \"Topic1\", \"Topic1\", \"Topic1\", \"Topic1\", \"Topic1\", \"Topic1\", \"Topic1\", \"Topic1\", \"Topic1\", \"Topic1\", \"Topic1\", \"Topic1\", \"Topic1\", \"Topic1\", \"Topic1\", \"Topic1\", \"Topic1\", \"Topic1\", \"Topic1\", \"Topic1\", \"Topic1\", \"Topic1\", \"Topic1\", \"Topic2\", \"Topic2\", \"Topic2\", \"Topic2\", \"Topic2\", \"Topic2\", \"Topic2\", \"Topic2\", \"Topic2\", \"Topic2\", \"Topic2\", \"Topic2\", \"Topic2\", \"Topic2\", \"Topic2\", \"Topic2\", \"Topic2\", \"Topic2\", \"Topic2\", \"Topic2\", \"Topic2\", \"Topic2\", \"Topic2\", \"Topic2\", \"Topic2\", \"Topic2\", \"Topic2\", \"Topic2\", \"Topic2\", \"Topic2\", \"Topic2\", \"Topic2\", \"Topic2\", \"Topic2\", \"Topic2\", \"Topic2\", \"Topic2\", \"Topic2\", \"Topic2\", \"Topic2\", \"Topic2\", \"Topic2\", \"Topic2\", \"Topic2\", \"Topic2\", \"Topic2\", \"Topic2\", \"Topic2\", \"Topic2\", \"Topic2\", \"Topic2\", \"Topic2\", \"Topic2\", \"Topic2\", \"Topic2\", \"Topic2\", \"Topic2\", \"Topic2\", \"Topic2\", \"Topic2\", \"Topic3\", \"Topic3\", \"Topic3\", \"Topic3\", \"Topic3\", \"Topic3\", \"Topic3\", \"Topic3\", \"Topic3\", \"Topic3\", \"Topic3\", \"Topic3\", \"Topic3\", \"Topic3\", \"Topic3\", \"Topic3\", \"Topic3\", \"Topic3\", \"Topic3\", \"Topic3\", \"Topic3\", \"Topic3\", \"Topic3\", \"Topic3\", \"Topic3\", \"Topic3\", \"Topic3\", \"Topic3\", \"Topic3\", \"Topic3\", \"Topic3\", \"Topic3\", \"Topic3\", \"Topic3\", \"Topic3\", \"Topic3\", \"Topic3\", \"Topic3\", \"Topic3\", \"Topic3\", \"Topic3\", \"Topic3\", \"Topic3\", \"Topic3\", \"Topic3\", \"Topic3\", \"Topic3\", \"Topic3\", \"Topic3\", \"Topic3\", \"Topic3\", \"Topic3\", \"Topic3\", \"Topic3\", \"Topic3\", \"Topic3\", \"Topic3\", \"Topic3\", \"Topic3\", \"Topic3\", \"Topic3\", \"Topic3\", \"Topic3\", \"Topic3\", \"Topic3\", \"Topic3\", \"Topic3\", \"Topic3\", \"Topic3\", \"Topic3\", \"Topic3\", \"Topic3\", \"Topic3\", \"Topic3\", \"Topic3\", \"Topic3\", \"Topic3\", \"Topic3\", \"Topic3\", \"Topic3\", \"Topic3\", \"Topic3\", \"Topic3\", \"Topic3\", \"Topic3\", \"Topic3\", \"Topic3\", \"Topic3\", \"Topic3\", \"Topic3\", \"Topic3\", \"Topic3\", \"Topic3\", \"Topic3\", \"Topic3\", \"Topic3\", \"Topic3\", \"Topic3\", \"Topic3\", \"Topic3\", \"Topic3\", \"Topic3\", \"Topic3\", \"Topic3\", \"Topic4\", \"Topic4\", \"Topic4\", \"Topic4\", \"Topic4\", \"Topic4\", \"Topic4\", \"Topic4\", \"Topic4\", \"Topic4\", \"Topic4\", \"Topic4\", \"Topic4\", \"Topic4\", \"Topic4\", \"Topic4\", \"Topic4\", \"Topic4\", \"Topic4\", \"Topic4\", \"Topic4\", \"Topic4\", \"Topic4\", \"Topic4\", \"Topic4\", \"Topic4\", \"Topic4\", \"Topic4\", \"Topic4\", \"Topic4\", \"Topic4\", \"Topic4\", \"Topic4\", \"Topic4\", \"Topic4\", \"Topic4\", \"Topic4\", \"Topic4\", \"Topic4\", \"Topic4\", \"Topic4\", \"Topic4\", \"Topic4\", \"Topic4\", \"Topic4\", \"Topic4\", \"Topic4\", \"Topic4\", \"Topic4\", \"Topic4\", \"Topic4\", \"Topic4\", \"Topic4\", \"Topic4\", \"Topic4\", \"Topic4\", \"Topic4\", \"Topic4\", \"Topic4\", \"Topic4\", \"Topic5\", \"Topic5\", \"Topic5\", \"Topic5\", \"Topic5\", \"Topic5\", \"Topic5\", \"Topic5\", \"Topic5\", \"Topic5\", \"Topic5\", \"Topic5\", \"Topic5\", \"Topic5\", \"Topic5\", \"Topic5\", \"Topic5\", \"Topic5\", \"Topic5\", \"Topic5\", \"Topic5\", \"Topic5\", \"Topic5\", \"Topic5\", \"Topic5\", \"Topic5\", \"Topic5\", \"Topic5\", \"Topic5\", \"Topic5\", \"Topic5\", \"Topic5\", \"Topic5\", \"Topic5\", \"Topic5\", \"Topic5\", \"Topic5\", \"Topic5\", \"Topic5\", \"Topic5\", \"Topic5\", \"Topic5\", \"Topic5\", \"Topic5\", \"Topic5\", \"Topic5\", \"Topic5\", \"Topic5\", \"Topic5\", \"Topic5\", \"Topic5\", \"Topic5\", \"Topic5\", \"Topic5\", \"Topic5\", \"Topic5\", \"Topic5\", \"Topic5\", \"Topic5\", \"Topic5\", \"Topic5\", \"Topic5\", \"Topic5\", \"Topic5\", \"Topic5\", \"Topic5\", \"Topic5\", \"Topic5\", \"Topic5\", \"Topic5\", \"Topic5\", \"Topic5\", \"Topic5\", \"Topic5\", \"Topic5\", \"Topic5\", \"Topic5\", \"Topic5\", \"Topic5\", \"Topic5\", \"Topic5\", \"Topic5\", \"Topic5\", \"Topic5\", \"Topic5\", \"Topic5\", \"Topic5\", \"Topic5\", \"Topic5\", \"Topic5\", \"Topic5\", \"Topic5\", \"Topic5\", \"Topic5\", \"Topic5\", \"Topic5\", \"Topic5\", \"Topic5\", \"Topic5\", \"Topic5\", \"Topic5\", \"Topic5\", \"Topic5\", \"Topic5\", \"Topic5\", \"Topic5\", \"Topic5\", \"Topic5\", \"Topic5\", \"Topic5\", \"Topic5\", \"Topic5\", \"Topic5\", \"Topic5\", \"Topic5\", \"Topic5\", \"Topic5\", \"Topic5\", \"Topic5\", \"Topic5\", \"Topic5\", \"Topic5\", \"Topic5\", \"Topic5\", \"Topic5\", \"Topic5\", \"Topic6\", \"Topic6\", \"Topic6\", \"Topic6\", \"Topic6\", \"Topic6\", \"Topic6\", \"Topic6\", \"Topic6\", \"Topic6\", \"Topic6\", \"Topic6\", \"Topic6\", \"Topic6\", \"Topic6\", \"Topic6\", \"Topic6\", \"Topic6\", \"Topic6\", \"Topic6\", \"Topic6\", \"Topic6\", \"Topic6\", \"Topic6\", \"Topic6\", \"Topic6\", \"Topic6\", \"Topic6\", \"Topic6\", \"Topic6\", \"Topic6\", \"Topic6\", \"Topic6\", \"Topic6\", \"Topic6\", \"Topic6\", \"Topic6\", \"Topic6\", \"Topic6\", \"Topic6\", \"Topic6\", \"Topic6\", \"Topic6\", \"Topic6\", \"Topic6\", \"Topic6\", \"Topic6\", \"Topic6\", \"Topic6\", \"Topic6\", \"Topic6\", \"Topic6\", \"Topic6\", \"Topic6\", \"Topic6\", \"Topic6\", \"Topic6\", \"Topic6\", \"Topic6\", \"Topic6\", \"Topic6\", \"Topic6\", \"Topic6\", \"Topic6\", \"Topic6\", \"Topic6\", \"Topic6\", \"Topic6\", \"Topic6\", \"Topic6\", \"Topic6\", \"Topic6\", \"Topic6\", \"Topic6\", \"Topic6\", \"Topic6\", \"Topic6\", \"Topic6\", \"Topic6\", \"Topic6\", \"Topic6\", \"Topic6\", \"Topic6\", \"Topic6\", \"Topic6\", \"Topic6\", \"Topic6\", \"Topic6\", \"Topic6\", \"Topic6\", \"Topic6\", \"Topic6\", \"Topic6\", \"Topic6\", \"Topic6\", \"Topic6\", \"Topic6\", \"Topic6\", \"Topic6\", \"Topic6\", \"Topic6\", \"Topic6\", \"Topic6\", \"Topic6\", \"Topic6\", \"Topic6\", \"Topic6\", \"Topic6\", \"Topic6\", \"Topic6\", \"Topic6\", \"Topic6\", \"Topic6\", \"Topic6\", \"Topic6\", \"Topic6\", \"Topic6\", \"Topic6\", \"Topic6\", \"Topic6\", \"Topic6\", \"Topic6\", \"Topic6\", \"Topic6\", \"Topic6\", \"Topic6\", \"Topic6\", \"Topic6\", \"Topic6\", \"Topic6\", \"Topic6\", \"Topic6\", \"Topic6\", \"Topic6\", \"Topic7\", \"Topic7\", \"Topic7\", \"Topic7\", \"Topic7\", \"Topic7\", \"Topic7\", \"Topic7\", \"Topic7\", \"Topic7\", \"Topic7\", \"Topic7\", \"Topic7\", \"Topic7\", \"Topic7\", \"Topic7\", \"Topic7\", \"Topic7\", \"Topic7\", \"Topic7\", \"Topic7\", \"Topic7\", \"Topic7\", \"Topic7\", \"Topic7\", \"Topic7\", \"Topic7\", \"Topic7\", \"Topic7\", \"Topic7\", \"Topic7\", \"Topic7\", \"Topic7\", \"Topic7\", \"Topic7\", \"Topic7\", \"Topic7\", \"Topic7\", \"Topic7\", \"Topic7\", \"Topic7\", \"Topic7\", \"Topic7\", \"Topic7\", \"Topic7\", \"Topic7\", \"Topic7\", \"Topic7\", \"Topic7\", \"Topic7\", \"Topic7\", \"Topic7\", \"Topic7\", \"Topic7\", \"Topic7\", \"Topic7\", \"Topic7\", \"Topic7\", \"Topic7\", \"Topic7\", \"Topic8\", \"Topic8\", \"Topic8\", \"Topic8\", \"Topic8\", \"Topic8\", \"Topic8\", \"Topic8\", \"Topic8\", \"Topic8\", \"Topic8\", \"Topic8\", \"Topic8\", \"Topic8\", \"Topic8\", \"Topic8\", \"Topic8\", \"Topic8\", \"Topic8\", \"Topic8\", \"Topic8\", \"Topic8\", \"Topic8\", \"Topic8\", \"Topic8\", \"Topic8\", \"Topic8\", \"Topic8\", \"Topic8\", \"Topic8\", \"Topic8\", \"Topic8\", \"Topic8\", \"Topic8\", \"Topic8\", \"Topic8\", \"Topic8\", \"Topic8\", \"Topic8\", \"Topic8\", \"Topic8\", \"Topic8\", \"Topic8\", \"Topic8\", \"Topic8\", \"Topic8\", \"Topic8\", \"Topic8\", \"Topic8\", \"Topic8\", \"Topic8\", \"Topic8\", \"Topic8\", \"Topic8\", \"Topic8\", \"Topic8\", \"Topic8\", \"Topic8\", \"Topic8\", \"Topic8\", \"Topic8\", \"Topic8\", \"Topic8\", \"Topic8\", \"Topic8\", \"Topic8\", \"Topic8\", \"Topic8\", \"Topic8\", \"Topic8\", \"Topic8\", \"Topic8\", \"Topic8\", \"Topic8\", \"Topic8\", \"Topic8\", \"Topic8\", \"Topic8\", \"Topic8\", \"Topic8\", \"Topic8\", \"Topic8\", \"Topic8\", \"Topic8\", \"Topic8\", \"Topic8\", \"Topic8\", \"Topic8\", \"Topic8\", \"Topic8\", \"Topic8\", \"Topic8\", \"Topic8\", \"Topic8\", \"Topic8\", \"Topic8\", \"Topic8\", \"Topic8\", \"Topic8\", \"Topic8\", \"Topic8\", \"Topic8\", \"Topic8\", \"Topic8\", \"Topic8\", \"Topic8\", \"Topic8\", \"Topic8\", \"Topic8\", \"Topic8\", \"Topic8\", \"Topic8\", \"Topic8\", \"Topic8\", \"Topic8\", \"Topic8\", \"Topic8\", \"Topic8\", \"Topic8\", \"Topic8\", \"Topic8\", \"Topic8\", \"Topic8\", \"Topic8\", \"Topic8\", \"Topic8\", \"Topic8\", \"Topic8\", \"Topic8\", \"Topic8\", \"Topic8\", \"Topic8\", \"Topic8\", \"Topic9\", \"Topic9\", \"Topic9\", \"Topic9\", \"Topic9\", \"Topic9\", \"Topic9\", \"Topic9\", \"Topic9\", \"Topic9\", \"Topic9\", \"Topic9\", \"Topic9\", \"Topic9\", \"Topic9\", \"Topic9\", \"Topic9\", \"Topic9\", \"Topic9\", \"Topic9\", \"Topic9\", \"Topic9\", \"Topic9\", \"Topic9\", \"Topic9\", \"Topic9\", \"Topic9\", \"Topic9\", \"Topic9\", \"Topic9\", \"Topic9\", \"Topic9\", \"Topic9\", \"Topic9\", \"Topic9\", \"Topic9\", \"Topic9\", \"Topic9\", \"Topic9\", \"Topic9\", \"Topic9\", \"Topic9\", \"Topic9\", \"Topic9\", \"Topic9\", \"Topic9\", \"Topic9\", \"Topic9\", \"Topic9\", \"Topic9\", \"Topic9\", \"Topic9\", \"Topic9\", \"Topic9\", \"Topic9\", \"Topic9\", \"Topic9\", \"Topic9\", \"Topic9\", \"Topic9\", \"Topic9\", \"Topic9\", \"Topic9\", \"Topic9\", \"Topic9\", \"Topic9\", \"Topic9\", \"Topic9\", \"Topic9\", \"Topic9\", \"Topic9\", \"Topic9\", \"Topic9\", \"Topic9\", \"Topic9\", \"Topic9\", \"Topic9\", \"Topic9\", \"Topic9\", \"Topic9\", \"Topic9\", \"Topic9\", \"Topic9\", \"Topic9\", \"Topic9\", \"Topic9\", \"Topic9\", \"Topic9\", \"Topic9\", \"Topic9\", \"Topic9\", \"Topic9\", \"Topic9\", \"Topic9\", \"Topic10\", \"Topic10\", \"Topic10\", \"Topic10\", \"Topic10\", \"Topic10\", \"Topic10\", \"Topic10\", \"Topic10\", \"Topic10\", \"Topic10\", \"Topic10\", \"Topic10\", \"Topic10\", \"Topic10\", \"Topic10\", \"Topic10\", \"Topic10\", \"Topic10\", \"Topic10\", \"Topic10\", \"Topic10\", \"Topic10\", \"Topic10\", \"Topic10\", \"Topic10\", \"Topic10\", \"Topic10\", \"Topic10\", \"Topic10\", \"Topic10\", \"Topic10\", \"Topic10\", \"Topic10\", \"Topic10\", \"Topic10\", \"Topic10\", \"Topic10\", \"Topic10\", \"Topic10\", \"Topic10\", \"Topic10\", \"Topic10\", \"Topic10\", \"Topic10\", \"Topic10\", \"Topic10\", \"Topic10\", \"Topic10\", \"Topic10\", \"Topic10\", \"Topic10\", \"Topic10\", \"Topic10\", \"Topic10\", \"Topic10\", \"Topic10\", \"Topic10\", \"Topic10\", \"Topic10\", \"Topic10\", \"Topic10\", \"Topic10\", \"Topic10\", \"Topic10\", \"Topic10\", \"Topic10\", \"Topic10\", \"Topic10\", \"Topic10\", \"Topic10\", \"Topic10\", \"Topic10\", \"Topic10\", \"Topic10\", \"Topic10\", \"Topic10\", \"Topic10\", \"Topic10\", \"Topic10\", \"Topic10\", \"Topic10\", \"Topic10\", \"Topic10\", \"Topic10\", \"Topic10\", \"Topic10\", \"Topic10\", \"Topic10\", \"Topic10\", \"Topic10\", \"Topic10\", \"Topic10\", \"Topic10\", \"Topic10\", \"Topic10\", \"Topic10\", \"Topic10\", \"Topic10\", \"Topic10\", \"Topic10\", \"Topic11\", \"Topic11\", \"Topic11\", \"Topic11\", \"Topic11\", \"Topic11\", \"Topic11\", \"Topic11\", \"Topic11\", \"Topic11\", \"Topic11\", \"Topic11\", \"Topic11\", \"Topic11\", \"Topic11\", \"Topic11\", \"Topic11\", \"Topic11\", \"Topic11\", \"Topic11\", \"Topic11\", \"Topic11\", \"Topic11\", \"Topic11\", \"Topic11\", \"Topic11\", \"Topic11\", \"Topic11\", \"Topic11\", \"Topic11\", \"Topic11\", \"Topic11\", \"Topic11\", \"Topic11\", \"Topic11\", \"Topic11\", \"Topic11\", \"Topic11\", \"Topic11\", \"Topic11\", \"Topic11\", \"Topic11\", \"Topic11\", \"Topic11\", \"Topic11\", \"Topic11\", \"Topic11\", \"Topic11\", \"Topic11\", \"Topic11\", \"Topic11\", \"Topic11\", \"Topic11\", \"Topic11\", \"Topic11\", \"Topic11\", \"Topic11\", \"Topic11\", \"Topic11\", \"Topic11\", \"Topic11\", \"Topic11\", \"Topic11\", \"Topic11\", \"Topic11\", \"Topic11\", \"Topic11\", \"Topic11\", \"Topic11\", \"Topic11\", \"Topic11\", \"Topic11\", \"Topic11\", \"Topic11\", \"Topic11\", \"Topic11\", \"Topic11\", \"Topic11\", \"Topic11\", \"Topic11\", \"Topic11\", \"Topic11\", \"Topic11\", \"Topic11\", \"Topic12\", \"Topic12\", \"Topic12\", \"Topic12\", \"Topic12\", \"Topic12\", \"Topic12\", \"Topic12\", \"Topic12\", \"Topic12\", \"Topic12\", \"Topic12\", \"Topic12\", \"Topic12\", \"Topic12\", \"Topic12\", \"Topic12\", \"Topic12\", \"Topic12\", \"Topic12\", \"Topic12\", \"Topic12\", \"Topic12\", \"Topic12\", \"Topic12\", \"Topic12\", \"Topic12\", \"Topic12\", \"Topic12\", \"Topic12\", \"Topic12\", \"Topic12\", \"Topic12\", \"Topic12\", \"Topic12\", \"Topic12\", \"Topic12\", \"Topic12\", \"Topic12\", \"Topic12\", \"Topic12\", \"Topic12\", \"Topic12\", \"Topic12\", \"Topic12\", \"Topic12\", \"Topic12\", \"Topic12\", \"Topic12\", \"Topic12\", \"Topic12\", \"Topic12\", \"Topic12\", \"Topic12\", \"Topic12\", \"Topic12\", \"Topic12\", \"Topic12\", \"Topic12\", \"Topic12\", \"Topic12\", \"Topic12\", \"Topic12\", \"Topic12\", \"Topic12\", \"Topic12\", \"Topic12\", \"Topic12\", \"Topic12\", \"Topic12\", \"Topic12\", \"Topic12\", \"Topic12\", \"Topic12\", \"Topic12\", \"Topic12\", \"Topic12\", \"Topic12\", \"Topic12\", \"Topic12\", \"Topic12\", \"Topic12\", \"Topic12\", \"Topic12\", \"Topic12\", \"Topic12\", \"Topic12\", \"Topic12\", \"Topic12\", \"Topic12\", \"Topic12\", \"Topic12\", \"Topic12\", \"Topic12\", \"Topic12\", \"Topic13\", \"Topic13\", \"Topic13\", \"Topic13\", \"Topic13\", \"Topic13\", \"Topic13\", \"Topic13\", \"Topic13\", \"Topic13\", \"Topic13\", \"Topic13\", \"Topic13\", \"Topic13\", \"Topic13\", \"Topic13\", \"Topic13\", \"Topic13\", \"Topic13\", \"Topic13\", \"Topic13\", \"Topic13\", \"Topic13\", \"Topic13\", \"Topic13\", \"Topic13\", \"Topic13\", \"Topic13\", \"Topic13\", \"Topic13\", \"Topic13\", \"Topic13\", \"Topic13\", \"Topic13\", \"Topic13\", \"Topic13\", \"Topic13\", \"Topic13\", \"Topic13\", \"Topic13\", \"Topic13\", \"Topic13\", \"Topic13\", \"Topic13\", \"Topic13\", \"Topic13\", \"Topic13\", \"Topic13\", \"Topic13\", \"Topic13\", \"Topic13\", \"Topic13\", \"Topic13\", \"Topic13\", \"Topic13\", \"Topic13\", \"Topic13\", \"Topic13\", \"Topic13\", \"Topic13\", \"Topic14\", \"Topic14\", \"Topic14\", \"Topic14\", \"Topic14\", \"Topic14\", \"Topic14\", \"Topic14\", \"Topic14\", \"Topic14\", \"Topic14\", \"Topic14\", \"Topic14\", \"Topic14\", \"Topic14\", \"Topic14\", \"Topic14\", \"Topic14\", \"Topic14\", \"Topic14\", \"Topic14\", \"Topic14\", \"Topic14\", \"Topic14\", \"Topic14\", \"Topic14\", \"Topic14\", \"Topic14\", \"Topic14\", \"Topic14\", \"Topic14\", \"Topic14\", \"Topic14\", \"Topic14\", \"Topic14\", \"Topic14\", \"Topic14\", \"Topic14\", \"Topic14\", \"Topic14\", \"Topic14\", \"Topic14\", \"Topic14\", \"Topic14\", \"Topic14\", \"Topic14\", \"Topic14\", \"Topic14\", \"Topic14\", \"Topic14\", \"Topic14\", \"Topic14\", \"Topic14\", \"Topic14\", \"Topic14\", \"Topic14\", \"Topic14\", \"Topic14\", \"Topic15\", \"Topic15\", \"Topic15\", \"Topic15\", \"Topic15\", \"Topic15\", \"Topic15\", \"Topic15\", \"Topic15\", \"Topic15\", \"Topic15\", \"Topic15\", \"Topic15\", \"Topic15\", \"Topic15\", \"Topic15\", \"Topic15\", \"Topic15\", \"Topic15\", \"Topic15\", \"Topic15\", \"Topic15\", \"Topic15\", \"Topic15\", \"Topic15\", \"Topic15\", \"Topic15\", \"Topic15\", \"Topic15\", \"Topic15\", \"Topic15\", \"Topic15\", \"Topic15\", \"Topic15\", \"Topic15\", \"Topic15\", \"Topic15\", \"Topic15\", \"Topic15\", \"Topic15\", \"Topic15\", \"Topic15\", \"Topic15\", \"Topic15\", \"Topic15\", \"Topic15\", \"Topic15\", \"Topic15\", \"Topic15\", \"Topic15\", \"Topic15\", \"Topic15\", \"Topic15\", \"Topic15\", \"Topic15\", \"Topic15\", \"Topic15\", \"Topic15\", \"Topic15\", \"Topic15\"], \"Freq\": [14.0, 18.0, 11.0, 9.0, 5.0, 8.0, 17.0, 6.0, 7.0, 16.0, 5.0, 4.0, 6.0, 4.0, 4.0, 4.0, 3.0, 6.0, 6.0, 3.0, 4.0, 3.0, 6.0, 4.0, 5.0, 4.0, 12.0, 7.0, 4.0, 7.0, 2.4099770161142398, 1.6241149456421253, 1.6241149456421253, 1.6241149456421247, 1.6241149456421224, 0.838252875169963, 0.838252875169963, 0.838252875169963, 0.838252875169963, 0.838252875169963, 0.838252875169963, 0.838252875169963, 0.838252875169963, 0.838252875169963, 0.838252875169963, 0.838252875169963, 0.838252875169963, 0.838252875169963, 0.838252875169963, 0.838252875169963, 0.838252875169963, 0.838252875169963, 0.838252875169963, 0.838252875169963, 0.838252875169963, 0.838252875169963, 0.838252875169963, 0.838252875169963, 0.838252875169963, 0.838252875169963, 3.1958390906610252, 3.1958390906610252, 3.1958390906610252, 0.838252875169963, 0.838252875169963, 3.19583909433994, 0.838252875169963, 1.6241149449358416, 1.624114947736838, 1.6241149472116179, 1.6241149458629722, 5.553425306797234, 2.4099770227774324, 2.409977011483105, 0.838252875169963, 0.838252875169963, 0.838252875169963, 0.838252875169963, 0.838252875169963, 0.838252875169963, 4.767563233699042, 1.6241149485081314, 1.6241149478345653, 1.6241149458695856, 2.4099770252065844, 0.838252875169963, 0.838252875169963, 1.6241149449949923, 1.6241149449949923, 0.838252875169963, 2.4099770196050323, 1.6241149484510324, 0.838252875169963, 0.838252875169963, 1.6241149489120472, 1.6241149489120472, 0.838252875169963, 0.838252875169963, 1.6241149430896038, 0.838252875169963, 2.409977008268765, 0.838252875169963, 2.409977014934057, 1.624114946603985, 1.9403340217570262e-05, 1.9403340217570262e-05, 1.9403340217570262e-05, 1.9403340217570262e-05, 1.9403340217570262e-05, 1.9403340217570262e-05, 1.9403340217570262e-05, 1.9403340217570262e-05, 1.9403340217570262e-05, 1.9403340217570262e-05, 1.9403340217570262e-05, 1.9403340217570262e-05, 1.9403340217570262e-05, 1.9403340217570262e-05, 1.9403340217570262e-05, 1.9403340217570262e-05, 1.9403340217570262e-05, 1.9403340217570262e-05, 1.9403340217570262e-05, 1.9403340217570262e-05, 1.9403340217570262e-05, 1.9403340217570262e-05, 1.9403340217570262e-05, 1.9403340217570262e-05, 1.9403340217570262e-05, 1.9403340217570262e-05, 1.9403340217570262e-05, 1.9403340217570262e-05, 1.9403340217570262e-05, 1.9403340217570262e-05, 1.940334021758806e-05, 1.940334021757388e-05, 1.9403340217573562e-05, 1.9403340217573515e-05, 1.940334021757327e-05, 1.940334021757327e-05, 1.940334021757327e-05, 1.940334021757327e-05, 1.940334021757327e-05, 1.940334021757327e-05, 1.940334021757327e-05, 1.940334021757327e-05, 1.940334021757327e-05, 1.940334021757327e-05, 1.940334021757327e-05, 1.940334021757327e-05, 1.940334021757327e-05, 1.940334021757327e-05, 1.9403340217572265e-05, 1.94033402175722e-05, 1.940334021757202e-05, 1.940334021757196e-05, 1.940334021757195e-05, 1.9403340217571834e-05, 1.9403340217571828e-05, 1.9403340217571824e-05, 1.9403340217571753e-05, 1.940334021757172e-05, 1.9403340217571682e-05, 1.9403340217571665e-05, 1.5416068158466525, 1.5416068158466525, 1.541606815846649, 1.541606815846649, 0.7956680339852266, 0.7956680339852266, 0.7956680339852266, 0.7956680339852266, 0.7956680339852266, 0.7956680339852266, 0.7956680339852266, 0.7956680339852266, 0.7956680339852266, 0.7956680339852266, 0.7956680339852266, 0.7956680339852266, 0.7956680339852266, 0.7956680339852266, 0.7956680339852266, 0.7956680339852266, 0.7956680339852266, 0.7956680339852266, 0.7956680339852266, 0.7956680339852266, 0.7956680339852266, 0.7956680339852266, 0.7956680339852266, 0.7956680339852266, 0.7956680339852266, 0.7956680339852266, 1.5416068148761626, 0.7956680339852266, 1.5416068161690062, 0.7956680339852266, 0.7956680339852266, 0.7956680339852266, 0.7956680339852266, 0.7956680339852266, 0.7956680339852266, 0.7956680339852266, 0.7956680339852266, 0.7956680339852266, 0.7956680339852266, 0.7956680339852266, 0.7956680339852266, 0.7956680339852266, 0.7956680339852266, 0.7956680339852266, 0.7956680339852266, 0.7956680339852266, 0.7956680339852266, 0.7956680339852266, 0.7956680339852266, 2.287545602497955, 0.7956680339852266, 1.541606816736394, 1.541606816875847, 3.779423175686457, 3.0334843847011483, 2.2875455958895734, 2.2875456029245553, 1.541606813914881, 1.5416068130409364, 0.7956680339852266, 0.7956680339852266, 0.7956680339852266, 3.0334843767640014, 1.5416068165574273, 2.2875455871791286, 2.2875455836019127, 1.5416068144661645, 0.7956680339852266, 0.7956680339852266, 0.7956680339852253, 0.7956680339852253, 0.7956680339852266, 0.7956680339852253, 1.5416068148397493, 0.7956680339852253, 0.7956680339852266, 1.5416067938814926, 0.7956680339852266, 0.7956680339852266, 0.7956680339852266, 0.7956680339852266, 0.7956680339852266, 0.7956680339852266, 0.7956680339852266, 0.7956680339852266, 0.7956680339852253, 0.7956680339852253, 0.7956680339852253, 0.7956680339852266, 0.7956680339852253, 0.7956680339852266, 0.7956680339852253, 0.7956680392577056, 0.7956680345414281, 0.7956680344480944, 0.7956680344213581, 0.7956680343131519, 0.7956680342557648, 0.7956680341913768, 0.7956680341870874, 1.9403340217570262e-05, 1.9403340217570262e-05, 1.9403340217570262e-05, 1.9403340217570262e-05, 1.9403340217570262e-05, 1.9403340217570262e-05, 1.9403340217570262e-05, 1.9403340217570262e-05, 1.9403340217570262e-05, 1.9403340217570262e-05, 1.9403340217570262e-05, 1.9403340217570262e-05, 1.9403340217570262e-05, 1.9403340217570262e-05, 1.9403340217570262e-05, 1.9403340217570262e-05, 1.9403340217570262e-05, 1.9403340217570262e-05, 1.9403340217570262e-05, 1.9403340217570262e-05, 1.9403340217570262e-05, 1.9403340217570262e-05, 1.9403340217570262e-05, 1.9403340217570262e-05, 1.9403340217570262e-05, 1.9403340217570262e-05, 1.9403340217570262e-05, 1.9403340217570262e-05, 1.9403340217570262e-05, 1.9403340217570262e-05, 1.940334021758806e-05, 1.940334021757388e-05, 1.9403340217573562e-05, 1.9403340217573515e-05, 1.940334021757327e-05, 1.940334021757327e-05, 1.940334021757327e-05, 1.940334021757327e-05, 1.940334021757327e-05, 1.940334021757327e-05, 1.940334021757327e-05, 1.940334021757327e-05, 1.940334021757327e-05, 1.940334021757327e-05, 1.940334021757327e-05, 1.940334021757327e-05, 1.940334021757327e-05, 1.940334021757327e-05, 1.9403340217572265e-05, 1.94033402175722e-05, 1.940334021757202e-05, 1.940334021757196e-05, 1.940334021757195e-05, 1.9403340217571834e-05, 1.9403340217571828e-05, 1.9403340217571824e-05, 1.9403340217571753e-05, 1.940334021757172e-05, 1.9403340217571682e-05, 1.9403340217571665e-05, 0.7974190703084558, 0.7974130349649751, 0.4115711330623951, 0.4115711330623951, 0.4115711330623951, 0.4115711330623951, 0.4115711330623951, 0.4115711330623951, 0.4115711330623951, 0.4115711330623951, 0.4115711330623951, 0.4115711330623951, 0.4115711330623951, 0.4115711330623951, 0.4115711330623951, 0.4115711330623951, 0.4115711330623951, 0.4115711330623951, 0.4115711330623951, 0.4115711330623951, 0.4115711330623951, 0.4115711330623951, 0.4115711330623951, 0.4115711330623951, 0.4115711330623951, 0.4115711330623951, 0.4115711330623951, 0.4115711330623951, 0.4115711330623951, 0.4115711330623951, 0.4115711330623951, 0.4115711330623951, 0.4115711330623951, 0.4115711330623951, 0.4115711330623951, 0.4115711330623951, 0.4115711330623951, 0.4115711330623951, 0.4115711330623951, 0.4115711330623951, 0.4115711330623951, 0.4115711330623951, 0.4115711330623951, 0.4115711330623951, 0.4115711330623951, 0.4115711330623951, 0.4115711330623951, 0.4115711330623951, 0.4115711330623951, 0.4115711330623951, 0.4115711330623951, 0.4115711330623951, 0.4115711330623951, 0.4115711330623951, 0.4115711330623951, 0.4115711330623951, 0.4115711330623951, 0.4115711330623951, 0.4115711330623951, 0.4115711330623951, 0.4115711330623951, 0.4115711330623951, 0.4115711330623951, 0.4115711330623951, 0.4115711330623951, 0.4115711330623951, 0.4115711330623951, 0.4115711330623951, 0.4115711330623951, 0.4115711330623951, 0.4115711330623951, 0.4115711330623951, 0.4115711330623951, 0.4115711330623951, 0.4115711330623951, 0.4115711330623951, 0.4115711330623951, 0.4115711330623951, 0.4115711330623951, 0.4115711330623951, 0.4115711330623951, 0.4115711330623951, 0.4115711330623951, 0.4115711330623951, 0.4115711330623951, 0.4115711330623951, 0.4115711330623951, 0.4115711330623951, 0.4115711330623951, 0.4115711330623951, 0.4115711330623951, 0.4115711330623951, 0.4115711330623951, 0.4115711330623951, 0.4115711330623951, 0.4115711330623951, 0.7974190726785126, 0.4115711330623951, 0.4115711330623951, 0.797419077832968, 0.4130101583860089, 0.41273635021227345, 0.4127363501803262, 0.4125510998494341, 0.41228812734625353, 0.41228812603171, 0.41228812603171, 0.41157113619427776, 0.4115711354739022, 0.4115711352646609, 0.4115711349259584, 0.41157113472469714, 0.41157113472469714, 0.41157113471023293, 0.4115711339308098, 0.411571133903374, 0.411571133903374, 0.41157113386359895, 0.41157113381160015, 0.41157113377076154, 0.41157113377076154, 0.41157113377076154, 0.41157113367547926, 0.41157113365611275, 0.41157113365611275, 0.41157113359946124, 3.2076943957545074, 1.6301397748915165, 1.630139774891517, 1.630139774891517, 1.6301397748915147, 1.6301397748915127, 1.6301397741652968, 0.8413624644599713, 0.8413624644599713, 0.8413624644599713, 0.8413624644599713, 0.8413624644599713, 0.8413624644599713, 0.8413624644599713, 0.8413624644599713, 0.8413624644599713, 0.8413624644599713, 0.8413624644599713, 0.8413624644599713, 0.8413624644599713, 0.8413624644599713, 0.8413624644599713, 0.8413624644599713, 0.8413624644599713, 0.8413624644599713, 0.8413624644599713, 0.8413624644599713, 0.8413624644599713, 0.8413624644599713, 0.8413624644599713, 3.207694402058359, 1.630139774415614, 0.8413624644599713, 0.8413624644599713, 1.627757756586302, 0.8413624644599713, 0.8413624644599713, 0.8413624644599712, 0.8413624644599712, 0.8413624644599712, 0.8413624644599712, 0.8413624644599713, 0.8413624644599712, 0.8413624644599713, 0.8413624644599713, 0.8413624644599713, 0.8413624644599713, 0.8413624644599713, 0.8413624644599713, 0.8413624644599713, 0.8413624644599713, 0.8413624644599712, 0.8413624644599713, 0.8413624644599713, 0.8413624644599713, 0.8413624644599713, 3.9964717104461545, 0.8413624644599713, 0.8413624644599713, 0.8413624644599712, 1.630139776030241, 1.630139775038054, 0.8413624644599713, 0.8413624644599713, 0.8413624644599712, 0.8413624644599713, 0.8413624644599712, 0.8413624644599712, 0.8413624644599712, 0.8413624644599712, 0.8413624644599713, 0.8413624644599713, 0.8413624644599712, 0.8413624644599712, 0.8413624644599713, 2.418917090328211, 0.8413624644599713, 0.8413624644599713, 0.8413624644599713, 0.8413624644599713, 0.8413624644599713, 0.8413624644599713, 0.8413624644599713, 0.8413624644599713, 1.630139775464932, 1.630139775464932, 6.360800350905399, 2.418917089253451, 0.8413624644599713, 4.785249022176757, 0.8413624644599713, 0.8413624644599713, 0.8413624644599713, 0.8413624644599713, 0.8413624644599713, 0.8413624644599713, 0.8413624644599713, 0.8413624644599712, 0.8413624644599712, 0.8413624644599713, 0.8413624644599713, 0.8413624644599712, 0.8413624644599713, 0.8413624644599713, 0.8413624644599713, 0.8413624644599713, 0.8413624644599713, 2.4159753370773966, 1.6301397756025018, 0.8413624644599713, 0.8413624644599713, 3.996471717506467, 0.8413624644599713, 0.8413624644599713, 0.8413624644599713, 2.4174513597562495, 2.4174513597562495, 0.8413624644599712, 0.8413624644599713, 1.6301397763746146, 0.8413624644599713, 0.8413624644599713, 0.8413624644599713, 0.8413624644599713, 2.4189170896645655, 0.8413624644599712, 0.8413624644599712, 0.8413624644599713, 3.9964717030950867, 2.417451364520847, 1.6301397725014288, 0.8413624644599712, 3.207694389508548, 1.6301397748184443, 1.9403340217570262e-05, 1.9403340217570262e-05, 1.9403340217570262e-05, 1.9403340217570262e-05, 1.9403340217570262e-05, 1.9403340217570262e-05, 1.9403340217570262e-05, 1.9403340217570262e-05, 1.9403340217570262e-05, 1.9403340217570262e-05, 1.9403340217570262e-05, 1.9403340217570262e-05, 1.9403340217570262e-05, 1.9403340217570262e-05, 1.9403340217570262e-05, 1.9403340217570262e-05, 1.9403340217570262e-05, 1.9403340217570262e-05, 1.9403340217570262e-05, 1.9403340217570262e-05, 1.9403340217570262e-05, 1.9403340217570262e-05, 1.9403340217570262e-05, 1.9403340217570262e-05, 1.9403340217570262e-05, 1.9403340217570262e-05, 1.9403340217570262e-05, 1.9403340217570262e-05, 1.9403340217570262e-05, 1.9403340217570262e-05, 1.940334021758806e-05, 1.940334021757388e-05, 1.9403340217573562e-05, 1.9403340217573515e-05, 1.940334021757327e-05, 1.940334021757327e-05, 1.940334021757327e-05, 1.940334021757327e-05, 1.940334021757327e-05, 1.940334021757327e-05, 1.940334021757327e-05, 1.940334021757327e-05, 1.940334021757327e-05, 1.940334021757327e-05, 1.940334021757327e-05, 1.940334021757327e-05, 1.940334021757327e-05, 1.940334021757327e-05, 1.9403340217572265e-05, 1.94033402175722e-05, 1.940334021757202e-05, 1.940334021757196e-05, 1.940334021757195e-05, 1.9403340217571834e-05, 1.9403340217571828e-05, 1.9403340217571824e-05, 1.9403340217571753e-05, 1.940334021757172e-05, 1.9403340217571682e-05, 1.9403340217571665e-05, 0.7371679131753992, 0.7371679131753992, 0.7371679131753992, 0.7371679131753992, 0.7371679131753992, 0.7371679131753992, 0.7371679131753992, 0.7371679131753992, 0.7371679131753992, 0.7371679131753992, 0.7371679131753992, 0.7371679131753992, 0.7371679131753992, 0.7371679131753992, 0.7371679131753992, 0.7371679131753992, 0.7371679131753992, 0.7371679131753992, 0.7371679131753992, 0.7371679131753992, 0.7371679131753992, 0.7371679131753992, 0.7371679131753992, 0.7371679131753992, 0.7371679131753992, 0.7371679131753992, 0.7371679131753992, 0.7371679131753992, 0.7371679131753992, 0.7371679131753992, 0.7371679131753992, 0.7371679131753992, 0.7371679131753992, 0.7371679131753992, 0.7371679131753992, 0.7371679131753992, 0.7371679131753992, 0.7371679131753992, 0.7371679131753992, 0.7371679131753992, 0.7371679131753992, 0.7371679131753992, 0.7371679131753992, 0.7371679131753992, 0.7371679131753992, 0.7371679131753992, 0.7371679131753992, 0.7371679131753992, 0.7371679131753992, 0.7371679131753992, 0.7371679131753992, 0.7371679131753992, 0.7371679131753992, 0.7371679131753992, 0.7371679131753992, 0.7371679131753992, 0.7371679131753992, 0.7371679131753992, 0.7371679131753992, 0.7371679131753992, 0.7371679131753992, 0.7371679131753992, 0.7371679131753992, 0.7371679131753992, 0.7371679131753992, 0.7371679131753992, 0.7371679131753992, 0.7371679131753992, 0.7371679131753992, 0.7371679131753992, 0.7371679131753992, 1.4282628509914435, 1.428262833244053, 2.1193577527985616, 0.7371679131753992, 1.4282628333911198, 0.7371679131753992, 1.4282628355160396, 0.7371679131753985, 0.7371679131753985, 0.7371679131753985, 0.7371679131753985, 0.7371679131753985, 0.7371679131753985, 0.7371679131753985, 0.7371679131753985, 0.7371679131753985, 0.7371679131753985, 0.7371679131753985, 0.7371679131753985, 0.7371679131753985, 0.7371679131753985, 0.7371679131753985, 0.7371679131753985, 0.7371679131753985, 0.7371679131753985, 0.7371679131753985, 0.7371679131753985, 2.119357755522749, 0.7371679131753992, 3.5015475964969798, 0.7371679131753992, 0.7371679131753992, 1.4282628298222364, 2.8104526808011108, 0.7371679131753992, 2.1193577550775577, 2.1193577556210044, 1.4282628356205667, 1.4282628354747404, 0.7371679131753992, 0.7371679131753985, 0.7371679131753985, 2.1193577427264736, 0.7371679131753992, 1.428262830714826, 1.4282628319922528, 0.7371679131753985, 0.7371679131753992, 0.7371679141365807, 0.7371679140382139, 0.7371679139404587, 0.7371679139404587, 0.7371679138987371, 0.7371679138492834, 0.7371679138081438, 0.7371679138032967, 0.7371679137665988, 0.7371679137358629, 0.7371679135512652, 0.7371679135211763, 0.7371679135097201, 0.7371679134734404, 0.38210731673865506, 0.38210731673865506, 0.38210731673865506, 0.38210731673865506, 0.38210731673865506, 0.38210731673865506, 0.38210731673865506, 0.38210731673865506, 0.38210731673865506, 0.38210731673865506, 0.38210731673865506, 0.38210731673865506, 0.38210731673865506, 0.38210731673865506, 0.38210731673865506, 0.38210731673865506, 0.38210731673865506, 0.38210731673865506, 0.38210731673865506, 0.38210731673865506, 0.38210731673865506, 0.38210731673865506, 0.38210731673865506, 0.38210731673865506, 0.38210731673865506, 0.38210731673865506, 0.38210731673865506, 0.38210731673865506, 0.38210731673865506, 0.38210731673865506, 0.38210731673865506, 0.38210731673865506, 0.38210731673865506, 0.38210731673865506, 0.38210731673865506, 0.38210731673865506, 0.38210731673865506, 0.38210731673865506, 0.38210731673865506, 0.38210731673865506, 1.0985585504394344, 1.0985585495645651, 0.38210731673865506, 0.38210731673865506, 0.38210731673865506, 0.38210731673865506, 0.38210731673865506, 0.38210731673865506, 0.38210731673865506, 0.38210731673865506, 0.38210731673865506, 0.7403329285421343, 0.38210731673865506, 0.38210731673865506, 0.38210731673865506, 0.38210731673865506, 0.38210731673865506, 0.38210731673865506, 0.38210731673865506, 0.38210731673865506, 0.38210731673865506, 0.38210731673865506, 0.38210731673865506, 0.38210731673865506, 0.38210731673865506, 0.38210731673865506, 0.38210731673865506, 0.38210731673865506, 0.38210731673865506, 0.38210731673865506, 0.38210731673865506, 0.38210731673865506, 0.38210731673865506, 0.3821073192848071, 0.38210731914927937, 0.38210731816942456, 0.38210731816942456, 0.38210731799345893, 0.38210731789526386, 0.3821073175499693, 0.38210731748141463, 0.3821073174349823, 0.38210731742840964, 0.3821073174218783, 0.3821073174218783, 0.3821073174218783, 0.3821073173102355, 0.38210731731023473, 0.38210731725541563, 0.38210731725541563, 0.3821073169547881, 0.3821073167536435, 0.3821073167536435, 0.38210731673865506, 0.4817389277147329, 0.4817389277147329, 0.4817389277147329, 0.4817389277147329, 0.4817389277147329, 0.4817389277147329, 0.4817389277147329, 0.4817389277147329, 0.4817389277147329, 0.4817389277147329, 0.4817389277147329, 0.4817389277147329, 0.4817389277147329, 0.4817389277147329, 0.4817389277147329, 0.4817389277147329, 0.4817389277147329, 0.4817389277147329, 0.4817389277147329, 0.4817389277147329, 0.4817389277147329, 0.4817389277147329, 0.4817389277147329, 0.4817389277147329, 0.4817389277147329, 0.4817389277147329, 0.4817389277147329, 0.4817389277147329, 0.4817389277147329, 0.4817389277147329, 1.3849994257593978, 0.4817389277147329, 0.9333691753736402, 0.9333691767882428, 0.4817389277147329, 0.4817389277147329, 0.4817389277147329, 0.4817389277147329, 0.4817389277147329, 0.4817389277147329, 0.4817389277147329, 0.4817389277147329, 0.4817389277147329, 0.4817389277147329, 0.4817389277147329, 0.4817389277147329, 0.4817389277147329, 0.4817389277147329, 0.4817389277147329, 0.4817389277147329, 0.4817389277147329, 0.4817389277147329, 0.4817389277147329, 0.4817389277147329, 0.4817389277147329, 0.4817389277147329, 0.4817389277147329, 0.4817389277147329, 0.4817389277147329, 0.4817389277147329, 0.4817389277147329, 0.4817389277147329, 1.3849994275400808, 0.4817389277147329, 1.3849994352698227, 0.9333691780986202, 0.9333691780986202, 0.9333691823829633, 0.9333691805801292, 0.4817389277147329, 0.4817389277147329, 0.4817389277147329, 0.4817389277147329, 0.4817389277147329, 0.4817389277147329, 0.4817389277147329, 0.4817389277147329, 0.4817389277147329, 0.4817389277147329, 0.4817389277147329, 0.48173893044870736, 0.4817389298328048, 0.4817389294821687, 0.48173892940622043, 0.4817389294026199, 0.48173892918718664, 0.48173892913575495, 0.4817389291175588, 0.4817389290839943, 0.48173892896629167, 0.4817389288812799, 0.48173892883822245, 0.48173892872887314, 0.48173892852638767, 0.4817389285258101, 0.48173892852326416, 0.48173892850343164, 0.4817389284756607, 0.4817389283804381, 0.481738928363372, 0.48173892834335796, 2.1639789497318125, 1.458333640036598, 1.458333640036598, 1.458333640036598, 1.458333640036598, 1.4583336400365963, 1.458333640036597, 1.458333640036597, 2.869624263083239, 0.7526883303413523, 0.7526883303413523, 0.7526883303413523, 0.7526883303413523, 0.7526883303413523, 0.7526883303413523, 0.7526883303413523, 0.7526883303413523, 0.7526883303413523, 0.7526883303413523, 0.7526883303413523, 0.7526883303413523, 0.7526883303413523, 0.7526883303413523, 0.7526883303413523, 0.7526883303413523, 0.7526883303413523, 0.7526883303413523, 0.7526883303413523, 0.7526883303413523, 0.7526883303413523, 0.7526883303413523, 0.7526883303413523, 0.7526883303413523, 0.7526883303413523, 0.7526883303413523, 0.7526883303413523, 0.7526883303413523, 0.7526883303413523, 0.7526883303413523, 0.7526883303413523, 0.7526883303413523, 0.7526883303413523, 0.7526883303413523, 0.7526883303413523, 0.7526883303413523, 0.7526883303413523, 0.7526883303413523, 0.7526883303413523, 0.7526883303413523, 0.7526883303413523, 0.7526883303413523, 0.7526883303413523, 0.7526883303413523, 2.16397895560955, 0.7526883303413523, 0.7526883303413523, 0.7526883303413523, 1.4583336420679955, 2.8696242688659095, 0.7526883303413523, 2.869624268036709, 1.458333641116289, 0.7526883303413523, 1.4583336413413448, 2.1639789401083496, 2.8696242691017626, 1.4583336430544642, 2.1639789541860197, 1.4583336405958545, 0.7526883303413523, 2.1639789572961274, 0.7526883303413523, 2.1639789533595453, 0.7526883303413523, 0.7526883303413523, 1.4583336432491094, 1.4583336439271082, 1.4583336390964101, 1.4583336390964101, 1.458333646045832, 1.4583336421387798, 0.7526883303413523, 1.4583336357193868, 0.7526883313562713, 1.1585843307757808, 1.1585843307757808, 1.1585843307757797, 1.1585843307757804, 1.1585843307757804, 0.5979790094325943, 0.5979790094325943, 0.5979790094325943, 0.5979790094325943, 0.5979790094325943, 0.5979790094325943, 0.5979790094325943, 0.5979790094325943, 0.5979790094325943, 0.5979790094325943, 0.5979790094325943, 0.5979790094325943, 0.5979790094325943, 0.5979790094325943, 0.5979790094325943, 0.5979790094325943, 0.5979790094325943, 0.5979790094325943, 0.5979790094325943, 0.5979790094325943, 0.5979790094325943, 0.5979790094325943, 0.5979790094325943, 0.5979790094325943, 0.5979790094325943, 0.5979790094325943, 0.5979790094325943, 0.5979790094325943, 0.5979790094325943, 0.5979790094325943, 0.5979790094325943, 0.5979790094325943, 0.5979790094325943, 0.5979790094325943, 0.5979790094325943, 0.5979790094325943, 0.5979790094325943, 0.5979790094325943, 0.5979790094325943, 0.5979790094325943, 0.5979790094325943, 0.5979790094325943, 0.5979790094325943, 0.5979790094325943, 0.5979790094325943, 0.5979790094325943, 0.5979790094325943, 0.5979790094325943, 0.5979790094325943, 0.5979790094325943, 0.5979790094325943, 0.5979790094325943, 1.1585843342251512, 0.5979790094325943, 1.7191896588031945, 3.9616109708364746, 2.8404003244335163, 2.8404003130710787, 1.7191896654942294, 1.158584337359968, 1.1585843344647808, 1.1585843344647808, 1.1585843359014685, 1.7191896568989857, 0.5979790094325943, 0.5979790094325943, 0.5979790094325943, 0.5979790094325943, 0.5979790094325943, 0.5979790094325943, 0.5979790094325943, 0.5979790094325943, 0.5979790094325943, 0.5979790094325943, 0.5979790094325943, 0.5979790094325943, 0.5979790182151413, 0.5979790174806707, 0.5979790104378706, 0.5979790103591605, 0.5979790102206345, 0.5979790102106824, 0.5979790101553867, 0.5979790101289446, 0.5979790100992063, 0.5979790100992063, 0.5979790100606623, 0.5979790100606623, 0.5979790100487374, 0.5979790100487374, 1.9403340217570262e-05, 1.9403340217570262e-05, 1.9403340217570262e-05, 1.9403340217570262e-05, 1.9403340217570262e-05, 1.9403340217570262e-05, 1.9403340217570262e-05, 1.9403340217570262e-05, 1.9403340217570262e-05, 1.9403340217570262e-05, 1.9403340217570262e-05, 1.9403340217570262e-05, 1.9403340217570262e-05, 1.9403340217570262e-05, 1.9403340217570262e-05, 1.9403340217570262e-05, 1.9403340217570262e-05, 1.9403340217570262e-05, 1.9403340217570262e-05, 1.9403340217570262e-05, 1.9403340217570262e-05, 1.9403340217570262e-05, 1.9403340217570262e-05, 1.9403340217570262e-05, 1.9403340217570262e-05, 1.9403340217570262e-05, 1.9403340217570262e-05, 1.9403340217570262e-05, 1.9403340217570262e-05, 1.9403340217570262e-05, 1.940334021758806e-05, 1.940334021757388e-05, 1.9403340217573562e-05, 1.9403340217573515e-05, 1.940334021757327e-05, 1.940334021757327e-05, 1.940334021757327e-05, 1.940334021757327e-05, 1.940334021757327e-05, 1.940334021757327e-05, 1.940334021757327e-05, 1.940334021757327e-05, 1.940334021757327e-05, 1.940334021757327e-05, 1.940334021757327e-05, 1.940334021757327e-05, 1.940334021757327e-05, 1.940334021757327e-05, 1.9403340217572265e-05, 1.94033402175722e-05, 1.940334021757202e-05, 1.940334021757196e-05, 1.940334021757195e-05, 1.9403340217571834e-05, 1.9403340217571828e-05, 1.9403340217571824e-05, 1.9403340217571753e-05, 1.940334021757172e-05, 1.9403340217571682e-05, 1.9403340217571665e-05, 0.34518647298144756, 0.34518647298144756, 0.34518647298144756, 0.34518647298144756, 0.34518647298144756, 0.34518647298144756, 0.34518647298144756, 0.34518647298144756, 0.34518647298144756, 0.34518647298144756, 0.34518647298144756, 0.34518647298144756, 0.34518647298144756, 0.34518647298144756, 0.34518647298144756, 0.34518647298144756, 0.34518647298144756, 0.34518647298144756, 0.34518647298144756, 0.34518647298144756, 0.34518647298144756, 0.34518647298144756, 0.34518647298144756, 0.34518647298144756, 0.34518647298144756, 0.34518647298144756, 0.34518647298144756, 0.34518647298144756, 0.34518647298144756, 0.34518647298144756, 1.3160234434962104, 0.34518647298144756, 0.6687987940975836, 0.6687987943174688, 0.6687987935686243, 0.3451864746570636, 0.3451864741967076, 0.3451864741964807, 0.3451864741709639, 0.3451864740159368, 0.3451864739828524, 0.34518647368062044, 0.34518647363656485, 0.34518647363656485, 0.3451864736025703, 0.34518647360027604, 0.3451864735166114, 0.34518647346461906, 0.3451864733356983, 0.3451864731060951, 0.34518647303497363, 0.34518647303497363, 0.34518647303497363, 0.34518647298144756, 0.34518647298144756, 0.34518647298144756, 0.34518647298144756, 0.34518647298144756, 1.9403340217570262e-05, 1.9403340217570262e-05, 1.9403340217570262e-05, 1.9403340217570262e-05, 1.9403340217570262e-05, 1.9403340217570262e-05, 1.9403340217570262e-05, 1.9403340217570262e-05, 1.9403340217570262e-05, 1.9403340217570262e-05, 1.9403340217570262e-05, 1.9403340217570262e-05, 1.9403340217570262e-05, 1.9403340217570262e-05, 1.9403340217570262e-05, 1.9403340217570262e-05, 1.9403340217570262e-05, 1.9403340217570262e-05, 1.9403340217570262e-05, 1.9403340217570262e-05, 1.9403340217570262e-05, 1.9403340217570262e-05, 1.9403340217570262e-05, 1.9403340217570262e-05, 1.9403340217570262e-05, 1.9403340217570262e-05, 1.9403340217570262e-05, 1.9403340217570262e-05, 1.9403340217570262e-05, 1.9403340217570262e-05, 1.940334021758806e-05, 1.940334021757388e-05, 1.9403340217573562e-05, 1.9403340217573515e-05, 1.940334021757327e-05, 1.940334021757327e-05, 1.940334021757327e-05, 1.940334021757327e-05, 1.940334021757327e-05, 1.940334021757327e-05, 1.940334021757327e-05, 1.940334021757327e-05, 1.940334021757327e-05, 1.940334021757327e-05, 1.940334021757327e-05, 1.940334021757327e-05, 1.940334021757327e-05, 1.940334021757327e-05, 1.9403340217572265e-05, 1.94033402175722e-05, 1.940334021757202e-05, 1.940334021757196e-05, 1.940334021757195e-05, 1.9403340217571834e-05, 1.9403340217571828e-05, 1.9403340217571824e-05, 1.9403340217571753e-05, 1.940334021757172e-05, 1.9403340217571682e-05, 1.9403340217571665e-05], \"Term\": [\"gollum\", \"frodo\", \"ring\", \"pippin\", \"sm\\u00e9agol\", \"faramir\", \"sam\", \"sauron\", \"ha\", \"aragorn\", \"go\", \"saying\", \"city\", \"ungol\", \"cirith\", \"cirith ungol\", \"saruman\", \"mina tirith\", \"tirith\", \"back\", \"doom\", \"arrive\", \"denethor\", \"hobbit\", \"mordor\", \"tell\", \"gandalf\", \"king\", \"frodo sam\", \"mina\", \"river\", \"trebuchet\", \"belief\", \"among\", \"two\", \"shelob sam\", \"ha paralysed shelob\", \"shelob stinger\", \"shelob sam return\", \"hope\", \"catapult ensues\", \"sewing terror among\", \"sewing terror\", \"sewing\", \"ungol come\", \"ungol come investigate\", \"catapult\", \"abandon\", \"catapult ensues witch\", \"ungol gollum betrays\", \"ha paralysed\", \"gondorians abandon position\", \"gondorians abandon\", \"gondorian trebuchet mordor\", \"gondorian trebuchet\", \"gollum betrays frodo\", \"gollum betrays\", \"skirmish\", \"skirmish gondorian\", \"skirmish gondorian trebuchet\", \"ungol\", \"cirith ungol\", \"cirith\", \"cirith ungol come\", \"cirith ungol gollum\", \"mordor\", \"hope mind\", \"shelob\", \"present\", \"fight\", \"d\\u00e9agol\", \"frodo\", \"dead\", \"sm\\u00e9agol\", \"king ringwraiths fell\", \"king ringwraiths\", \"beholds might force\", \"beholds might\", \"beholds\", \"loses\", \"sam\", \"tower\", \"merry\", \"begin\", \"see\", \"loses hope mind\", \"loses hope\", \"mount doom\", \"mount\", \"belief dead\", \"orcs\", \"away\", \"belief frodo\", \"belief dead also\", \"witch king\", \"witch\", \"frodo ha\", \"betrays\", \"doom\", \"betrays frodo giant\", \"ring\", \"betrays frodo\", \"gandalf\", \"th\\u00e9oden\", \"murder referring d\\u00e9agol\", \"hears conversation beat\", \"hears\", \"half sens doubt\", \"half sens\", \"half\", \"doubt\", \"doubt sm\\u00e9agol\", \"doubt sm\\u00e9agol insists\", \"guide gollum necessary\", \"guide gollum\", \"guide\", \"cirith ungol ring\", \"gollum treachery frodo\", \"gollum necessary quest\", \"gollum necessary\", \"plan\", \"plan deliver\", \"gollum begin leading\", \"gollum begin\", \"gollum awakes night\", \"gollum awakes\", \"d\\u00e9agol gollum\", \"d\\u00e9agol gollum begin\", \"go one side\", \"ungol ring\", \"plan deliver hobbit\", \"reclaimed sam\", \"reclaimed sam hears\", \"referring\", \"valinor\", \"black\", \"fade\", \"door\", \"inside shuts\", \"go inside\", \"screen fade black\", \"screen fade\", \"screen\", \"inside shuts door\", \"go inside shuts\", \"door screen fade\", \"shuts\", \"shuts door\", \"shuts door screen\", \"door screen\", \"inside\", \"fade black\", \"aragorn\", \"see\", \"ring\", \"gandalf\", \"mina\", \"pippin\", \"west\", \"sauron\", \"frodo\", \"sam\", \"go\", \"gollum\", \"destruction\", \"able\", \"figure\", \"use\", \"continues play hobbit\", \"unconcernedly\", \"continues play\", \"continues\", \"manipulates\", \"like coma\", \"unconcernedly eats\", \"long arrow\", \"long arrow encamped\", \"trying helpful offer\", \"trying helpful\", \"trying\", \"like\", \"manipulates taking doomed\", \"manipulates taking\", \"cunning\", \"coma\", \"meal\", \"meal faramir\", \"meal faramir attack\", \"state suspicious sam\", \"city gollum continues\", \"city gollum\", \"noon\", \"noon meal\", \"noon meal faramir\", \"dunharrow\", \"eating food\", \"carry\", \"blaming\", \"prediction faramir\", \"play hobbit\", \"play hobbit time\", \"pleased\", \"pleased faramir\", \"pleased faramir failed\", \"prediction\", \"prediction faramir ride\", \"blaming sam\", \"provision\", \"provision frodo\", \"reclaim city gollum\", \"reclaim city\", \"reclaim\", \"blaming sam eating\", \"provision frodo deluded\", \"pippin sings denethor\", \"play\", \"orcs pippin\", \"take\", \"ride head long\", \"slowly\", \"horse\", \"ring\", \"faramir\", \"sm\\u00e9agol\", \"ride\", \"sword\", \"back\", \"order back home\", \"offer\", \"ride head\", \"sam\", \"hobbit\", \"gollum\", \"aragorn\", \"denethor\", \"offer carry ring\", \"osgiliath manipulates\", \"blown\", \"blown large\", \"ring thereby\", \"black gate mordor\", \"orcs\", \"reuniting member\", \"ride reclaim city\", \"frodo\", \"osgiliath manipulates taking\", \"carry ring thereby\", \"doomed ride reclaim\", \"encamped orcs\", \"doomed ride\", \"eats noon meal\", \"eats noon\", \"death like coma\", \"mordor shaken apart\", \"mordor shaken\", \"lava destruction barad\", \"death like\", \"mount doom blown\", \"gollum cunning prediction\", \"shire amidst torrent\", \"black\", \"arrow\", \"call\", \"dragged\", \"death\", \"friend\", \"large\", \"long\", \"murder referring d\\u00e9agol\", \"hears conversation beat\", \"hears\", \"half sens doubt\", \"half sens\", \"half\", \"doubt\", \"doubt sm\\u00e9agol\", \"doubt sm\\u00e9agol insists\", \"guide gollum necessary\", \"guide gollum\", \"guide\", \"cirith ungol ring\", \"gollum treachery frodo\", \"gollum necessary quest\", \"gollum necessary\", \"plan\", \"plan deliver\", \"gollum begin leading\", \"gollum begin\", \"gollum awakes night\", \"gollum awakes\", \"d\\u00e9agol gollum\", \"d\\u00e9agol gollum begin\", \"go one side\", \"ungol ring\", \"plan deliver hobbit\", \"reclaimed sam\", \"reclaimed sam hears\", \"referring\", \"valinor\", \"black\", \"fade\", \"door\", \"inside shuts\", \"go inside\", \"screen fade black\", \"screen fade\", \"screen\", \"inside shuts door\", \"go inside shuts\", \"door screen fade\", \"shuts\", \"shuts door\", \"shuts door screen\", \"door screen\", \"inside\", \"fade black\", \"aragorn\", \"see\", \"ring\", \"gandalf\", \"mina\", \"pippin\", \"west\", \"sauron\", \"frodo\", \"sam\", \"go\", \"gollum\", \"marries\", \"valinor\", \"realizing\", \"sarah\", \"never peace\", \"never\", \"frodo finished\", \"frodo finished writing\", \"sam marries\", \"sam marries rosie\", \"earth decides go\", \"earth decides\", \"sarah mcleod\", \"new\", \"sarah mcleod frodo\", \"galadriel\", \"galadriel grey\", \"galadriel grey sail\", \"gandalf bilbo\", \"gandalf bilbo elrond\", \"go gandalf\", \"go gandalf bilbo\", \"mina tirith aragorn\", \"aragorn crowned\", \"never peace middle\", \"new age\", \"middle earth decides\", \"new age peace\", \"peace marries arwen\", \"peace marries\", \"rosie cotton sarah\", \"weathertop shelob realizing\", \"weathertop shelob\", \"weathertop\", \"rosie cotton\", \"bilbo\", \"bilbo elrond\", \"cotton sarah\", \"age peace\", \"age peace marries\", \"shire sam marries\", \"shire sam\", \"cotton sarah mcleod\", \"little hobbit hobbit\", \"marries arwen\", \"crowned\", \"crowned king\", \"crowned king west\", \"still suffering effect\", \"still suffering\", \"valinor undying land\", \"sail\", \"west heralding\", \"west heralding new\", \"marries arwen everybody\", \"marries rosie\", \"marries rosie cotton\", \"mcleod\", \"homage little hobbit\", \"elrond galadriel grey\", \"elrond galadriel\", \"effect wound received\", \"cotton\", \"suffering effect wound\", \"finished writing entry\", \"homage little\", \"shelob realizing\", \"homage\", \"finished\", \"finished writing\", \"effect wound\", \"hobbit return shire\", \"hobbit return\", \"return shire\", \"return shire sam\", \"hobbit hobbit return\", \"hobbit hobbit\", \"peace middle earth\", \"heralding new\", \"valinor undying\", \"peace middle\", \"heralding new age\", \"arwen everybody kneel\", \"arwen everybody\", \"kneel\", \"tirith aragorn\", \"tirith aragorn crowned\", \"king west heralding\", \"king west\", \"little\", \"mcleod frodo finished\", \"suffering effect\", \"mcleod frodo\", \"sail valinor undying\", \"sail valinor\", \"aragorn crowned king\", \"peace\", \"decides go gandalf\", \"kneel homage little\", \"hobbit\", \"go\", \"arwen\", \"king\", \"aragorn\", \"mina\", \"mina tirith\", \"tirith\", \"west\", \"earth\", \"still\", \"elrond\", \"middle earth\", \"middle\", \"ringwraiths\", \"return\", \"age\", \"suffering\", \"wound\", \"shire\", \"undying land\", \"undying\", \"land\", \"effect\", \"red\", \"rosie\", \"heralding\", \"saruman\", \"send\", \"rivendell\", \"father\", \"wizard\", \"grima\", \"captured\", \"sadwyn brophy son\", \"sadwyn brophy\", \"ha vision eldarion\", \"deduces sauron moving\", \"deduces sauron\", \"deduces\", \"hugo\", \"hugo weaving\", \"hugo weaving forsaken\", \"urge look palant\\u00edr\", \"said aragorn future\", \"said aragorn\", \"mina tirith ride\", \"time reforge\", \"moving\", \"time reforge narsil\", \"keeping\", \"sadwyn\", \"said\", \"narsil ha come\", \"attack great\", \"attack great gondorian\", \"narsil ha\", \"saying\", \"vision\", \"city mina\", \"moving attack\", \"arwen\", \"keeping return\", \"urge look\", \"convincing gandalf\", \"convincing gandalf gollum\", \"lead gollum\", \"lead gollum struggling\", \"land arwen\", \"convincing\", \"convinces elrond hugo\", \"leave aragorn\", \"convinces elrond\", \"convinces\", \"leave aragorn tell\", \"leaving\", \"leaving rivendell\", \"leaving rivendell way\", \"treachery hobbit\", \"land arwen liv\", \"together\", \"together return rivendell\", \"together return\", \"ha\", \"ha vision\", \"city mina tirith\", \"tirith saying\", \"taking\", \"love\", \"lest\", \"lest urge\", \"try take ring\", \"lest urge look\", \"try take\", \"frodo sam convincing\", \"climb extremely\", \"climb extremely steep\", \"lied said\", \"lied\", \"frodo captured osgiliath\", \"saying break\", \"lied said aragorn\", \"frodo sam\", \"rivendell way undying\", \"tirith ride send\", \"tirith ride\", \"rivendell way\", \"father lied said\", \"father lied\", \"father foretold time\", \"father foretold\", \"gimli\", \"legolas\", \"aragorn\", \"\\u00e9owyn\", \"reforge narsil ha\", \"gollum\", \"son aragorn realises\", \"tree gandalf\", \"tree gandalf deduces\", \"warning taking pippin\", \"son aragorn\", \"tell father foretold\", \"tell father\", \"captured osgiliath witch\", \"captured osgiliath\", \"tyler ha\", \"tyler\", \"gollum struggling climb\", \"tyler ha vision\", \"eldar leave\", \"eldar\", \"sauron moving\", \"gondorian city\", \"go\", \"return\", \"warning\", \"ha come\", \"gandalf\", \"great gondorian city\", \"great gondorian\", \"gondorian city mina\", \"tirith\", \"mina tirith\", \"gollum treachery hobbit\", \"eldarion sadwyn\", \"come\", \"elrond hugo weaving\", \"liv tyler ha\", \"liv\", \"forsaken life eldar\", \"ride\", \"send forth legion\", \"dangerous route gollum\", \"keeping return leaving\", \"frodo\", \"mina\", \"tell\", \"gollum reach\", \"sam\", \"attack\", \"murder referring d\\u00e9agol\", \"hears conversation beat\", \"hears\", \"half sens doubt\", \"half sens\", \"half\", \"doubt\", \"doubt sm\\u00e9agol\", \"doubt sm\\u00e9agol insists\", \"guide gollum necessary\", \"guide gollum\", \"guide\", \"cirith ungol ring\", \"gollum treachery frodo\", \"gollum necessary quest\", \"gollum necessary\", \"plan\", \"plan deliver\", \"gollum begin leading\", \"gollum begin\", \"gollum awakes night\", \"gollum awakes\", \"d\\u00e9agol gollum\", \"d\\u00e9agol gollum begin\", \"go one side\", \"ungol ring\", \"plan deliver hobbit\", \"reclaimed sam\", \"reclaimed sam hears\", \"referring\", \"valinor\", \"black\", \"fade\", \"door\", \"inside shuts\", \"go inside\", \"screen fade black\", \"screen fade\", \"screen\", \"inside shuts door\", \"go inside shuts\", \"door screen fade\", \"shuts\", \"shuts door\", \"shuts door screen\", \"door screen\", \"inside\", \"fade black\", \"aragorn\", \"see\", \"ring\", \"gandalf\", \"mina\", \"pippin\", \"west\", \"sauron\", \"frodo\", \"sam\", \"go\", \"gollum\", \"gollum arrive mina\", \"sauron meanwhile\", \"opening door\", \"meanwhile frodo\", \"pippin flash lightning\", \"ungol lie\", \"sauron meanwhile frodo\", \"gandalf pippin flash\", \"open witch king\", \"outpouring\", \"wary enemy locate\", \"wary enemy\", \"wary\", \"open witch\", \"open\", \"king angmar\", \"mina morgul wary\", \"leader\", \"leader nazg\\u00fbl\", \"leader nazg\\u00fbl dispatch\", \"leading pas\", \"leading pas cirith\", \"meanwhile\", \"stair leading\", \"orc army\", \"gollum arrive\", \"orc army lair\", \"stair leading pas\", \"surrounding accursed city\", \"surrounding accursed\", \"lie hidden\", \"fortify\", \"flash lightning shoot\", \"denethor seems caught\", \"pippin flash\", \"immense orc army\", \"immense orc\", \"threat sauron\", \"threat sauron meanwhile\", \"fortify city\", \"fortify city threat\", \"locate\", \"cirith ungol lie\", \"door city open\", \"door city\", \"sam gollum arrive\", \"hidden cliff surrounding\", \"hidden cliff\", \"flash lightning\", \"king angmar leader\", \"taken measure\", \"army lair heralding\", \"measure\", \"army lair\", \"measure fortify\", \"cliff surrounding\", \"seems caught grief\", \"cliff\", \"heralding start\", \"heralding start war\", \"war outpouring army\", \"war outpouring\", \"meanwhile frodo sam\", \"hidden\", \"lair heralding start\", \"lair heralding\", \"seems caught\", \"lair\", \"seems\", \"taken\", \"shoot opening\", \"door\", \"last\", \"tell\", \"cliff surrounding accursed\", \"leave\", \"surrounding\", \"life\", \"otto show affection\", \"middle earth set\", \"quickly asks\", \"quickly\", \"th\\u00e9oden notice tell\", \"merry take leave\", \"th\\u00e9oden notice\", \"hide cloak\", \"quest aragorn tell\", \"th\\u00e9oden ha prepared\", \"th\\u00e9oden ha\", \"hide cloak group\", \"sam sigh say\", \"hide\", \"honorable man\", \"sam sigh\", \"quickly asks hide\", \"helm deep gandalf\", \"helm deep\", \"helm\", \"city\", \"pas cirith\", \"sam\", \"ungol lie hidden\", \"pas cirith ungol\", \"back\", \"aragorn\", \"city moment door\", \"pippin\", \"gandalf\", \"army\", \"th\\u00e9oden\", \"ha taken\", \"honorable\", \"honorable man architect\", \"frodo\", \"shoot opening door\", \"ha\", \"king\", \"dead battle\", \"caught grief\", \"large\", \"along\", \"threat\", \"shoot\", \"show\", \"winding\", \"opening\", \"road\", \"scene\", \"war\", \"orc\", \"mina morgul\", \"king th\\u00e9oden\", \"sam gollum\", \"stone courtyard\", \"gandalf palant\\u00edr look\", \"glower gollum\", \"ordeal discovered\", \"ordeal discovered tell\", \"glower\", \"palant\\u00edr look\", \"palant\\u00edr look pippin\", \"caught sauron submitted\", \"caught sauron\", \"pippin curiosity\", \"get better relieving\", \"get better\", \"pippin curiosity get\", \"pippin recovers\", \"gandalf palant\\u00edr\", \"whereabouts\", \"pippin recovers ordeal\", \"pippin see vision\", \"questioning\", \"questioning aragorn\", \"questioning aragorn try\", \"briefly exposing sauron\", \"briefly exposing\", \"briefly\", \"discovered\", \"recovers ordeal\", \"recovers ordeal discovered\", \"aragorn try\", \"aragorn try rescue\", \"discovered tell\", \"ordeal\", \"discovered tell sauron\", \"glower gollum flash\", \"torture questioning\", \"recovers\", \"torture questioning aragorn\", \"night back edoras\", \"night back\", \"anything ring whereabouts\", \"sauron\", \"pippin\", \"tree stone courtyard\", \"tree stone\", \"anything\", \"anything ring\", \"stone courtyard set\", \"try rescue\", \"look pippin\", \"gollum flash\", \"gollum flash evil\", \"back\", \"look pippin see\", \"turned\", \"evil smile frodo\", \"courtyard set ablaze\", \"evil smile\", \"try rescue briefly\", \"ring whereabouts\", \"turned night back\", \"courtyard set\", \"courtyard\", \"flash evil smile\", \"flash evil\", \"smile frodo back\", \"back turned\", \"back edoras pippin\", \"sam glower gollum\", \"sam glower\", \"back turned night\", \"back edoras\", \"stone\", \"submitted\", \"white\", \"see\", \"white tree\", \"tree\", \"palant\\u00edr\", \"rescue\", \"torture\", \"get\", \"try\", \"night\", \"look\", \"vision white tree\", \"vision white\", \"pippin see\", \"set\", \"flash\", \"caught\", \"vision\", \"evil\", \"sleeping\", \"sleeping gandalf palant\\u00edr\", \"\\u00e9owyn saddle girt\", \"sword insists\", \"surviving\", \"surviving men\", \"surviving men retreat\", \"david\", \"david wenham\", \"david wenham battle\", \"sword insists ride\", \"army cross\", \"leave edoras aragorn\", \"leave edoras\", \"lead boromir brother\", \"lead boromir\", \"insists ride see\", \"insists ride\", \"light\", \"light first\", \"light first beacon\", \"\\u00e9owyn saddle\", \"cross anduin\", \"cross\", \"makeshift\", \"makeshift boat\", \"makeshift boat engages\", \"strong drive gondorians\", \"strong drive\", \"strong\", \"meet retreating\", \"meet retreating men\", \"men\", \"urging gandalf pippin\", \"edoras\", \"osgiliath\", \"captain aragorn\", \"tirith pursued\", \"tirith pursued nazg\\u00fbl\", \"muster dunharrow thence\", \"aragorn rest\", \"aragorn notice \\u00e9owyn\", \"aragorn notice\", \"edoras aragorn notice\", \"edoras aragorn\", \"alerting\", \"tirith leave\", \"alerting th\\u00e9oden\", \"alerting th\\u00e9oden aragorn\", \"edoras alerting th\\u00e9oden\", \"edoras alerting\", \"captain aragorn morgul\", \"aragorn morgul army\", \"aragorn morgul\", \"tirith leave edoras\", \"nazg\\u00fbl gandalf riding\", \"muster dunharrow\", \"saddle girt sword\", \"signal\", \"pursued nazg\\u00fbl gandalf\", \"pursued nazg\\u00fbl\", \"th\\u00e9oden aragorn rest\", \"men found captain\", \"men found\", \"faramir\", \"army cross anduin\", \"aragorn\", \"mina tirith\", \"tirith\", \"mina\", \"gandalf\", \"first\", \"mina tirith leave\", \"men ward saving\", \"men ward\", \"morgul army\", \"men retreat mina\", \"men retreat\", \"mina tirith pursued\", \"beacon signal\", \"morgul army cross\", \"muster\", \"see\", \"morgul\", \"th\\u00e9oden\", \"lead\", \"army\", \"rest\", \"gondorian\", \"battle\", \"\\u00e9owyn\", \"ride\", \"gondorians\", \"anduin\", \"boromir\", \"sword\", \"meet\", \"leave\", \"orcs\", \"captain\", \"gandalf pippin\", \"rohirrim\", \"notice\", \"pyre\", \"faramir denethor\", \"level\", \"burn\", \"pyre burn\", \"cut\", \"pippin arrive\", \"gandalf pippin arrive\", \"arrive\", \"go ill gondorians\", \"alive gandalf pippin\", \"lower level looting\", \"street\", \"lower level\", \"lower\", \"pour defender\", \"pour defender retreat\", \"prepares\", \"looting burning massacring\", \"go ill\", \"street lower\", \"death turn see\", \"looting burning\", \"looting\", \"stricken\", \"gondor\", \"stricken mad\", \"stricken mad grief\", \"unconscious faramir denethor\", \"unconscious faramir\", \"alive gandalf\", \"upper level city\", \"crawl\", \"crawl street\", \"crawl street lower\", \"upper\", \"upper level\", \"pyre burn alive\", \"battering ram grond\", \"gate city\", \"gate city troll\", \"pyre unconscious\", \"level city\", \"pyre burn death\", \"battering\", \"battering ram\", \"burning massacring men\", \"level city orcs\", \"level looting\", \"arrive hallows\", \"save faramir denethor\", \"street lower level\", \"denethor unaware faramir\", \"son\", \"stirring awake injury\", \"gondorians huge battering\", \"gondorians huge\", \"turn\", \"city\", \"stirring awake\", \"denethor\", \"gandalf pippin\", \"stirring\", \"boromir\", \"go\", \"pippin\", \"ship\", \"king\", \"sword\", \"burn death\", \"orcs\", \"denethor unaware\", \"faramir\", \"denethor thrown onto\", \"unaware faramir\", \"army\", \"dead\", \"tirith\", \"mina tirith\", \"see\", \"mina\", \"burn alive gandalf\", \"gandalf\", \"death\", \"mount doom gollum\", \"doom gollum\", \"finally\", \"eye\", \"fire\", \"attack battle\", \"unconscious attack frodo\", \"draw orcs away\", \"draw orcs\", \"draw\", \"attack frodo\", \"gollum arrives attack\", \"gollum render\", \"gollum render sam\", \"doom gollum render\", \"unconscious attack\", \"battle morannon\", \"doom gollum arrives\", \"attack battle morannon\", \"doom frodo instead\", \"doom frodo\", \"sauron sends ringwraiths\", \"sauron sends\", \"distract eye sauron\", \"distract eye\", \"distract\", \"attack frodo seizing\", \"dropping\", \"disappearing sight\", \"dropping ring\", \"orcs away\", \"frodo instead\", \"put disappearing\", \"put disappearing sight\", \"racing\", \"racing towards\", \"racing towards mount\", \"alert\", \"alert sauron\", \"frodo instead dropping\", \"soldier black\", \"alert sauron sends\", \"disappearing\", \"frodo mount\", \"frodo mount doom\", \"frodo path\", \"frodo path well\", \"soldier black gate\", \"sauron sam carry\", \"put\", \"disappearing sight act\", \"towards mount\", \"towards mount doom\", \"black gate draw\", \"ringwraiths racing towards\", \"dropping ring fire\", \"gate draw orcs\", \"fall\", \"frodo seizing ring\", \"doom\", \"frodo\", \"ring\", \"gollum\", \"sauron\", \"power\", \"mount\", \"mount doom\", \"attack\", \"sam\", \"away frodo\", \"render\", \"remaining soldier black\", \"remaining soldier\", \"away frodo path\", \"carry frodo\", \"carry frodo mount\", \"ring fire succumbs\", \"aragorn proposes lead\", \"ring fire\", \"ring finger biting\", \"ring finger\", \"black\", \"fade\", \"away\", \"gate\", \"still\", \"ringwraiths\", \"lead\", \"tower\", \"gollum arrives\", \"arrives\", \"black gate\", \"remaining\", \"sam rescue\", \"rescue frodo\", \"murder referring d\\u00e9agol\", \"hears conversation beat\", \"hears\", \"half sens doubt\", \"half sens\", \"half\", \"doubt\", \"doubt sm\\u00e9agol\", \"doubt sm\\u00e9agol insists\", \"guide gollum necessary\", \"guide gollum\", \"guide\", \"cirith ungol ring\", \"gollum treachery frodo\", \"gollum necessary quest\", \"gollum necessary\", \"plan\", \"plan deliver\", \"gollum begin leading\", \"gollum begin\", \"gollum awakes night\", \"gollum awakes\", \"d\\u00e9agol gollum\", \"d\\u00e9agol gollum begin\", \"go one side\", \"ungol ring\", \"plan deliver hobbit\", \"reclaimed sam\", \"reclaimed sam hears\", \"referring\", \"valinor\", \"black\", \"fade\", \"door\", \"inside shuts\", \"go inside\", \"screen fade black\", \"screen fade\", \"screen\", \"inside shuts door\", \"go inside shuts\", \"door screen fade\", \"shuts\", \"shuts door\", \"shuts door screen\", \"door screen\", \"inside\", \"fade black\", \"aragorn\", \"see\", \"ring\", \"gandalf\", \"mina\", \"pippin\", \"west\", \"sauron\", \"frodo\", \"sam\", \"go\", \"gollum\", \"murmur\", \"sens doubt\", \"beat gollum treachery\", \"beat gollum\", \"beat\", \"hobbit clutch\", \"frodo sam sleeping\", \"cirith ungol ring\", \"saying guide\", \"saying guide gollum\", \"hears conversation beat\", \"referring\", \"hears conversation\", \"hears\", \"sens\", \"sens doubt sm\\u00e9agol\", \"guide gollum necessary\", \"shelob cirith\", \"shelob cirith ungol\", \"half sens doubt\", \"half sens\", \"half\", \"side\", \"d\\u00e9agol gollum begin\", \"side murmur\", \"side murmur evil\", \"d\\u00e9agol gollum\", \"one side murmur\", \"one side\", \"sleeping go\", \"gollum\", \"sam sleeping go\", \"sm\\u00e9agol\", \"sam\", \"frodo\", \"one\", \"d\\u00e9agol\", \"begin\", \"go\", \"frodo sam\", \"hobbit\", \"awakes\", \"treachery\", \"gollum treachery\", \"night\", \"saying\", \"quest\", \"leading\", \"reclaimed\", \"shelob\", \"cirith\", \"cirith ungol\", \"ungol\", \"awakes night frodo\", \"awakes night\", \"gollum necessary quest\", \"gollum treachery frodo\", \"plan deliver\", \"murder referring d\\u00e9agol\", \"hears conversation beat\", \"hears\", \"half sens doubt\", \"half sens\", \"half\", \"doubt\", \"doubt sm\\u00e9agol\", \"doubt sm\\u00e9agol insists\", \"guide gollum necessary\", \"guide gollum\", \"guide\", \"cirith ungol ring\", \"gollum treachery frodo\", \"gollum necessary quest\", \"gollum necessary\", \"plan\", \"plan deliver\", \"gollum begin leading\", \"gollum begin\", \"gollum awakes night\", \"gollum awakes\", \"d\\u00e9agol gollum\", \"d\\u00e9agol gollum begin\", \"go one side\", \"ungol ring\", \"plan deliver hobbit\", \"reclaimed sam\", \"reclaimed sam hears\", \"referring\", \"valinor\", \"black\", \"fade\", \"door\", \"inside shuts\", \"go inside\", \"screen fade black\", \"screen fade\", \"screen\", \"inside shuts door\", \"go inside shuts\", \"door screen fade\", \"shuts\", \"shuts door\", \"shuts door screen\", \"door screen\", \"inside\", \"fade black\", \"aragorn\", \"see\", \"ring\", \"gandalf\", \"mina\", \"pippin\", \"west\", \"sauron\", \"frodo\", \"sam\", \"go\", \"gollum\"], \"Total\": [14.0, 18.0, 11.0, 9.0, 5.0, 8.0, 17.0, 6.0, 7.0, 16.0, 5.0, 4.0, 6.0, 4.0, 4.0, 4.0, 3.0, 6.0, 6.0, 3.0, 4.0, 3.0, 6.0, 4.0, 5.0, 4.0, 12.0, 7.0, 4.0, 7.0, 2.744165882933644, 1.9583038124615286, 1.9583038124615286, 1.958303812461528, 1.9583038124615266, 1.1724417419893667, 1.1724417419893667, 1.1724417419893667, 1.1724417419893667, 1.1724417419893667, 1.1724417419893667, 1.1724417419893667, 1.1724417419893667, 1.1724417419893667, 1.1724417419893667, 1.1724417419893667, 1.1724417419893667, 1.1724417419893667, 1.1724417419893667, 1.1724417419893667, 1.1724417419893667, 1.1724417419893667, 1.1724417419893667, 1.1724417419893667, 1.1724417419893667, 1.1724417419893667, 1.1724417419893667, 1.1724417419893667, 1.1724417419893667, 1.1724417419893667, 4.54473519085837, 4.54473519085837, 4.54473519085837, 1.1724417419893667, 1.1724417419893667, 5.064744045883044, 1.1724417419893667, 2.667764067744148, 2.7042425944290756, 2.7042425944023964, 3.027854911168027, 18.71219846879973, 5.592490203117222, 5.6292068616042314, 1.1724417419893667, 1.1724417419893667, 1.1724417419893667, 1.1724417419893667, 1.1724417419893667, 1.1724417419893667, 17.769205207929975, 3.3076864439417295, 3.438176040623637, 3.6312987598625486, 7.191123362727743, 1.1724417419893667, 1.1724417419893667, 3.8254532357564606, 3.8254532357564606, 1.1724417419893667, 8.153992250661654, 3.9559428341651626, 1.1724417419893667, 1.1724417419893667, 4.143821351327903, 4.143821351327903, 1.1724417419893667, 1.1724417419893667, 4.386058556012616, 1.1724417419893667, 11.453146939632314, 1.1724417419893667, 12.565900625548712, 5.286546512108855, 0.7101919899376471, 0.7101919899376471, 0.7101919899376471, 0.7101919899376471, 0.7101919899376471, 0.7101919899376471, 0.7101919899376471, 0.7101919899376471, 0.7101919899376471, 0.7101919899376471, 0.7101919899376471, 0.7101919899376471, 0.7101919899376471, 0.7101919899376471, 0.7101919899376471, 0.7101919899376471, 0.7101919899376471, 0.7101919899376471, 0.7101919899376471, 0.7101919899376471, 0.7101919899376471, 0.7101919899376471, 0.7101919899376471, 0.7101919899376471, 0.7101919899376471, 0.7101919899376471, 0.7101919899376471, 0.7101919899376471, 0.7101919899376471, 0.7101919899376471, 1.1582818485227937, 2.3987690824292653, 1.6528303004733467, 2.4744148180120455, 1.092224981212496, 1.092224981212496, 1.092224981212496, 1.092224981212496, 1.092224981212496, 1.092224981212496, 1.092224981212496, 1.092224981212496, 1.092224981212496, 1.0922249812124962, 1.0922249812124962, 1.092224981212496, 1.092224981212496, 1.092224981212496, 16.634909873285338, 7.191123362727743, 11.453146939632314, 12.565900625548712, 7.675457678149295, 9.918108195489744, 3.700968686395287, 6.074528764712879, 18.71219846879973, 17.769205207929975, 5.577805056207408, 14.075580409525292, 1.8784572352401046, 1.8784572352401046, 1.8784572352401019, 1.8784572352401019, 1.1325184533786785, 1.1325184533786785, 1.1325184533786785, 1.1325184533786785, 1.1325184533786785, 1.1325184533786785, 1.1325184533786785, 1.1325184533786785, 1.1325184533786785, 1.1325184533786785, 1.1325184533786785, 1.1325184533786785, 1.1325184533786785, 1.1325184533786785, 1.1325184533786785, 1.1325184533786785, 1.1325184533786785, 1.1325184533786785, 1.1325184533786785, 1.1325184533786785, 1.1325184533786785, 1.1325184533786785, 1.1325184533786785, 1.1325184533786785, 1.1325184533786785, 1.1325184533786785, 2.330087479589757, 1.1325184533786785, 2.439062556663247, 1.1325184533786785, 1.1325184533786785, 1.1325184533786785, 1.1325184533786785, 1.1325184533786785, 1.1325184533786785, 1.1325184533786785, 1.1325184533786785, 1.1325184533786785, 1.1325184533786785, 1.1325184533786785, 1.1325184533786785, 1.1325184533786785, 1.1325184533786785, 1.1325184533786785, 1.1325184533786785, 1.1325184533786785, 1.1325184533786785, 1.1325184533786785, 1.1325184533786785, 4.104268246106598, 1.1325184533786785, 2.569552153907446, 2.584102544990704, 11.453146939632314, 8.416800834741268, 5.6292068616042314, 6.9193151812011555, 3.741378098802056, 3.977098288929117, 1.1325184533786785, 1.1325184533786785, 1.1325184533786785, 17.769205207929975, 4.548404799759123, 14.075580409525292, 16.634909873285338, 6.963857533409138, 1.1325184533786785, 1.1325184533786785, 1.1325184533786778, 1.1325184533786778, 1.1325184533786785, 1.1325184533786778, 8.153992250661654, 1.1325184533786778, 1.1325184533786785, 18.71219846879973, 1.1325184533786785, 1.1325184533786785, 1.1325184533786785, 1.1325184533786785, 1.1325184533786785, 1.1325184533786785, 1.1325184533786785, 1.1325184533786785, 1.1325184533786778, 1.1325184533786778, 1.1325184533786778, 1.1325184533786785, 1.1325184533786778, 1.1325184533786785, 1.1325184533786778, 2.3987690824292653, 1.9212957637779406, 1.9212957637832997, 1.9183805238271578, 2.6269410733664897, 1.9183805238360192, 2.6123906822641105, 1.9183805238396987, 0.7101919899376471, 0.7101919899376471, 0.7101919899376471, 0.7101919899376471, 0.7101919899376471, 0.7101919899376471, 0.7101919899376471, 0.7101919899376471, 0.7101919899376471, 0.7101919899376471, 0.7101919899376471, 0.7101919899376471, 0.7101919899376471, 0.7101919899376471, 0.7101919899376471, 0.7101919899376471, 0.7101919899376471, 0.7101919899376471, 0.7101919899376471, 0.7101919899376471, 0.7101919899376471, 0.7101919899376471, 0.7101919899376471, 0.7101919899376471, 0.7101919899376471, 0.7101919899376471, 0.7101919899376471, 0.7101919899376471, 0.7101919899376471, 0.7101919899376471, 1.1582818485227937, 2.3987690824292653, 1.6528303004733467, 2.4744148180120455, 1.092224981212496, 1.092224981212496, 1.092224981212496, 1.092224981212496, 1.092224981212496, 1.092224981212496, 1.092224981212496, 1.092224981212496, 1.092224981212496, 1.0922249812124962, 1.0922249812124962, 1.092224981212496, 1.092224981212496, 1.092224981212496, 16.634909873285338, 7.191123362727743, 11.453146939632314, 12.565900625548712, 7.675457678149295, 9.918108195489744, 3.700968686395287, 6.074528764712879, 18.71219846879973, 17.769205207929975, 5.577805056207408, 14.075580409525292, 1.1582755460095953, 1.1582818485227937, 0.7724276087635344, 0.7724276087635344, 0.7724276087635344, 0.7724276087635344, 0.7724276087635344, 0.7724276087635344, 0.7724276087635344, 0.7724276087635344, 0.7724276087635344, 0.7724276087635344, 0.7724276087635344, 0.7724276087635344, 0.7724276087635344, 0.7724276087635344, 0.7724276087635344, 0.7724276087635344, 0.7724276087635344, 0.7724276087635344, 0.7724276087635344, 0.7724276087635344, 0.7724276087635344, 0.7724276087635344, 0.7724276087635344, 0.7724276087635344, 0.7724276087635344, 0.7724276087635344, 0.7724276087635344, 0.7724276087635344, 0.7724276087635344, 0.7724276087635344, 0.7724276087635344, 0.7724276087635344, 0.7724276087635344, 0.7724276087635344, 0.7724276087635344, 0.7724276087635344, 0.7724276087635344, 0.7724276087635344, 0.7724276087635344, 0.7724276087635344, 0.7724276087635344, 0.7724276087635344, 0.7724276087635344, 0.7724276087635344, 0.7724276087635344, 0.7724276087635344, 0.7724276087635344, 0.7724276087635344, 0.7724276087635344, 0.7724276087635344, 0.7724276087635344, 0.7724276087635344, 0.7724276087635344, 0.7724276087635344, 0.7724276087635344, 0.7724276087635344, 0.7724276087635344, 0.7724276087635344, 0.7724276087635344, 0.7724276087635344, 0.7724276087635344, 0.7724276087635344, 0.7724276087635344, 0.7724276087635344, 0.7724276087635344, 0.7724276087635344, 0.7724276087635344, 0.7724276087635344, 0.7724276087635344, 0.7724276087635344, 0.7724276087635344, 0.7724276087635344, 0.7724276087635344, 0.7724276087635344, 0.7724276087635344, 0.7724276087635344, 0.7724276087635344, 0.7724276087635344, 0.7724276087635344, 0.7724276087635344, 0.7724276087635344, 0.7724276087635344, 0.7724276087635344, 0.7724276087635344, 0.7724276087635344, 0.7724276087635344, 0.7724276087635344, 0.7724276087635344, 0.7724276087635344, 0.7724276087635344, 0.7724276087635344, 0.7724276087635344, 0.7724276087635344, 0.7724276087635344, 1.9441376140243465, 0.7724276087635344, 0.7724276087635344, 4.548404799759123, 5.577805056207408, 2.348765428470951, 7.419615335193361, 16.634909873285338, 7.675457678149295, 6.198500693078776, 6.198500693078776, 3.700968686395287, 2.995323377303406, 2.812905156623217, 2.3071436992551613, 2.249384596178704, 2.249384596178704, 2.8648337805425883, 3.135844299200443, 1.518366389839831, 1.518366389839831, 1.5582896784047393, 1.5183663899254787, 1.561204918455017, 1.561204918455017, 1.561204918455017, 1.478072917950406, 1.463522526895767, 1.463522526895767, 1.463522526940585, 3.541688913243286, 1.964134292380294, 1.9641342923802945, 1.9641342923802945, 1.9641342923802931, 1.9641342923802918, 1.964134292009321, 1.1753569819487495, 1.1753569819487495, 1.1753569819487495, 1.1753569819487495, 1.1753569819487495, 1.1753569819487495, 1.1753569819487495, 1.1753569819487495, 1.1753569819487495, 1.1753569819487495, 1.1753569819487495, 1.1753569819487495, 1.1753569819487495, 1.1753569819487495, 1.1753569819487495, 1.1753569819487495, 1.1753569819487495, 1.1753569819487495, 1.1753569819487495, 1.1753569819487495, 1.1753569819487495, 1.1753569819487495, 1.1753569819487495, 4.651163301274575, 2.322359901563012, 1.1753569819487495, 1.1753569819487495, 2.348765428470951, 1.1753569819487495, 1.1753569819487495, 1.1753569819487495, 1.1753569819487495, 1.1753569819487495, 1.1753569819487495, 1.1753569819487495, 1.1753569819487495, 1.1753569819487495, 1.1753569819487495, 1.1753569819487495, 1.1753569819487495, 1.1753569819487495, 1.1753569819487495, 1.1753569819487495, 1.1753569819487495, 1.1753569819487495, 1.1753569819487495, 1.1753569819487495, 1.1753569819487495, 1.1753569819487495, 7.28438020185619, 1.1753569819487495, 1.1753569819487495, 1.1753569819487495, 2.710073074303276, 2.7100730735863223, 1.1753569819487495, 1.1753569819487495, 1.1753569819487495, 1.1753569819487495, 1.1753569819487495, 1.1753569819487495, 1.1753569819487495, 1.1753569819487495, 1.1753569819487495, 1.1753569819487495, 1.1753569819487495, 1.1753569819487495, 1.1753569819487495, 4.513557620814207, 1.1753569819487495, 1.1753569819487495, 1.1753569819487495, 1.1753569819487495, 1.1753569819487495, 1.1753569819487495, 1.1753569819487495, 1.1753569819487495, 2.749996362485947, 2.749996362485947, 16.634909873285338, 4.681498835288782, 1.1753569819487495, 14.075580409525292, 1.1753569819487495, 1.1753569819487495, 1.1753569819487495, 1.1753569819487495, 1.1753569819487495, 1.1753569819487495, 1.1753569819487495, 1.1753569819487495, 1.1753569819487495, 1.1753569819487495, 1.1753569819487495, 1.1753569819487495, 1.1753569819487495, 1.1753569819487495, 1.1753569819487495, 1.1753569819487495, 1.1753569819487495, 5.577805056207408, 3.135844299200443, 1.1753569819487495, 1.1753569819487495, 12.565900625548712, 1.1753569819487495, 1.1753569819487495, 1.1753569819487495, 6.198500693078776, 6.198500693078776, 1.1753569819487495, 1.1753569819487495, 3.4410912811900998, 1.1753569819487495, 1.1753569819487495, 1.1753569819487495, 1.1753569819487495, 6.9193151812011555, 1.1753569819487495, 1.1753569819487495, 1.1753569819487495, 18.71219846879973, 7.675457678149295, 4.395644657489432, 1.1753569819487495, 17.769205207929975, 4.617145785166463, 0.7101919899376471, 0.7101919899376471, 0.7101919899376471, 0.7101919899376471, 0.7101919899376471, 0.7101919899376471, 0.7101919899376471, 0.7101919899376471, 0.7101919899376471, 0.7101919899376471, 0.7101919899376471, 0.7101919899376471, 0.7101919899376471, 0.7101919899376471, 0.7101919899376471, 0.7101919899376471, 0.7101919899376471, 0.7101919899376471, 0.7101919899376471, 0.7101919899376471, 0.7101919899376471, 0.7101919899376471, 0.7101919899376471, 0.7101919899376471, 0.7101919899376471, 0.7101919899376471, 0.7101919899376471, 0.7101919899376471, 0.7101919899376471, 0.7101919899376471, 1.1582818485227937, 2.3987690824292653, 1.6528303004733467, 2.4744148180120455, 1.092224981212496, 1.092224981212496, 1.092224981212496, 1.092224981212496, 1.092224981212496, 1.092224981212496, 1.092224981212496, 1.092224981212496, 1.092224981212496, 1.0922249812124962, 1.0922249812124962, 1.092224981212496, 1.092224981212496, 1.092224981212496, 16.634909873285338, 7.191123362727743, 11.453146939632314, 12.565900625548712, 7.675457678149295, 9.918108195489744, 3.700968686395287, 6.074528764712879, 18.71219846879973, 17.769205207929975, 5.577805056207408, 14.075580409525292, 1.0776745901194686, 1.0776745901194686, 1.0776745901194686, 1.0776745901194686, 1.0776745901194686, 1.0776745901194686, 1.0776745901194686, 1.0776745901194686, 1.0776745901194686, 1.0776745901194686, 1.0776745901194686, 1.0776745901194686, 1.0776745901194686, 1.0776745901194686, 1.0776745901194686, 1.0776745901194686, 1.0776745901194686, 1.0776745901194686, 1.0776745901194686, 1.0776745901194686, 1.0776745901194686, 1.0776745901194686, 1.0776745901194686, 1.0776745901194686, 1.0776745901194686, 1.0776745901194686, 1.0776745901194686, 1.0776745901194686, 1.0776745901194686, 1.0776745901194686, 1.0776745901194686, 1.0776745901194686, 1.0776745901194686, 1.0776745901194686, 1.0776745901194686, 1.0776745901194686, 1.0776745901194686, 1.0776745901194686, 1.0776745901194686, 1.0776745901194686, 1.0776745901194686, 1.0776745901194686, 1.0776745901194686, 1.0776745901194686, 1.0776745901194686, 1.0776745901194686, 1.0776745901194686, 1.0776745901194686, 1.0776745901194686, 1.0776745901194686, 1.0776745901194686, 1.0776745901194686, 1.0776745901194686, 1.0776745901194686, 1.0776745901194686, 1.0776745901194686, 1.0776745901194686, 1.0776745901194686, 1.0776745901194686, 1.0776745901194686, 1.0776745901194686, 1.0776745901194686, 1.0776745901194686, 1.0776745901194686, 1.0776745901194686, 1.0776745901194686, 1.0776745901194686, 1.0776745901194686, 1.0776745901194686, 1.0776745901194686, 1.0776745901194686, 2.4744148180120455, 2.4744148183857524, 4.395644657489432, 1.0776745901194686, 3.0091770630537424, 1.0776745901194686, 3.3034856006141573, 1.077674590119468, 1.077674590119468, 1.077674590119468, 1.077674590119468, 1.077674590119468, 1.077674590119468, 1.077674590119468, 1.077674590119468, 1.077674590119468, 1.077674590119468, 1.077674590119468, 1.077674590119468, 1.077674590119468, 1.077674590119468, 1.077674590119468, 1.077674590119468, 1.077674590119468, 1.077674590119468, 1.077674590119468, 1.077674590119468, 6.817161756977675, 1.0776745901194686, 17.769205207929975, 1.0776745901194686, 1.0776745901194686, 3.977098288929117, 16.634909873285338, 1.0776745901194686, 9.918108195489744, 12.565900625548712, 5.20632975064036, 5.286546512108855, 1.0776745901194686, 1.077674590119468, 1.077674590119468, 18.71219846879973, 1.0776745901194686, 7.28438020185619, 7.419615335193361, 1.077674590119468, 1.0776745901194686, 2.6123906822641105, 2.612390681398993, 1.8664519004425357, 1.8664519004425357, 1.8664519004484323, 1.8236133719271235, 1.863536660504524, 1.8236133719307726, 1.8635366605102206, 2.6123906814018714, 1.8635366605397512, 1.8635366605438777, 1.863536660545448, 1.8664519005085505, 0.7448052809600286, 0.7448052809600286, 0.7448052809600286, 0.7448052809600286, 0.7448052809600286, 0.7448052809600286, 0.7448052809600286, 0.7448052809600286, 0.7448052809600286, 0.7448052809600286, 0.7448052809600286, 0.7448052809600286, 0.7448052809600286, 0.7448052809600286, 0.7448052809600286, 0.7448052809600286, 0.7448052809600286, 0.7448052809600286, 0.7448052809600286, 0.7448052809600286, 0.7448052809600286, 0.7448052809600286, 0.7448052809600286, 0.7448052809600286, 0.7448052809600286, 0.7448052809600286, 0.7448052809600286, 0.7448052809600286, 0.7448052809600286, 0.7448052809600286, 0.7448052809600286, 0.7448052809600286, 0.7448052809600286, 0.7448052809600286, 0.7448052809600286, 0.7448052809600286, 0.7448052809600286, 0.7448052809600286, 0.7448052809600286, 0.7448052809600286, 6.074528764712879, 9.918108195489744, 0.7448052809600286, 0.7448052809600286, 0.7448052809600286, 0.7448052809600286, 0.7448052809600286, 0.7448052809600286, 0.7448052809600286, 0.7448052809600286, 0.7448052809600286, 3.977098288929117, 0.7448052809600286, 0.7448052809600286, 0.7448052809600286, 0.7448052809600286, 0.7448052809600286, 0.7448052809600286, 0.7448052809600286, 0.7448052809600286, 0.7448052809600286, 0.7448052809600286, 0.7448052809600286, 0.7448052809600286, 0.7448052809600286, 0.7448052809600286, 0.7448052809600286, 0.7448052809600286, 0.7448052809600286, 0.7448052809600286, 0.7448052809600286, 0.7448052809600286, 0.7448052809600286, 2.985166680174567, 7.191123362727743, 2.239227899529499, 2.239227899529499, 2.224677508606486, 2.0912726713877925, 1.4907440619430663, 1.5306673505451747, 1.5335825905543206, 1.8571949071422014, 1.5335825905700704, 1.5335825905700704, 1.5335825905700704, 1.435900199030833, 1.4359001990308342, 1.4359001990817735, 1.4359001990817735, 2.322359901563012, 1.0684175993815828, 1.0684175993815828, 0.7448052809600286, 0.8382099162500999, 0.8382099162500999, 0.8382099162500999, 0.8382099162500999, 0.8382099162500999, 0.8382099162500999, 0.8382099162500999, 0.8382099162500999, 0.8382099162500999, 0.8382099162500999, 0.8382099162500999, 0.8382099162500999, 0.8382099162500999, 0.8382099162500999, 0.8382099162500999, 0.8382099162500999, 0.8382099162500999, 0.8382099162500999, 0.8382099162500999, 0.8382099162500999, 0.8382099162500999, 0.8382099162500999, 0.8382099162500999, 0.8382099162500999, 0.8382099162500999, 0.8382099162500999, 0.8382099162500999, 0.8382099162500999, 0.8382099162500999, 0.8382099162500999, 3.193054491893762, 0.8382099162500999, 2.3391606876007596, 2.824556250223235, 0.8382099162500999, 0.8382099162500999, 0.8382099162500999, 0.8382099162500999, 0.8382099162500999, 0.8382099162500999, 0.8382099162500999, 0.8382099162500999, 0.8382099162500999, 0.8382099162500999, 0.8382099162500999, 0.8382099162500999, 0.8382099162500999, 0.8382099162500999, 0.8382099162500999, 0.8382099162500999, 0.8382099162500999, 0.8382099162500999, 0.8382099162500999, 0.8382099162500999, 0.8382099162500999, 0.8382099162500999, 0.8382099162500999, 0.8382099162500999, 0.8382099162500999, 0.8382099162500999, 0.8382099162500999, 0.8382099162500999, 8.416800834741268, 0.8382099162500999, 16.634909873285338, 6.198500693078776, 6.198500693078776, 7.675457678149295, 12.565900625548712, 0.8382099162500999, 0.8382099162500999, 0.8382099162500999, 0.8382099162500999, 0.8382099162500999, 0.8382099162500999, 0.8382099162500999, 0.8382099162500999, 0.8382099162500999, 0.8382099162500999, 0.8382099162500999, 7.191123362727743, 3.103944213268675, 5.286546512108855, 2.893237856323289, 5.20632975064036, 2.3151669043202143, 2.4128492960964714, 2.7955554650366032, 4.681498835288782, 6.9193151812011555, 2.3297172956115064, 1.6240719858904762, 2.9954393167661117, 3.741378098802056, 1.6240719861216812, 3.0091770630537424, 8.153992250661654, 1.626987226113267, 2.94059545391157, 1.5438552255802853, 1.5293048345187155, 2.5035156006030084, 1.7978702909077942, 1.7978702909077942, 1.7978702909077942, 1.7978702909077942, 1.7978702909077928, 1.7978702909077935, 1.7978702909077935, 3.900255828975534, 1.0922249812125489, 1.0922249812125489, 1.0922249812125489, 1.0922249812125489, 1.0922249812125489, 1.0922249812125489, 1.0922249812125489, 1.0922249812125489, 1.0922249812125489, 1.0922249812125489, 1.0922249812125489, 1.0922249812125489, 1.0922249812125489, 1.0922249812125489, 1.0922249812125489, 1.0922249812125489, 1.0922249812125489, 1.0922249812125489, 1.0922249812125489, 1.0922249812125489, 1.0922249812125489, 1.0922249812125489, 1.0922249812125489, 1.0922249812125489, 1.0922249812125489, 1.0922249812125489, 1.0922249812125489, 1.0922249812125489, 1.0922249812125489, 1.0922249812125489, 1.0922249812125489, 1.0922249812125489, 1.0922249812125489, 1.0922249812125489, 1.0922249812125489, 1.0922249812125489, 1.0922249812125489, 1.0922249812125489, 1.0922249812125489, 1.0922249812125489, 1.0922249812125489, 1.0922249812125489, 1.0922249812125489, 1.0922249812125489, 4.078154980824954, 1.0922249812125489, 1.0922249812125489, 1.0922249812125489, 2.5438090726529334, 6.817161756977675, 1.0922249812125489, 6.963857533409138, 2.94059545391157, 1.0922249812125489, 2.9954393167661117, 5.577805056207408, 9.918108195489744, 3.2777425187948777, 7.419615335193361, 3.741378098802056, 1.0922249812125489, 8.153992250661654, 1.0922249812125489, 8.416800834741268, 1.0922249812125489, 1.0922249812125489, 5.20632975064036, 5.592490203117222, 6.198500693078776, 6.198500693078776, 7.191123362727743, 7.675457678149295, 1.0922249812125489, 12.565900625548712, 2.6269410733664897, 1.5077903142037794, 1.5077903142037794, 1.5077903142037785, 1.5077903142037792, 1.5077903142037792, 0.947184992860593, 0.947184992860593, 0.947184992860593, 0.947184992860593, 0.947184992860593, 0.947184992860593, 0.947184992860593, 0.947184992860593, 0.947184992860593, 0.947184992860593, 0.947184992860593, 0.947184992860593, 0.947184992860593, 0.947184992860593, 0.947184992860593, 0.947184992860593, 0.947184992860593, 0.947184992860593, 0.947184992860593, 0.947184992860593, 0.947184992860593, 0.947184992860593, 0.947184992860593, 0.947184992860593, 0.947184992860593, 0.947184992860593, 0.947184992860593, 0.947184992860593, 0.947184992860593, 0.947184992860593, 0.947184992860593, 0.947184992860593, 0.947184992860593, 0.947184992860593, 0.947184992860593, 0.947184992860593, 0.947184992860593, 0.947184992860593, 0.947184992860593, 0.947184992860593, 0.947184992860593, 0.947184992860593, 0.947184992860593, 0.947184992860593, 0.947184992860593, 0.947184992860593, 0.947184992860593, 0.947184992860593, 0.947184992860593, 0.947184992860593, 0.947184992860593, 0.947184992860593, 2.2965676232310543, 0.947184992860593, 4.386058556012616, 18.71219846879973, 11.453146939632314, 14.075580409525292, 6.074528764712879, 3.082429692442687, 3.8254532357564606, 3.8254532357564606, 4.617145785166463, 17.769205207929975, 0.947184992860593, 0.947184992860593, 0.947184992860593, 0.947184992860593, 0.947184992860593, 0.947184992860593, 0.947184992860593, 0.947184992860593, 0.947184992860593, 0.947184992860593, 0.947184992860593, 0.947184992860593, 2.3987690824292653, 1.6528303004733467, 3.9559428341651626, 2.3987690841131735, 2.812905156623217, 2.8648337805425883, 2.893237856323289, 3.3076864439417295, 1.7330470630645662, 1.7330470630645662, 1.693123774514093, 1.693123774514093, 1.733047063084844, 1.733047063084844, 0.7101919899376471, 0.7101919899376471, 0.7101919899376471, 0.7101919899376471, 0.7101919899376471, 0.7101919899376471, 0.7101919899376471, 0.7101919899376471, 0.7101919899376471, 0.7101919899376471, 0.7101919899376471, 0.7101919899376471, 0.7101919899376471, 0.7101919899376471, 0.7101919899376471, 0.7101919899376471, 0.7101919899376471, 0.7101919899376471, 0.7101919899376471, 0.7101919899376471, 0.7101919899376471, 0.7101919899376471, 0.7101919899376471, 0.7101919899376471, 0.7101919899376471, 0.7101919899376471, 0.7101919899376471, 0.7101919899376471, 0.7101919899376471, 0.7101919899376471, 1.1582818485227937, 2.3987690824292653, 1.6528303004733467, 2.4744148180120455, 1.092224981212496, 1.092224981212496, 1.092224981212496, 1.092224981212496, 1.092224981212496, 1.092224981212496, 1.092224981212496, 1.092224981212496, 1.092224981212496, 1.0922249812124962, 1.0922249812124962, 1.092224981212496, 1.092224981212496, 1.092224981212496, 16.634909873285338, 7.191123362727743, 11.453146939632314, 12.565900625548712, 7.675457678149295, 9.918108195489744, 3.700968686395287, 6.074528764712879, 18.71219846879973, 17.769205207929975, 5.577805056207408, 14.075580409525292, 0.7101919899376471, 0.7101919899376471, 0.7101919899376471, 0.7101919899376471, 0.7101919899376471, 0.7101919899376471, 0.7101919899376471, 0.7101919899376471, 0.7101919899376471, 0.7101919899376471, 0.7101919899376471, 0.7101919899376471, 0.7101919899376471, 0.7101919899376471, 0.7101919899376471, 0.7101919899376471, 0.7101919899376471, 0.7101919899376471, 0.7101919899376471, 0.7101919899376471, 0.7101919899376471, 0.7101919899376471, 0.7101919899376471, 0.7101919899376471, 0.7101919899376471, 0.7101919899376471, 0.7101919899376471, 0.7101919899376471, 0.7101919899376471, 0.7101919899376471, 14.075580409525292, 0.7101919899376471, 5.6292068616042314, 17.769205207929975, 18.71219846879973, 2.2016993678357095, 3.027854911168027, 3.6312987598625486, 5.577805056207408, 4.513557620814207, 4.548404799759123, 1.496054059410769, 1.4989692994271806, 1.4989692994271806, 1.8571949071422014, 4.651163301274575, 1.4012869079318613, 1.4012869079909023, 1.2707973110212678, 2.667764067744148, 4.54473519085837, 4.54473519085837, 4.54473519085837, 0.7101919899376471, 0.7101919899376471, 0.7101919899376471, 0.7101919899376471, 0.7101919899376471, 0.7101919899376471, 0.7101919899376471, 0.7101919899376471, 0.7101919899376471, 0.7101919899376471, 0.7101919899376471, 0.7101919899376471, 0.7101919899376471, 0.7101919899376471, 0.7101919899376471, 0.7101919899376471, 0.7101919899376471, 0.7101919899376471, 0.7101919899376471, 0.7101919899376471, 0.7101919899376471, 0.7101919899376471, 0.7101919899376471, 0.7101919899376471, 0.7101919899376471, 0.7101919899376471, 0.7101919899376471, 0.7101919899376471, 0.7101919899376471, 0.7101919899376471, 0.7101919899376471, 0.7101919899376471, 0.7101919899376471, 0.7101919899376471, 0.7101919899376471, 1.1582818485227937, 2.3987690824292653, 1.6528303004733467, 2.4744148180120455, 1.092224981212496, 1.092224981212496, 1.092224981212496, 1.092224981212496, 1.092224981212496, 1.092224981212496, 1.092224981212496, 1.092224981212496, 1.092224981212496, 1.0922249812124962, 1.0922249812124962, 1.092224981212496, 1.092224981212496, 1.092224981212496, 16.634909873285338, 7.191123362727743, 11.453146939632314, 12.565900625548712, 7.675457678149295, 9.918108195489744, 3.700968686395287, 6.074528764712879, 18.71219846879973, 17.769205207929975, 5.577805056207408, 14.075580409525292], \"loglift\": [30.0, 29.0, 28.0, 27.0, 26.0, 25.0, 24.0, 23.0, 22.0, 21.0, 20.0, 19.0, 18.0, 17.0, 16.0, 15.0, 14.0, 13.0, 12.0, 11.0, 10.0, 9.0, 8.0, 7.0, 6.0, 5.0, 4.0, 3.0, 2.0, 1.0, 1.5627, 1.5054, 1.5054, 1.5054, 1.5054, 1.357, 1.357, 1.357, 1.357, 1.357, 1.357, 1.357, 1.357, 1.357, 1.357, 1.357, 1.357, 1.357, 1.357, 1.357, 1.357, 1.357, 1.357, 1.357, 1.357, 1.357, 1.357, 1.357, 1.357, 1.357, 1.3404, 1.3404, 1.3404, 1.357, 1.357, 1.2321, 1.357, 1.1962, 1.1827, 1.1827, 1.0696, 0.4778, 0.8507, 0.8442, 1.357, 1.357, 1.357, 1.357, 1.357, 1.357, 0.3769, 0.9812, 0.9425, 0.8879, 0.5993, 1.357, 1.357, 0.8358, 0.8358, 1.357, 0.4736, 0.8023, 1.357, 1.357, 0.7559, 0.7559, 1.357, 1.357, 0.6991, 1.357, 0.1339, 1.357, 0.0412, 0.5123, 0.5231, 0.5231, 0.5231, 0.5231, 0.5231, 0.5231, 0.5231, 0.5231, 0.5231, 0.5231, 0.5231, 0.5231, 0.5231, 0.5231, 0.5231, 0.5231, 0.5231, 0.5231, 0.5231, 0.5231, 0.5231, 0.5231, 0.5231, 0.5231, 0.5231, 0.5231, 0.5231, 0.5231, 0.5231, 0.5231, 0.0339, -0.6941, -0.3216, -0.7251, 0.0926, 0.0926, 0.0926, 0.0926, 0.0926, 0.0926, 0.0926, 0.0926, 0.0926, 0.0926, 0.0926, 0.0926, 0.0926, 0.0926, -2.6306, -1.792, -2.2574, -2.3501, -1.8572, -2.1135, -1.1277, -1.6232, -2.7483, -2.6966, -1.5379, -2.4636, 1.6485, 1.6485, 1.6485, 1.6485, 1.4931, 1.4931, 1.4931, 1.4931, 1.4931, 1.4931, 1.4931, 1.4931, 1.4931, 1.4931, 1.4931, 1.4931, 1.4931, 1.4931, 1.4931, 1.4931, 1.4931, 1.4931, 1.4931, 1.4931, 1.4931, 1.4931, 1.4931, 1.4931, 1.4931, 1.4931, 1.433, 1.4931, 1.3873, 1.4931, 1.4931, 1.4931, 1.4931, 1.4931, 1.4931, 1.4931, 1.4931, 1.4931, 1.4931, 1.4931, 1.4931, 1.4931, 1.4931, 1.4931, 1.4931, 1.4931, 1.4931, 1.4931, 1.4931, 1.2616, 1.4931, 1.3352, 1.3296, 0.7374, 0.8256, 0.9456, 0.7393, 0.9595, 0.8984, 1.4931, 1.4931, 1.4931, 0.0784, 0.7642, 0.0291, -0.1379, 0.3382, 1.4931, 1.4931, 1.4931, 1.4931, 1.4931, 1.4931, 0.1804, 1.4931, 1.4931, -0.6502, 1.4931, 1.4931, 1.4931, 1.4931, 1.4931, 1.4931, 1.4931, 1.4931, 1.4931, 1.4931, 1.4931, 1.4931, 1.4931, 1.4931, 1.4931, 0.7426, 0.9645, 0.9645, 0.9661, 0.6517, 0.9661, 0.6573, 0.9661, 0.5231, 0.5231, 0.5231, 0.5231, 0.5231, 0.5231, 0.5231, 0.5231, 0.5231, 0.5231, 0.5231, 0.5231, 0.5231, 0.5231, 0.5231, 0.5231, 0.5231, 0.5231, 0.5231, 0.5231, 0.5231, 0.5231, 0.5231, 0.5231, 0.5231, 0.5231, 0.5231, 0.5231, 0.5231, 0.5231, 0.0339, -0.6941, -0.3216, -0.7251, 0.0926, 0.0926, 0.0926, 0.0926, 0.0926, 0.0926, 0.0926, 0.0926, 0.0926, 0.0926, 0.0926, 0.0926, 0.0926, 0.0926, -2.6306, -1.792, -2.2574, -2.3501, -1.8572, -2.1135, -1.1277, -1.6232, -2.7483, -2.6966, -1.5379, -2.4636, 2.9227, 2.9227, 2.6665, 2.6665, 2.6665, 2.6665, 2.6665, 2.6665, 2.6665, 2.6665, 2.6665, 2.6665, 2.6665, 2.6665, 2.6665, 2.6665, 2.6665, 2.6665, 2.6665, 2.6665, 2.6665, 2.6665, 2.6665, 2.6665, 2.6665, 2.6665, 2.6665, 2.6665, 2.6665, 2.6665, 2.6665, 2.6665, 2.6665, 2.6665, 2.6665, 2.6665, 2.6665, 2.6665, 2.6665, 2.6665, 2.6665, 2.6665, 2.6665, 2.6665, 2.6665, 2.6665, 2.6665, 2.6665, 2.6665, 2.6665, 2.6665, 2.6665, 2.6665, 2.6665, 2.6665, 2.6665, 2.6665, 2.6665, 2.6665, 2.6665, 2.6665, 2.6665, 2.6665, 2.6665, 2.6665, 2.6665, 2.6665, 2.6665, 2.6665, 2.6665, 2.6665, 2.6665, 2.6665, 2.6665, 2.6665, 2.6665, 2.6665, 2.6665, 2.6665, 2.6665, 2.6665, 2.6665, 2.6665, 2.6665, 2.6665, 2.6665, 2.6665, 2.6665, 2.6665, 2.6665, 2.6665, 2.6665, 2.6665, 2.6665, 2.6665, 2.6665, 2.4048, 2.6665, 2.6665, 1.5549, 0.6929, 1.5572, 0.4069, -0.4009, 0.372, 0.5857, 0.5857, 1.0997, 1.3112, 1.374, 1.5722, 1.5976, 1.5976, 1.3557, 1.2653, 1.9906, 1.9906, 1.9647, 1.9906, 1.9628, 1.9628, 1.9628, 2.0175, 2.0274, 2.0274, 2.0274, 1.5939, 1.5066, 1.5066, 1.5066, 1.5066, 1.5066, 1.5066, 1.3587, 1.3587, 1.3587, 1.3587, 1.3587, 1.3587, 1.3587, 1.3587, 1.3587, 1.3587, 1.3587, 1.3587, 1.3587, 1.3587, 1.3587, 1.3587, 1.3587, 1.3587, 1.3587, 1.3587, 1.3587, 1.3587, 1.3587, 1.3214, 1.3391, 1.3587, 1.3587, 1.3263, 1.3587, 1.3587, 1.3587, 1.3587, 1.3587, 1.3587, 1.3587, 1.3587, 1.3587, 1.3587, 1.3587, 1.3587, 1.3587, 1.3587, 1.3587, 1.3587, 1.3587, 1.3587, 1.3587, 1.3587, 1.3587, 1.0927, 1.3587, 1.3587, 1.3587, 1.1847, 1.1847, 1.3587, 1.3587, 1.3587, 1.3587, 1.3587, 1.3587, 1.3587, 1.3587, 1.3587, 1.3587, 1.3587, 1.3587, 1.3587, 1.0692, 1.3587, 1.3587, 1.3587, 1.3587, 1.3587, 1.3587, 1.3587, 1.3587, 1.1701, 1.1701, 0.7316, 1.0327, 1.3587, 0.6141, 1.3587, 1.3587, 1.3587, 1.3587, 1.3587, 1.3587, 1.3587, 1.3587, 1.3587, 1.3587, 1.3587, 1.3587, 1.3587, 1.3587, 1.3587, 1.3587, 1.3587, 0.8563, 1.0388, 1.3587, 1.3587, 0.5474, 1.3587, 1.3587, 1.3587, 0.7514, 0.7514, 1.3587, 1.3587, 0.9459, 1.3587, 1.3587, 1.3587, 1.3587, 0.642, 1.3587, 1.3587, 1.3587, 0.1492, 0.5377, 0.701, 1.3587, -0.0189, 0.6519, 0.5231, 0.5231, 0.5231, 0.5231, 0.5231, 0.5231, 0.5231, 0.5231, 0.5231, 0.5231, 0.5231, 0.5231, 0.5231, 0.5231, 0.5231, 0.5231, 0.5231, 0.5231, 0.5231, 0.5231, 0.5231, 0.5231, 0.5231, 0.5231, 0.5231, 0.5231, 0.5231, 0.5231, 0.5231, 0.5231, 0.0339, -0.6941, -0.3216, -0.7251, 0.0926, 0.0926, 0.0926, 0.0926, 0.0926, 0.0926, 0.0926, 0.0926, 0.0926, 0.0926, 0.0926, 0.0926, 0.0926, 0.0926, -2.6306, -1.792, -2.2574, -2.3501, -1.8572, -2.1135, -1.1277, -1.6232, -2.7483, -2.6966, -1.5379, -2.4636, 1.7111, 1.7111, 1.7111, 1.7111, 1.7111, 1.7111, 1.7111, 1.7111, 1.7111, 1.7111, 1.7111, 1.7111, 1.7111, 1.7111, 1.7111, 1.7111, 1.7111, 1.7111, 1.7111, 1.7111, 1.7111, 1.7111, 1.7111, 1.7111, 1.7111, 1.7111, 1.7111, 1.7111, 1.7111, 1.7111, 1.7111, 1.7111, 1.7111, 1.7111, 1.7111, 1.7111, 1.7111, 1.7111, 1.7111, 1.7111, 1.7111, 1.7111, 1.7111, 1.7111, 1.7111, 1.7111, 1.7111, 1.7111, 1.7111, 1.7111, 1.7111, 1.7111, 1.7111, 1.7111, 1.7111, 1.7111, 1.7111, 1.7111, 1.7111, 1.7111, 1.7111, 1.7111, 1.7111, 1.7111, 1.7111, 1.7111, 1.7111, 1.7111, 1.7111, 1.7111, 1.7111, 1.5413, 1.5413, 1.3614, 1.7111, 1.3457, 1.7111, 1.2524, 1.7111, 1.7111, 1.7111, 1.7111, 1.7111, 1.7111, 1.7111, 1.7111, 1.7111, 1.7111, 1.7111, 1.7111, 1.7111, 1.7111, 1.7111, 1.7111, 1.7111, 1.7111, 1.7111, 1.7111, 0.9226, 1.7111, 0.4666, 1.7111, 1.7111, 1.0668, 0.3127, 1.7111, 0.5476, 0.311, 0.7975, 0.7822, 1.7111, 1.7111, 1.7111, -0.0872, 1.7111, 0.4616, 0.4432, 1.7111, 1.7111, 0.8257, 0.8257, 1.1619, 1.1619, 1.1619, 1.1851, 1.1635, 1.1851, 1.1635, 0.8257, 1.1635, 1.1635, 1.1635, 1.1619, 2.7443, 2.7443, 2.7443, 2.7443, 2.7443, 2.7443, 2.7443, 2.7443, 2.7443, 2.7443, 2.7443, 2.7443, 2.7443, 2.7443, 2.7443, 2.7443, 2.7443, 2.7443, 2.7443, 2.7443, 2.7443, 2.7443, 2.7443, 2.7443, 2.7443, 2.7443, 2.7443, 2.7443, 2.7443, 2.7443, 2.7443, 2.7443, 2.7443, 2.7443, 2.7443, 2.7443, 2.7443, 2.7443, 2.7443, 2.7443, 1.7016, 1.2113, 2.7443, 2.7443, 2.7443, 2.7443, 2.7443, 2.7443, 2.7443, 2.7443, 2.7443, 1.7305, 2.7443, 2.7443, 2.7443, 2.7443, 2.7443, 2.7443, 2.7443, 2.7443, 2.7443, 2.7443, 2.7443, 2.7443, 2.7443, 2.7443, 2.7443, 2.7443, 2.7443, 2.7443, 2.7443, 2.7443, 2.7443, 1.356, 0.4768, 1.6435, 1.6435, 1.65, 1.7119, 2.0504, 2.0239, 2.022, 1.8306, 2.022, 2.022, 2.022, 2.0878, 2.0878, 2.0878, 2.0878, 1.6071, 2.3835, 2.3835, 2.7443, 2.4724, 2.4724, 2.4724, 2.4724, 2.4724, 2.4724, 2.4724, 2.4724, 2.4724, 2.4724, 2.4724, 2.4724, 2.4724, 2.4724, 2.4724, 2.4724, 2.4724, 2.4724, 2.4724, 2.4724, 2.4724, 2.4724, 2.4724, 2.4724, 2.4724, 2.4724, 2.4724, 2.4724, 2.4724, 2.4724, 2.1909, 2.4724, 2.1075, 1.9189, 2.4724, 2.4724, 2.4724, 2.4724, 2.4724, 2.4724, 2.4724, 2.4724, 2.4724, 2.4724, 2.4724, 2.4724, 2.4724, 2.4724, 2.4724, 2.4724, 2.4724, 2.4724, 2.4724, 2.4724, 2.4724, 2.4724, 2.4724, 2.4724, 2.4724, 2.4724, 2.4724, 2.4724, 1.2217, 2.4724, 0.5404, 1.133, 1.133, 0.9192, 0.4263, 2.4724, 2.4724, 2.4724, 2.4724, 2.4724, 2.4724, 2.4724, 2.4724, 2.4724, 2.4724, 2.4724, 0.323, 1.1632, 0.6307, 1.2335, 0.646, 1.4564, 1.4151, 1.2678, 0.7522, 0.3615, 1.4501, 1.8109, 1.1988, 0.9764, 1.8109, 1.1942, 0.1974, 1.8091, 1.2173, 1.8616, 1.8711, 1.8922, 1.8287, 1.8287, 1.8287, 1.8287, 1.8287, 1.8287, 1.8287, 1.7311, 1.6656, 1.6656, 1.6656, 1.6656, 1.6656, 1.6656, 1.6656, 1.6656, 1.6656, 1.6656, 1.6656, 1.6656, 1.6656, 1.6656, 1.6656, 1.6656, 1.6656, 1.6656, 1.6656, 1.6656, 1.6656, 1.6656, 1.6656, 1.6656, 1.6656, 1.6656, 1.6656, 1.6656, 1.6656, 1.6656, 1.6656, 1.6656, 1.6656, 1.6656, 1.6656, 1.6656, 1.6656, 1.6656, 1.6656, 1.6656, 1.6656, 1.6656, 1.6656, 1.6656, 1.4043, 1.6656, 1.6656, 1.6656, 1.4816, 1.1727, 1.6656, 1.1514, 1.3366, 1.6656, 1.3182, 1.0911, 0.7978, 1.2281, 0.8058, 1.0958, 1.6656, 0.7114, 1.6656, 0.6797, 1.6656, 1.6656, 0.7654, 0.6938, 0.5909, 0.5909, 0.4424, 0.3772, 1.6656, -0.1157, 0.788, 2.3501, 2.3501, 2.3501, 2.3501, 2.3501, 2.1536, 2.1536, 2.1536, 2.1536, 2.1536, 2.1536, 2.1536, 2.1536, 2.1536, 2.1536, 2.1536, 2.1536, 2.1536, 2.1536, 2.1536, 2.1536, 2.1536, 2.1536, 2.1536, 2.1536, 2.1536, 2.1536, 2.1536, 2.1536, 2.1536, 2.1536, 2.1536, 2.1536, 2.1536, 2.1536, 2.1536, 2.1536, 2.1536, 2.1536, 2.1536, 2.1536, 2.1536, 2.1536, 2.1536, 2.1536, 2.1536, 2.1536, 2.1536, 2.1536, 2.1536, 2.1536, 2.1536, 2.1536, 2.1536, 2.1536, 2.1536, 2.1536, 1.9293, 2.1536, 1.6769, 1.061, 1.2192, 1.013, 1.3513, 1.635, 1.419, 1.419, 1.2309, 0.2779, 2.1536, 2.1536, 2.1536, 2.1536, 2.1536, 2.1536, 2.1536, 2.1536, 2.1536, 2.1536, 2.1536, 2.1536, 1.2244, 1.5968, 0.7241, 1.2244, 1.0651, 1.0468, 1.0369, 0.9031, 1.5494, 1.5494, 1.5727, 1.5727, 1.5494, 1.5494, 0.5231, 0.5231, 0.5231, 0.5231, 0.5231, 0.5231, 0.5231, 0.5231, 0.5231, 0.5231, 0.5231, 0.5231, 0.5231, 0.5231, 0.5231, 0.5231, 0.5231, 0.5231, 0.5231, 0.5231, 0.5231, 0.5231, 0.5231, 0.5231, 0.5231, 0.5231, 0.5231, 0.5231, 0.5231, 0.5231, 0.0339, -0.6941, -0.3216, -0.7251, 0.0926, 0.0926, 0.0926, 0.0926, 0.0926, 0.0926, 0.0926, 0.0926, 0.0926, 0.0926, 0.0926, 0.0926, 0.0926, 0.0926, -2.6306, -1.792, -2.2574, -2.3501, -1.8572, -2.1135, -1.1277, -1.6232, -2.7483, -2.6966, -1.5379, -2.4636, 2.8405, 2.8405, 2.8405, 2.8405, 2.8405, 2.8405, 2.8405, 2.8405, 2.8405, 2.8405, 2.8405, 2.8405, 2.8405, 2.8405, 2.8405, 2.8405, 2.8405, 2.8405, 2.8405, 2.8405, 2.8405, 2.8405, 2.8405, 2.8405, 2.8405, 2.8405, 2.8405, 2.8405, 2.8405, 2.8405, 1.1921, 2.8405, 1.4317, 0.2822, 0.2305, 1.7091, 1.3904, 1.2087, 0.7795, 0.9912, 0.9835, 2.0955, 2.0935, 2.0935, 1.8792, 0.9612, 2.1609, 2.1609, 2.2587, 1.5171, 0.9843, 0.9843, 0.9843, 2.8405, 2.8405, 2.8405, 2.8405, 2.8405, 0.5231, 0.5231, 0.5231, 0.5231, 0.5231, 0.5231, 0.5231, 0.5231, 0.5231, 0.5231, 0.5231, 0.5231, 0.5231, 0.5231, 0.5231, 0.5231, 0.5231, 0.5231, 0.5231, 0.5231, 0.5231, 0.5231, 0.5231, 0.5231, 0.5231, 0.5231, 0.5231, 0.5231, 0.5231, 0.5231, 0.0339, -0.6941, -0.3216, -0.7251, 0.0926, 0.0926, 0.0926, 0.0926, 0.0926, 0.0926, 0.0926, 0.0926, 0.0926, 0.0926, 0.0926, 0.0926, 0.0926, 0.0926, -2.6306, -1.792, -2.2574, -2.3501, -1.8572, -2.1135, -1.1277, -1.6232, -2.7483, -2.6966, -1.5379, -2.4636], \"logprob\": [30.0, 29.0, 28.0, 27.0, 26.0, 25.0, 24.0, 23.0, 22.0, 21.0, 20.0, 19.0, 18.0, 17.0, 16.0, 15.0, 14.0, 13.0, 12.0, 11.0, 10.0, 9.0, 8.0, 7.0, 6.0, 5.0, 4.0, 3.0, 2.0, 1.0, -5.7505, -6.1452, -6.1452, -6.1452, -6.1452, -6.8066, -6.8066, -6.8066, -6.8066, -6.8066, -6.8066, -6.8066, -6.8066, -6.8066, -6.8066, -6.8066, -6.8066, -6.8066, -6.8066, -6.8066, -6.8066, -6.8066, -6.8066, -6.8066, -6.8066, -6.8066, -6.8066, -6.8066, -6.8066, -6.8066, -5.4683, -5.4683, -5.4683, -6.8066, -6.8066, -5.4683, -6.8066, -6.1452, -6.1452, -6.1452, -6.1452, -4.9157, -5.7505, -5.7505, -6.8066, -6.8066, -6.8066, -6.8066, -6.8066, -6.8066, -5.0683, -6.1452, -6.1452, -6.1452, -5.7505, -6.8066, -6.8066, -6.1452, -6.1452, -6.8066, -5.7505, -6.1452, -6.8066, -6.8066, -6.1452, -6.1452, -6.8066, -6.8066, -6.1452, -6.8066, -5.7505, -6.8066, -5.7505, -6.1452, -8.1418, -8.1418, -8.1418, -8.1418, -8.1418, -8.1418, -8.1418, -8.1418, -8.1418, -8.1418, -8.1418, -8.1418, -8.1418, -8.1418, -8.1418, -8.1418, -8.1418, -8.1418, -8.1418, -8.1418, -8.1418, -8.1418, -8.1418, -8.1418, -8.1418, -8.1418, -8.1418, -8.1418, -8.1418, -8.1418, -8.1418, -8.1418, -8.1418, -8.1418, -8.1418, -8.1418, -8.1418, -8.1418, -8.1418, -8.1418, -8.1418, -8.1418, -8.1418, -8.1418, -8.1418, -8.1418, -8.1418, -8.1418, -8.1418, -8.1418, -8.1418, -8.1418, -8.1418, -8.1418, -8.1418, -8.1418, -8.1418, -8.1418, -8.1418, -8.1418, -6.0437, -6.0437, -6.0437, -6.0437, -6.7051, -6.7051, -6.7051, -6.7051, -6.7051, -6.7051, -6.7051, -6.7051, -6.7051, -6.7051, -6.7051, -6.7051, -6.7051, -6.7051, -6.7051, -6.7051, -6.7051, -6.7051, -6.7051, -6.7051, -6.7051, -6.7051, -6.7051, -6.7051, -6.7051, -6.7051, -6.0437, -6.7051, -6.0437, -6.7051, -6.7051, -6.7051, -6.7051, -6.7051, -6.7051, -6.7051, -6.7051, -6.7051, -6.7051, -6.7051, -6.7051, -6.7051, -6.7051, -6.7051, -6.7051, -6.7051, -6.7051, -6.7051, -6.7051, -5.6491, -6.7051, -6.0437, -6.0437, -5.147, -5.3668, -5.6491, -5.6491, -6.0437, -6.0437, -6.7051, -6.7051, -6.7051, -5.3668, -6.0437, -5.6491, -5.6491, -6.0437, -6.7051, -6.7051, -6.7051, -6.7051, -6.7051, -6.7051, -6.0437, -6.7051, -6.7051, -6.0437, -6.7051, -6.7051, -6.7051, -6.7051, -6.7051, -6.7051, -6.7051, -6.7051, -6.7051, -6.7051, -6.7051, -6.7051, -6.7051, -6.7051, -6.7051, -6.7051, -6.7051, -6.7051, -6.7051, -6.7051, -6.7051, -6.7051, -6.7051, -8.1418, -8.1418, -8.1418, -8.1418, -8.1418, -8.1418, -8.1418, -8.1418, -8.1418, -8.1418, -8.1418, -8.1418, -8.1418, -8.1418, -8.1418, -8.1418, -8.1418, -8.1418, -8.1418, -8.1418, -8.1418, -8.1418, -8.1418, -8.1418, -8.1418, -8.1418, -8.1418, -8.1418, -8.1418, -8.1418, -8.1418, -8.1418, -8.1418, -8.1418, -8.1418, -8.1418, -8.1418, -8.1418, -8.1418, -8.1418, -8.1418, -8.1418, -8.1418, -8.1418, -8.1418, -8.1418, -8.1418, -8.1418, -8.1418, -8.1418, -8.1418, -8.1418, -8.1418, -8.1418, -8.1418, -8.1418, -8.1418, -8.1418, -8.1418, -8.1418, -5.253, -5.253, -5.9144, -5.9144, -5.9144, -5.9144, -5.9144, -5.9144, -5.9144, -5.9144, -5.9144, -5.9144, -5.9144, -5.9144, -5.9144, -5.9144, -5.9144, -5.9144, -5.9144, -5.9144, -5.9144, -5.9144, -5.9144, -5.9144, -5.9144, -5.9144, -5.9144, -5.9144, -5.9144, -5.9144, -5.9144, -5.9144, -5.9144, -5.9144, -5.9144, -5.9144, -5.9144, -5.9144, -5.9144, -5.9144, -5.9144, -5.9144, -5.9144, -5.9144, -5.9144, -5.9144, -5.9144, -5.9144, -5.9144, -5.9144, -5.9144, -5.9144, -5.9144, -5.9144, -5.9144, -5.9144, -5.9144, -5.9144, -5.9144, -5.9144, -5.9144, -5.9144, -5.9144, -5.9144, -5.9144, -5.9144, -5.9144, -5.9144, -5.9144, -5.9144, -5.9144, -5.9144, -5.9144, -5.9144, -5.9144, -5.9144, -5.9144, -5.9144, -5.9144, -5.9144, -5.9144, -5.9144, -5.9144, -5.9144, -5.9144, -5.9144, -5.9144, -5.9144, -5.9144, -5.9144, -5.9144, -5.9144, -5.9144, -5.9144, -5.9144, -5.9144, -5.253, -5.9144, -5.9144, -5.253, -5.9109, -5.9116, -5.9116, -5.912, -5.9127, -5.9127, -5.9127, -5.9144, -5.9144, -5.9144, -5.9144, -5.9144, -5.9144, -5.9144, -5.9144, -5.9144, -5.9144, -5.9144, -5.9144, -5.9144, -5.9144, -5.9144, -5.9144, -5.9144, -5.9144, -5.9144, -5.4641, -6.141, -6.141, -6.141, -6.141, -6.141, -6.141, -6.8024, -6.8024, -6.8024, -6.8024, -6.8024, -6.8024, -6.8024, -6.8024, -6.8024, -6.8024, -6.8024, -6.8024, -6.8024, -6.8024, -6.8024, -6.8024, -6.8024, -6.8024, -6.8024, -6.8024, -6.8024, -6.8024, -6.8024, -5.4641, -6.141, -6.8024, -6.8024, -6.1424, -6.8024, -6.8024, -6.8024, -6.8024, -6.8024, -6.8024, -6.8024, -6.8024, -6.8024, -6.8024, -6.8024, -6.8024, -6.8024, -6.8024, -6.8024, -6.8024, -6.8024, -6.8024, -6.8024, -6.8024, -6.8024, -5.2442, -6.8024, -6.8024, -6.8024, -6.141, -6.141, -6.8024, -6.8024, -6.8024, -6.8024, -6.8024, -6.8024, -6.8024, -6.8024, -6.8024, -6.8024, -6.8024, -6.8024, -6.8024, -5.7463, -6.8024, -6.8024, -6.8024, -6.8024, -6.8024, -6.8024, -6.8024, -6.8024, -6.141, -6.141, -4.7795, -5.7463, -6.8024, -5.0641, -6.8024, -6.8024, -6.8024, -6.8024, -6.8024, -6.8024, -6.8024, -6.8024, -6.8024, -6.8024, -6.8024, -6.8024, -6.8024, -6.8024, -6.8024, -6.8024, -6.8024, -5.7475, -6.141, -6.8024, -6.8024, -5.2442, -6.8024, -6.8024, -6.8024, -5.7469, -5.7469, -6.8024, -6.8024, -6.141, -6.8024, -6.8024, -6.8024, -6.8024, -5.7463, -6.8024, -6.8024, -6.8024, -5.2442, -5.7469, -6.141, -6.8024, -5.4641, -6.141, -8.1418, -8.1418, -8.1418, -8.1418, -8.1418, -8.1418, -8.1418, -8.1418, -8.1418, -8.1418, -8.1418, -8.1418, -8.1418, -8.1418, -8.1418, -8.1418, -8.1418, -8.1418, -8.1418, -8.1418, -8.1418, -8.1418, -8.1418, -8.1418, -8.1418, -8.1418, -8.1418, -8.1418, -8.1418, -8.1418, -8.1418, -8.1418, -8.1418, -8.1418, -8.1418, -8.1418, -8.1418, -8.1418, -8.1418, -8.1418, -8.1418, -8.1418, -8.1418, -8.1418, -8.1418, -8.1418, -8.1418, -8.1418, -8.1418, -8.1418, -8.1418, -8.1418, -8.1418, -8.1418, -8.1418, -8.1418, -8.1418, -8.1418, -8.1418, -8.1418, -6.5367, -6.5367, -6.5367, -6.5367, -6.5367, -6.5367, -6.5367, -6.5367, -6.5367, -6.5367, -6.5367, -6.5367, -6.5367, -6.5367, -6.5367, -6.5367, -6.5367, -6.5367, -6.5367, -6.5367, -6.5367, -6.5367, -6.5367, -6.5367, -6.5367, -6.5367, -6.5367, -6.5367, -6.5367, -6.5367, -6.5367, -6.5367, -6.5367, -6.5367, -6.5367, -6.5367, -6.5367, -6.5367, -6.5367, -6.5367, -6.5367, -6.5367, -6.5367, -6.5367, -6.5367, -6.5367, -6.5367, -6.5367, -6.5367, -6.5367, -6.5367, -6.5367, -6.5367, -6.5367, -6.5367, -6.5367, -6.5367, -6.5367, -6.5367, -6.5367, -6.5367, -6.5367, -6.5367, -6.5367, -6.5367, -6.5367, -6.5367, -6.5367, -6.5367, -6.5367, -6.5367, -5.8753, -5.8753, -5.4806, -6.5367, -5.8753, -6.5367, -5.8753, -6.5367, -6.5367, -6.5367, -6.5367, -6.5367, -6.5367, -6.5367, -6.5367, -6.5367, -6.5367, -6.5367, -6.5367, -6.5367, -6.5367, -6.5367, -6.5367, -6.5367, -6.5367, -6.5367, -6.5367, -5.4806, -6.5367, -4.9785, -6.5367, -6.5367, -5.8753, -5.1984, -6.5367, -5.4806, -5.4806, -5.8753, -5.8753, -6.5367, -6.5367, -6.5367, -5.4806, -6.5367, -5.8753, -5.8753, -6.5367, -6.5367, -6.5367, -6.5367, -6.5367, -6.5367, -6.5367, -6.5367, -6.5367, -6.5367, -6.5367, -6.5367, -6.5367, -6.5367, -6.5367, -6.5367, -5.873, -5.873, -5.873, -5.873, -5.873, -5.873, -5.873, -5.873, -5.873, -5.873, -5.873, -5.873, -5.873, -5.873, -5.873, -5.873, -5.873, -5.873, -5.873, -5.873, -5.873, -5.873, -5.873, -5.873, -5.873, -5.873, -5.873, -5.873, -5.873, -5.873, -5.873, -5.873, -5.873, -5.873, -5.873, -5.873, -5.873, -5.873, -5.873, -5.873, -4.8169, -4.8169, -5.873, -5.873, -5.873, -5.873, -5.873, -5.873, -5.873, -5.873, -5.873, -5.2116, -5.873, -5.873, -5.873, -5.873, -5.873, -5.873, -5.873, -5.873, -5.873, -5.873, -5.873, -5.873, -5.873, -5.873, -5.873, -5.873, -5.873, -5.873, -5.873, -5.873, -5.873, -5.873, -5.873, -5.873, -5.873, -5.873, -5.873, -5.873, -5.873, -5.873, -5.873, -5.873, -5.873, -5.873, -5.873, -5.873, -5.873, -5.873, -5.873, -5.873, -5.873, -5.873, -6.0268, -6.0268, -6.0268, -6.0268, -6.0268, -6.0268, -6.0268, -6.0268, -6.0268, -6.0268, -6.0268, -6.0268, -6.0268, -6.0268, -6.0268, -6.0268, -6.0268, -6.0268, -6.0268, -6.0268, -6.0268, -6.0268, -6.0268, -6.0268, -6.0268, -6.0268, -6.0268, -6.0268, -6.0268, -6.0268, -4.9707, -6.0268, -5.3654, -5.3654, -6.0268, -6.0268, -6.0268, -6.0268, -6.0268, -6.0268, -6.0268, -6.0268, -6.0268, -6.0268, -6.0268, -6.0268, -6.0268, -6.0268, -6.0268, -6.0268, -6.0268, -6.0268, -6.0268, -6.0268, -6.0268, -6.0268, -6.0268, -6.0268, -6.0268, -6.0268, -6.0268, -6.0268, -4.9707, -6.0268, -4.9707, -5.3654, -5.3654, -5.3654, -5.3654, -6.0268, -6.0268, -6.0268, -6.0268, -6.0268, -6.0268, -6.0268, -6.0268, -6.0268, -6.0268, -6.0268, -6.0268, -6.0268, -6.0268, -6.0268, -6.0268, -6.0268, -6.0268, -6.0268, -6.0268, -6.0268, -6.0268, -6.0268, -6.0268, -6.0268, -6.0268, -6.0268, -6.0268, -6.0268, -6.0268, -6.0268, -6.0268, -5.5127, -5.9074, -5.9074, -5.9074, -5.9074, -5.9074, -5.9074, -5.9074, -5.2305, -6.5688, -6.5688, -6.5688, -6.5688, -6.5688, -6.5688, -6.5688, -6.5688, -6.5688, -6.5688, -6.5688, -6.5688, -6.5688, -6.5688, -6.5688, -6.5688, -6.5688, -6.5688, -6.5688, -6.5688, -6.5688, -6.5688, -6.5688, -6.5688, -6.5688, -6.5688, -6.5688, -6.5688, -6.5688, -6.5688, -6.5688, -6.5688, -6.5688, -6.5688, -6.5688, -6.5688, -6.5688, -6.5688, -6.5688, -6.5688, -6.5688, -6.5688, -6.5688, -6.5688, -5.5127, -6.5688, -6.5688, -6.5688, -5.9074, -5.2305, -6.5688, -5.2305, -5.9074, -6.5688, -5.9074, -5.5127, -5.2305, -5.9074, -5.5127, -5.9074, -6.5688, -5.5127, -6.5688, -5.5127, -6.5688, -6.5688, -5.9074, -5.9074, -5.9074, -5.9074, -5.9074, -5.9074, -6.5688, -5.9074, -6.5688, -5.5619, -5.5619, -5.5619, -5.5619, -5.5619, -6.2233, -6.2233, -6.2233, -6.2233, -6.2233, -6.2233, -6.2233, -6.2233, -6.2233, -6.2233, -6.2233, -6.2233, -6.2233, -6.2233, -6.2233, -6.2233, -6.2233, -6.2233, -6.2233, -6.2233, -6.2233, -6.2233, -6.2233, -6.2233, -6.2233, -6.2233, -6.2233, -6.2233, -6.2233, -6.2233, -6.2233, -6.2233, -6.2233, -6.2233, -6.2233, -6.2233, -6.2233, -6.2233, -6.2233, -6.2233, -6.2233, -6.2233, -6.2233, -6.2233, -6.2233, -6.2233, -6.2233, -6.2233, -6.2233, -6.2233, -6.2233, -6.2233, -5.5619, -6.2233, -5.1673, -4.3325, -4.6652, -4.6652, -5.1673, -5.5619, -5.5619, -5.5619, -5.5619, -5.1673, -6.2233, -6.2233, -6.2233, -6.2233, -6.2233, -6.2233, -6.2233, -6.2233, -6.2233, -6.2233, -6.2233, -6.2233, -6.2233, -6.2233, -6.2233, -6.2233, -6.2233, -6.2233, -6.2233, -6.2233, -6.2233, -6.2233, -6.2233, -6.2233, -6.2233, -6.2233, -8.1418, -8.1418, -8.1418, -8.1418, -8.1418, -8.1418, -8.1418, -8.1418, -8.1418, -8.1418, -8.1418, -8.1418, -8.1418, -8.1418, -8.1418, -8.1418, -8.1418, -8.1418, -8.1418, -8.1418, -8.1418, -8.1418, -8.1418, -8.1418, -8.1418, -8.1418, -8.1418, -8.1418, -8.1418, -8.1418, -8.1418, -8.1418, -8.1418, -8.1418, -8.1418, -8.1418, -8.1418, -8.1418, -8.1418, -8.1418, -8.1418, -8.1418, -8.1418, -8.1418, -8.1418, -8.1418, -8.1418, -8.1418, -8.1418, -8.1418, -8.1418, -8.1418, -8.1418, -8.1418, -8.1418, -8.1418, -8.1418, -8.1418, -8.1418, -8.1418, -5.8243, -5.8243, -5.8243, -5.8243, -5.8243, -5.8243, -5.8243, -5.8243, -5.8243, -5.8243, -5.8243, -5.8243, -5.8243, -5.8243, -5.8243, -5.8243, -5.8243, -5.8243, -5.8243, -5.8243, -5.8243, -5.8243, -5.8243, -5.8243, -5.8243, -5.8243, -5.8243, -5.8243, -5.8243, -5.8243, -4.4861, -5.8243, -5.1629, -5.1629, -5.1629, -5.8243, -5.8243, -5.8243, -5.8243, -5.8243, -5.8243, -5.8243, -5.8243, -5.8243, -5.8243, -5.8243, -5.8243, -5.8243, -5.8243, -5.8243, -5.8243, -5.8243, -5.8243, -5.8243, -5.8243, -5.8243, -5.8243, -5.8243, -8.1418, -8.1418, -8.1418, -8.1418, -8.1418, -8.1418, -8.1418, -8.1418, -8.1418, -8.1418, -8.1418, -8.1418, -8.1418, -8.1418, -8.1418, -8.1418, -8.1418, -8.1418, -8.1418, -8.1418, -8.1418, -8.1418, -8.1418, -8.1418, -8.1418, -8.1418, -8.1418, -8.1418, -8.1418, -8.1418, -8.1418, -8.1418, -8.1418, -8.1418, -8.1418, -8.1418, -8.1418, -8.1418, -8.1418, -8.1418, -8.1418, -8.1418, -8.1418, -8.1418, -8.1418, -8.1418, -8.1418, -8.1418, -8.1418, -8.1418, -8.1418, -8.1418, -8.1418, -8.1418, -8.1418, -8.1418, -8.1418, -8.1418, -8.1418, -8.1418]}, \"token.table\": {\"Topic\": [1, 3, 3, 12, 12, 12, 11, 11, 3, 6, 8, 1, 1, 1, 3, 6, 8, 10, 11, 12, 12, 1, 6, 8, 11, 8, 8, 8, 11, 11, 1, 12, 3, 6, 6, 1, 3, 6, 12, 12, 12, 12, 12, 6, 6, 1, 1, 3, 8, 12, 12, 12, 3, 8, 9, 11, 11, 11, 8, 11, 12, 12, 1, 6, 12, 1, 1, 1, 1, 1, 1, 1, 1, 1, 1, 3, 11, 12, 3, 12, 12, 3, 3, 3, 3, 3, 3, 3, 11, 11, 11, 11, 11, 3, 6, 6, 6, 6, 6, 3, 12, 12, 12, 3, 1, 1, 1, 8, 8, 1, 8, 1, 8, 1, 1, 8, 3, 6, 8, 11, 3, 3, 6, 6, 8, 8, 8, 8, 6, 6, 3, 1, 6, 8, 3, 3, 3, 6, 6, 6, 6, 6, 6, 11, 11, 11, 3, 11, 6, 1, 3, 8, 11, 8, 3, 6, 11, 3, 3, 11, 6, 6, 6, 1, 3, 8, 11, 8, 11, 11, 11, 3, 12, 12, 12, 12, 12, 12, 1, 3, 12, 12, 12, 12, 12, 12, 3, 3, 8, 11, 8, 8, 11, 11, 1, 3, 12, 12, 12, 12, 12, 12, 3, 1, 3, 1, 3, 8, 3, 3, 3, 8, 10, 11, 6, 6, 6, 3, 6, 6, 3, 12, 11, 12, 11, 6, 12, 1, 3, 6, 10, 11, 11, 6, 6, 6, 6, 6, 1, 3, 3, 12, 12, 8, 8, 8, 6, 8, 8, 8, 1, 3, 1, 3, 6, 8, 12, 14, 6, 1, 12, 12, 12, 12, 12, 12, 3, 6, 8, 6, 12, 1, 3, 6, 8, 10, 11, 8, 11, 11, 8, 3, 11, 12, 11, 11, 12, 1, 1, 6, 6, 11, 11, 11, 11, 11, 1, 3, 6, 8, 12, 14, 8, 8, 1, 12, 12, 1, 1, 3, 6, 12, 12, 6, 6, 6, 11, 1, 6, 6, 6, 1, 1, 1, 11, 1, 1, 11, 11, 6, 6, 6, 1, 6, 8, 6, 1, 1, 8, 6, 6, 8, 8, 8, 8, 8, 8, 8, 8, 8, 8, 8, 8, 1, 3, 5, 6, 8, 8, 8, 1, 1, 3, 11, 6, 6, 6, 8, 8, 11, 11, 11, 6, 6, 6, 1, 6, 8, 11, 8, 8, 1, 1, 1, 8, 8, 8, 8, 6, 6, 6, 3, 6, 8, 8, 11, 3, 6, 11, 12, 6, 6, 8, 8, 8, 8, 8, 8, 6, 8, 6, 6, 6, 6, 6, 1, 6, 6, 6, 6, 11, 11, 11, 11, 8, 6, 6, 6, 3, 6, 8, 3, 3, 6, 6, 8, 1, 3, 3, 3, 6, 11, 11, 11, 1, 1, 1, 3, 6, 11, 11, 11, 3, 3, 3, 5, 3, 3, 3, 8, 8, 8, 8, 8, 1, 3, 10, 11, 1, 6, 8, 8, 1, 8, 1, 8, 8, 1, 3, 6, 8, 10, 11, 1, 8, 8, 3, 6, 10, 11, 6, 1, 3, 6, 3, 3, 1, 6, 8, 1, 3, 12, 1, 3, 12, 3, 12, 6, 6, 6, 6, 6, 3, 3, 3, 8, 3, 3, 1, 11, 8, 8, 8, 1, 8, 8, 1, 8, 8, 8, 1, 3, 6, 11, 12, 12, 3, 3, 3, 6, 10, 3, 3, 8, 8, 6, 8, 8, 8, 1, 5, 1, 3, 6, 8, 9, 11, 11, 8, 8, 8, 3, 3, 3, 3, 3, 3, 3, 11, 11, 1, 6, 12, 3, 3, 3, 11, 1, 3, 3, 3, 3, 12, 12, 12, 11, 11, 11, 11, 11, 8, 8, 8, 8, 8, 12, 12, 12, 3, 3, 3, 12, 8, 6, 3, 12, 12, 12, 12, 1, 12, 1, 12, 1, 8, 1, 6, 3, 1, 3, 6, 8, 3, 3, 3, 1, 3, 6, 11, 12, 12, 12, 12, 12, 3, 1, 3, 12, 12, 6, 6, 6, 1, 3, 8, 11, 8, 6, 6, 6, 6, 6, 6, 1, 3, 6, 8, 12, 14, 6, 8, 8, 1, 12, 8, 8, 6, 3, 6, 8, 9, 11, 12, 8, 8, 6, 12, 12, 12, 11, 1, 6, 6, 1, 8, 11, 11, 11, 1, 3, 6, 8, 11, 8, 8, 8, 6, 6, 8, 1, 1, 1, 1, 1, 1, 1, 6, 8, 11, 3, 3, 6, 8, 8, 8, 6, 8, 11, 11, 11, 1, 1, 1, 3, 8, 1, 3, 14, 12, 12, 1, 6, 11, 6, 6, 8, 8, 3, 6, 8, 12, 11, 11, 11, 11, 11, 11, 11, 11, 11, 3, 8, 8, 8, 3, 11, 3, 6, 8, 8, 8, 3, 6, 6, 8, 6, 6, 6, 8, 8, 8, 1, 6, 8, 11, 8, 8, 8, 8, 6, 6, 3, 6, 10, 11, 6, 6, 6, 6, 6, 6, 3, 12, 12, 1, 6, 12, 6, 6, 1, 6, 11, 6, 6, 6, 6, 6, 3, 3, 3, 3, 11, 1, 6, 6, 6, 11, 3, 3, 12, 12, 11, 11, 6, 6, 1, 8, 1, 1, 1, 8, 8, 11, 11, 11, 6, 6, 3, 5, 6, 6, 6, 3, 6, 8, 8, 8, 6, 6, 8, 8, 8, 1, 3, 8, 11, 3, 6, 11, 6, 11, 3, 8, 1, 6, 8, 11, 1, 6, 8, 11, 6, 1, 1, 6, 8], \"Freq\": [0.8529208438990135, 1.06470350374751, 0.6586025656860646, 1.0557599703727363, 1.0557599703727363, 1.0557599703727363, 0.9155622854275279, 0.9155622854275279, 0.38279113729822284, 0.38279113729822284, 0.38279113729822284, 1.0212919911982714, 0.6157362534959936, 0.12022908541343404, 0.12022908541343404, 0.3606872562403021, 0.18034362812015106, 0.06011454270671702, 0.06011454270671702, 0.06011454270671702, 1.0557599703727363, 0.19207388849640258, 0.19207388849640258, 0.19207388849640258, 0.19207388849640258, 0.9279238920249036, 0.9279238920249036, 0.25639343772551104, 0.7691803131765331, 0.9155622854275279, 0.5770183749261194, 0.5770183749261194, 0.5204820719708712, 0.5204820719708712, 0.8515111708290096, 0.21658402106615457, 0.21658402106615457, 0.43316804213230914, 0.21658402106615457, 1.0557599703727363, 1.0557599703727363, 1.0557599703727363, 1.0557599703727363, 0.8508053428516615, 0.8508053428516615, 0.668425043673794, 0.5055684785753654, 0.2527842392876827, 0.2527842392876827, 0.2527842392876827, 1.0557599703727363, 1.0557599703727363, 0.502879198527056, 0.251439599263528, 0.251439599263528, 0.9155622854275279, 0.9155622854275279, 0.9155622854275279, 0.35771066341082475, 0.35771066341082475, 0.35771066341082475, 1.0557599703727363, 0.5507671310624146, 0.2753835655312073, 0.2753835655312073, 0.8529208438990135, 0.8529208438990135, 0.8529208438990135, 1.021291991198271, 0.8529208438990135, 0.8529208438990135, 0.8529208438990135, 0.8529208438990135, 0.8529208438990135, 0.8529208438990135, 0.4168804772934987, 0.4168804772934987, 0.4168804772934987, 0.5906242739323583, 0.5906242739323583, 1.0557599703727363, 0.8829878197716502, 0.8829878197716496, 0.8829878197716496, 0.8829878197716496, 0.8829878197716502, 0.8829878197716502, 0.33384084745192033, 0.33384084745192033, 0.5562136518174915, 0.9155622854275279, 0.9155622854275279, 0.9155622854275279, 0.5204820719694194, 0.5204820719694194, 0.6146329755697678, 1.0182603135318147, 0.8508053428516615, 0.8508053428516615, 0.8199871686506043, 0.40999358432530214, 1.0557599703727363, 1.0557599703727363, 0.8829878197716496, 0.8529208438990135, 0.8529208438990135, 0.8529208438990135, 0.696427231251502, 0.9279238920249036, 0.6601044668200758, 0.2200348222733586, 0.6601044668200758, 0.2200348222733586, 0.8529208438990135, 0.8529208438990135, 0.9279238920249036, 0.14668861259987773, 0.14668861259987773, 0.29337722519975545, 0.4400658377996332, 0.8829878197716496, 0.8829878197716496, 0.8508053428516615, 0.8508053428516615, 0.9279238920249036, 0.9279238920249036, 0.9279238920249036, 0.9279238920249036, 0.8508053428516615, 0.8508053428516615, 0.8829878197716496, 0.29060548479671555, 0.5812109695934311, 0.29060548479671555, 0.8829878197716496, 0.8829878197716496, 0.8829878197716496, 0.8508053428516615, 0.8508053428516615, 0.8508053428516615, 0.8508053428516615, 0.8508053428516615, 0.8508053428516615, 0.9155622854275279, 0.9155622854275279, 0.9155622854275279, 0.8829878197716496, 0.5562136518174919, 0.8508053428516615, 0.35762244140994853, 0.17881122070497427, 0.17881122070497427, 0.17881122070497427, 0.9279238920249041, 0.38067089137956006, 0.38067089137956006, 0.38067089137956006, 0.8829878197716496, 0.8829878197716496, 0.9155622854275279, 0.8508053428516615, 0.8508053428516615, 0.8508053428516615, 0.2871971447441294, 0.2871971447441294, 0.1435985723720647, 0.4307957171161941, 0.9279238920249036, 0.9155622854275279, 0.9155622854275279, 0.9155622854275279, 1.06470350374751, 1.0557599703727363, 1.0557599703727363, 1.0557599703727363, 1.0557599703727363, 1.0557599703727363, 1.0557599703727363, 0.455990264256346, 0.227995132128173, 0.455990264256346, 1.0557599703727363, 1.0557599703727363, 0.6632221938155048, 1.0557599703727363, 1.0557599703727363, 0.8829878197716496, 0.8829878197716496, 0.4041359568010524, 0.4041359568010524, 0.9279238920249036, 0.9279238920249036, 0.9155622854275722, 0.9155622854275722, 0.5212730152227598, 0.5212730152227598, 1.0557599703727363, 1.0557599703727363, 1.0557599703727363, 1.0557599703727363, 1.0557599703727363, 1.0557599703727363, 0.858336872550436, 0.6605336314574198, 0.3302668157287099, 0.3338537693717291, 0.3338537693717291, 0.3338537693717291, 0.8829878197716496, 0.8829878197716496, 0.8829878197716496, 0.4275037646198151, 0.4275037646198151, 0.676556608172394, 0.8508053428516615, 0.8508053428516615, 0.8508053428516615, 0.4334363743024937, 0.4334363743024937, 0.8508053428516615, 0.8829878197716496, 0.663222193815505, 0.6050227901277067, 0.6050227901277067, 0.9155622854275722, 0.43543242092435935, 0.43543242092435935, 0.11880998726646713, 0.3564299617994014, 0.11880998726646713, 0.11880998726646713, 0.23761997453293426, 0.5562136518174915, 1.018260313339492, 0.8508053428516615, 0.8508053428516615, 0.8508053428516615, 0.8508053428516615, 0.7395786177393507, 0.36978930886967537, 1.0647035037475114, 0.6632221938155053, 0.663222193815505, 0.696427231251502, 0.9279238920249036, 0.9279238920249036, 0.8508053428516615, 0.9279238920249036, 0.9279238920249036, 0.9279238920249036, 0.521273015220352, 0.521273015220352, 0.32064644942732173, 0.10688214980910725, 0.2137642996182145, 0.10688214980910725, 0.2137642996182145, 0.053441074904553625, 0.8508053428516615, 0.8529208438990135, 1.0557599703727363, 1.0557599703727363, 1.0557599703727363, 1.0557599703727363, 1.0557599703727363, 1.0557599703727363, 0.22155472113361624, 0.4431094422672325, 0.22155472113361624, 0.8508053428516615, 1.0557599703727363, 0.15916089579235124, 0.07958044789617562, 0.3183217915847025, 0.15916089579235124, 0.07958044789617562, 0.07958044789617562, 0.3400671787987033, 0.3400671787987033, 0.5562136518174917, 0.9279238920249036, 0.4168804770008534, 0.4168804770008534, 0.4168804770008534, 0.9155622854275279, 0.9155622854275279, 1.0557599703727363, 0.6533098126407623, 0.36363684463059365, 0.7272736892611873, 0.3585639834748701, 0.3585639834748701, 0.9155622854275279, 0.9155622854275279, 0.9155622854275722, 0.9155622854275722, 0.1420900553874532, 0.1420900553874532, 0.355225138468633, 0.0710450276937266, 0.2131350830811798, 0.0710450276937266, 0.9279238920249036, 0.9279238920249036, 0.5770183749261194, 0.5770183749261194, 1.0557599703727363, 0.8529208438990135, 0.8529208438990135, 0.8829878197716496, 0.8508053428516615, 1.0557599703727363, 1.0557599703727363, 0.8508053428516615, 0.6671250707950738, 0.8508053428516615, 0.9155622854275279, 0.4144477658085852, 0.4144477658085852, 0.8508053428516615, 0.8508053428516615, 0.8529208438990135, 0.8529208438990135, 0.4292366296475981, 0.4292366296475981, 0.8529208438990135, 0.8529208438990135, 0.9155622854275279, 0.9155622854275279, 0.8508053428516615, 0.8508053428516615, 1.0182603133394934, 0.2745600784937563, 0.5491201569875126, 0.13728003924687815, 0.8508053428516615, 0.8529208438990135, 0.8529208438990135, 0.9279238920249036, 0.8508053428516615, 0.8508053428516615, 0.9279238920249041, 0.9279238920249041, 0.9279238920249041, 0.6832829571065409, 0.9279238920249036, 0.9279238920249036, 0.9279238920249036, 0.9279238920249036, 0.9279238920249036, 0.9279238920249041, 0.9279238920249041, 0.9279238920249041, 0.21985730031173978, 0.43971460062347956, 0.21985730031173978, 0.21985730031173978, 0.9279238920249041, 0.9279238920249041, 0.9279238920249041, 0.8529208438990135, 0.8529208438990135, 0.7739630936384512, 0.3869815468192256, 0.8508053428516615, 0.8508053428516615, 0.8508053428516615, 0.9279238920249036, 0.9279238920249036, 0.9155622854275722, 0.9155622854275722, 0.9155622854275722, 0.8508053428516615, 0.8508053428516615, 0.8508053428516615, 0.2695557531821666, 0.2695557531821666, 0.1347778765910833, 0.2695557531821666, 0.9279238920249036, 0.9279238920249036, 0.8529208438990135, 0.8529208438990135, 0.536614074287814, 0.536614074287814, 0.9279238920249036, 0.9279238920249036, 0.9279238920249036, 0.6405309054429635, 0.8508053428516615, 0.8508053428516615, 0.382791137171458, 0.382791137171458, 0.382791137171458, 0.4041359567400164, 0.4041359567400164, 0.8829878197716502, 0.3456335253648294, 0.3456335253648294, 0.3456335253648294, 0.8508053428516615, 0.8508053428516615, 0.9279238920249036, 0.9279238920249036, 0.9279238920249036, 0.7136297315684993, 0.9279238920249036, 0.9279238920249036, 0.33231676935128246, 0.33231676935128246, 0.8508053428516615, 0.8508053428516615, 0.8508053428516615, 0.8508053428516615, 0.8508053428516615, 0.36363684463059365, 0.7272736892611873, 0.8508053428516615, 0.8508053428516615, 0.8508053428516615, 0.5562136518174915, 0.9155622854275279, 0.9155622854275279, 0.9155622854275279, 0.9279238920249036, 0.8508053428516615, 0.8508053428516615, 0.8508053428516615, 0.30271056723059064, 0.30271056723059064, 0.30271056723059064, 0.8829878197716496, 0.8829878197716496, 0.8508053428516615, 0.8508053428516615, 0.9279238920249036, 0.5212730152193521, 0.5212730152193521, 0.8829878197716496, 0.8829878197716496, 0.6520679134915554, 0.9155622854275279, 0.9155622854275279, 0.9155622854275279, 0.8529208438990135, 0.8529208438990135, 0.8529208438990135, 0.3689937403336027, 0.7379874806672054, 0.9155622854275279, 0.9155622854275279, 0.9155622854275279, 0.8829878197716496, 0.8829878197716496, 0.8829878197716496, 0.8633524237346852, 0.8829878197716496, 0.8829878197716496, 0.8829878197716496, 0.9279238920249036, 0.9279238920249036, 0.9279238920249036, 0.9279238920249036, 0.9279238920249036, 0.6157362534083366, 0.3131797476487513, 0.3131797476487513, 0.3131797476487513, 0.5817037802512369, 0.29085189012561846, 0.29085189012561846, 0.9279238920249041, 0.4445660389507506, 0.4445660389507506, 0.4445660389507506, 0.4445660389507506, 0.9279238920249041, 0.1302853903874459, 0.1302853903874459, 0.2605707807748918, 0.1302853903874459, 0.1302853903874459, 0.1302853903874459, 0.5366140742882662, 0.5366140742882662, 0.9279238920249036, 0.16132933583706727, 0.32265867167413453, 0.16132933583706727, 0.16132933583706727, 0.8508053428516615, 0.5923300314531386, 0.19744334381771286, 0.19744334381771286, 0.8829878197716502, 0.8829878197716502, 0.32217073867668794, 0.32217073867668794, 0.32217073867668794, 0.5228138672055971, 0.26140693360279854, 0.26140693360279854, 0.5228138672055971, 0.26140693360279854, 0.26140693360279854, 0.8829878197716502, 0.6632221938155048, 0.8508053428516615, 0.8508053428516615, 0.8508053428516615, 0.8508053428516615, 0.5384464474645645, 0.8829878197716496, 0.8829878197716496, 0.8829878197716496, 0.6538918712793503, 0.8829878197716496, 0.8829878197716496, 0.45419461648981124, 0.45419461648981124, 0.9279238920249036, 0.9279238920249036, 0.9279238920249036, 0.5366140742995983, 0.5366140742995983, 0.9279238920249036, 0.5366140742894545, 0.5366140742894545, 0.9279238920249036, 0.9279238920249036, 0.24527862407984388, 0.24527862407984388, 0.12263931203992194, 0.24527862407984388, 0.12263931203992194, 1.0557599703727363, 0.8829878197716496, 0.8829878197716496, 0.35403791300703125, 0.35403791300703125, 0.35403791300703125, 0.8829878197716496, 0.8829878197716496, 0.9279238920249041, 0.9279238920249036, 0.4495033532416971, 0.4495033532416971, 0.9279238920249036, 0.9279238920249036, 0.5143668806088317, 0.5143668806088317, 0.10082567968503808, 0.10082567968503808, 0.20165135937007617, 0.20165135937007617, 0.10082567968503808, 0.30247703905511425, 0.5562136518174917, 0.9279238920249036, 0.9279238920249036, 0.6964272312762086, 0.8829878197716496, 0.8829878197716496, 0.8829878197716496, 0.8829878197716496, 0.8829878197716496, 0.8829878197716496, 0.8829878197716496, 0.9155622854275279, 0.9155622854275279, 0.32441940280154286, 0.32441940280154286, 0.32441940280154286, 0.8829878197716496, 0.8829878197716496, 0.8829878197716496, 0.9155622854275279, 0.7395786177320542, 0.3697893088660271, 0.8829878197716496, 0.8829878197716496, 0.8829878197716496, 1.0557599703727363, 1.0557599703727363, 1.0557599703727363, 0.798876587594769, 0.5562136518174915, 0.9155622854275279, 0.9155622854275279, 0.9155622854275279, 0.713629731598567, 0.9279238920249041, 0.9279238920249041, 0.9279238920249041, 0.9279238920249041, 1.0557599703727363, 1.0557599703727363, 1.0557599703727363, 0.8829878197716496, 0.8829878197716496, 0.8829878197716496, 0.7869075511313104, 0.6832829571274652, 0.8508053428516615, 0.5906242739323583, 0.5906242739323583, 1.0557599703727363, 1.0557599703727363, 1.0557599703727363, 0.47817772100296635, 0.47817772100296635, 0.5770183749193679, 0.5770183749193679, 0.4319343016410399, 0.4319343016410399, 0.3188933839141737, 0.6377867678283474, 0.8829878197716502, 0.1445229728394025, 0.289045945678805, 0.289045945678805, 0.1445229728394025, 0.8829878197716496, 0.8829878197716496, 0.8829878197716496, 0.17462449495686005, 0.3492489899137201, 0.08731224747843003, 0.08731224747843003, 0.2619367424352901, 1.0557599703727363, 1.0557599703727363, 1.0557599703727363, 1.0557599703727363, 0.8829878197716496, 0.34906039114443976, 0.34906039114443976, 0.34906039114443976, 1.0557599703727363, 1.018260313339492, 0.8508053428516615, 0.8508053428516615, 0.7288189144972186, 0.548361848729612, 0.548361848729612, 0.6477291286325972, 0.6832829571274652, 0.8508053428516615, 0.8508053428516615, 0.8508053428516615, 0.8508053428516615, 0.8508053428516615, 0.8508053428516615, 0.2813856861627451, 0.16883141169764707, 0.16883141169764707, 0.2251085489301961, 0.11255427446509805, 0.05627713723254903, 0.5357759285023798, 0.5357759285023798, 0.9279238920249036, 0.5770183749193679, 0.5770183749193679, 0.9279238920249041, 0.9279238920249041, 0.84705350285911, 0.16462182314602414, 0.16462182314602414, 0.16462182314602414, 0.16462182314602414, 0.16462182314602414, 0.3292436462920483, 0.9279238920249036, 0.9279238920249036, 0.8508053428516615, 1.0557599703727363, 1.0557599703727363, 1.0557599703727363, 0.9155622854275279, 0.21499997639858537, 0.6449999291957561, 0.8508053428516615, 0.5366140742979579, 0.5366140742979579, 0.9155622854275722, 0.9155622854275722, 0.9155622854275722, 0.278120663367588, 0.139060331683794, 0.139060331683794, 0.139060331683794, 0.139060331683794, 0.9279238920249036, 0.9279238920249036, 0.9279238920249036, 1.0182603133394923, 0.8508053428516615, 0.6964272312762081, 0.8529208438990135, 0.8529208438990135, 0.8529208438990135, 0.7496914829095787, 0.8529208438990135, 0.8529208438990135, 0.8529208438990135, 0.305088027587862, 0.305088027587862, 0.305088027587862, 0.6586025656489143, 0.8829878197716502, 0.5357759285213297, 0.5357759285213297, 0.9279238920249036, 0.9279238920249036, 0.5357759285196371, 0.5357759285196371, 0.9155622854275722, 0.915562285427572, 0.915562285427572, 0.8529208438990135, 0.8529208438990135, 0.8529208438990135, 0.7783457506237637, 0.3891728753118818, 0.35528983907868555, 0.35528983907868555, 0.17764491953934278, 1.0557599703727363, 1.0557599703727363, 0.24520892528653088, 0.24520892528653088, 0.49041785057306175, 0.8508053428516615, 0.8508053428516615, 0.9279238920249036, 0.9279238920249036, 0.8829878197716496, 0.355504343132728, 0.355504343132728, 0.355504343132728, 0.9155622854275279, 0.9155622854275279, 0.9155622854275279, 0.9155622854275279, 0.9155622854275279, 0.9155622854275279, 0.9155622854275279, 0.9155622854275279, 0.9155622854275279, 0.6586025656860646, 0.9279238920249036, 0.9279238920249036, 0.9279238920249036, 0.5345623850848905, 0.26728119254244526, 0.48729758389872435, 0.24364879194936218, 0.24364879194936218, 0.9279238920249036, 0.9279238920249036, 0.3689937402359849, 0.7379874804719698, 0.4549958324297984, 0.4549958324297984, 0.8508053428516615, 0.8508053428516615, 0.5357759285213297, 0.5357759285213297, 0.9279238920249036, 0.9279238920249036, 0.37831881274835893, 0.18915940637417947, 0.18915940637417947, 0.18915940637417947, 0.9279238920249041, 0.9279238920249041, 0.9279238920249041, 0.9279238920249041, 0.8508053428516615, 0.8508053428516615, 0.16132933583706727, 0.32265867167413453, 0.16132933583706727, 0.16132933583706727, 0.8508053428516615, 0.8508053428516615, 0.8508053428516615, 0.8508053428516615, 0.8508053428516615, 0.8508053428516615, 0.6708059589360896, 1.0557599703727363, 1.0557599703727363, 0.6046522346950832, 0.3023261173475416, 0.3023261173475416, 0.6671250707950738, 0.8508053428516615, 1.021291991198271, 0.4465825029288522, 0.4465825029288522, 0.8508053428516615, 0.8508053428516615, 0.6520679134982521, 0.8508053428516615, 0.8508053428516615, 0.8829878197716496, 0.8829878197716496, 0.8829878197716496, 0.3931112640293802, 0.3931112640293802, 1.021291991198272, 0.8508053428516615, 0.8508053428516615, 0.8508053428516615, 0.9155622854275279, 0.8829878197716496, 0.8829878197716496, 1.0557599703727363, 1.0557599703727363, 0.9155622854275279, 0.9155622854275279, 0.6405309054429635, 0.6405309054429635, 0.6601044668200758, 0.2200348222733586, 0.8529208438990135, 0.8529208438990135, 0.8529208438990135, 0.9279238920249036, 0.9279238920249036, 0.9155622854275279, 0.9155622854275279, 0.9155622854275279, 0.8508053428516615, 0.8508053428516615, 1.0647035037475114, 0.8633477260092979, 0.8611929609419906, 0.6520679134915554, 0.6520679134915554, 0.3827911372978011, 0.3827911372978011, 0.3827911372978011, 0.9279238920249036, 0.9279238920249036, 0.8508053428516615, 0.8508053428516615, 0.9279238920249036, 0.9279238920249036, 0.9279238920249036, 0.2701995301057226, 0.2701995301057226, 0.2701995301057226, 0.2701995301057226, 0.33498966963597554, 0.33498966963597554, 0.33498966963597554, 0.4465825029288522, 0.4465825029288522, 0.5483618487307093, 0.5483618487307093, 0.48264628960394074, 0.24132314480197037, 0.24132314480197037, 0.24132314480197037, 0.48264628960394074, 0.24132314480197037, 0.24132314480197037, 0.24132314480197037, 1.0182603133394927, 0.6417292072573602, 0.21360680311657373, 0.42721360623314747, 0.21360680311657373], \"Term\": [\"abandon\", \"able\", \"age\", \"alert\", \"alert sauron\", \"alert sauron sends\", \"alive gandalf\", \"alive gandalf pippin\", \"along\", \"along\", \"along\", \"among\", \"anduin\", \"aragorn\", \"aragorn\", \"aragorn\", \"aragorn\", \"aragorn\", \"aragorn\", \"aragorn\", \"aragorn proposes lead\", \"army\", \"army\", \"army\", \"army\", \"army lair\", \"army lair heralding\", \"arrive\", \"arrive\", \"arrive hallows\", \"arrives\", \"arrives\", \"arrow\", \"arrow\", \"arwen\", \"attack\", \"attack\", \"attack\", \"attack\", \"attack battle\", \"attack battle morannon\", \"attack frodo\", \"attack frodo seizing\", \"attack great\", \"attack great gondorian\", \"awakes\", \"away\", \"away\", \"away\", \"away\", \"away frodo\", \"away frodo path\", \"back\", \"back\", \"back\", \"battering\", \"battering ram\", \"battering ram grond\", \"battle\", \"battle\", \"battle\", \"battle morannon\", \"begin\", \"begin\", \"begin\", \"beholds\", \"beholds might\", \"beholds might force\", \"belief\", \"belief dead\", \"belief dead also\", \"belief frodo\", \"betrays\", \"betrays frodo\", \"betrays frodo giant\", \"black\", \"black\", \"black\", \"black gate\", \"black gate\", \"black gate draw\", \"black gate mordor\", \"blaming\", \"blaming sam\", \"blaming sam eating\", \"blown\", \"blown large\", \"boromir\", \"boromir\", \"burn\", \"burn alive gandalf\", \"burn death\", \"burning massacring men\", \"call\", \"call\", \"captain\", \"captured\", \"captured osgiliath\", \"captured osgiliath witch\", \"carry\", \"carry\", \"carry frodo\", \"carry frodo mount\", \"carry ring thereby\", \"catapult\", \"catapult ensues\", \"catapult ensues witch\", \"caught\", \"caught grief\", \"cirith\", \"cirith\", \"cirith ungol\", \"cirith ungol\", \"cirith ungol come\", \"cirith ungol gollum\", \"cirith ungol lie\", \"city\", \"city\", \"city\", \"city\", \"city gollum\", \"city gollum continues\", \"city mina\", \"city mina tirith\", \"city moment door\", \"cliff\", \"cliff surrounding\", \"cliff surrounding accursed\", \"climb extremely\", \"climb extremely steep\", \"coma\", \"come\", \"come\", \"come\", \"continues\", \"continues play\", \"continues play hobbit\", \"convinces\", \"convinces elrond\", \"convinces elrond hugo\", \"convincing\", \"convincing gandalf\", \"convincing gandalf gollum\", \"crawl\", \"crawl street\", \"crawl street lower\", \"cunning\", \"cut\", \"dangerous route gollum\", \"dead\", \"dead\", \"dead\", \"dead\", \"dead battle\", \"death\", \"death\", \"death\", \"death like\", \"death like coma\", \"death turn see\", \"deduces\", \"deduces sauron\", \"deduces sauron moving\", \"denethor\", \"denethor\", \"denethor\", \"denethor\", \"denethor seems caught\", \"denethor thrown onto\", \"denethor unaware\", \"denethor unaware faramir\", \"destruction\", \"disappearing\", \"disappearing sight\", \"disappearing sight act\", \"distract\", \"distract eye\", \"distract eye sauron\", \"doom\", \"doom\", \"doom\", \"doom frodo\", \"doom frodo instead\", \"doom gollum\", \"doom gollum arrives\", \"doom gollum render\", \"doomed ride\", \"doomed ride reclaim\", \"door\", \"door\", \"door city\", \"door city open\", \"door screen\", \"door screen fade\", \"dragged\", \"dragged\", \"draw\", \"draw orcs\", \"draw orcs away\", \"dropping\", \"dropping ring\", \"dropping ring fire\", \"dunharrow\", \"d\\u00e9agol\", \"d\\u00e9agol\", \"earth\", \"earth\", \"earth\", \"eating food\", \"eats noon\", \"eats noon meal\", \"edoras\", \"edoras\", \"effect\", \"eldar\", \"eldar leave\", \"eldarion sadwyn\", \"elrond\", \"elrond\", \"elrond hugo weaving\", \"encamped orcs\", \"eye\", \"fade\", \"fade\", \"fade black\", \"fall\", \"fall\", \"faramir\", \"faramir\", \"faramir\", \"faramir\", \"faramir\", \"faramir denethor\", \"father\", \"father foretold\", \"father foretold time\", \"father lied\", \"father lied said\", \"fight\", \"fight\", \"figure\", \"finally\", \"fire\", \"flash\", \"flash lightning\", \"flash lightning shoot\", \"forsaken life eldar\", \"fortify\", \"fortify city\", \"fortify city threat\", \"friend\", \"friend\", \"frodo\", \"frodo\", \"frodo\", \"frodo\", \"frodo\", \"frodo\", \"frodo captured osgiliath\", \"frodo ha\", \"frodo instead\", \"frodo instead dropping\", \"frodo mount\", \"frodo mount doom\", \"frodo path\", \"frodo path well\", \"frodo sam\", \"frodo sam\", \"frodo sam\", \"frodo sam convincing\", \"frodo seizing ring\", \"gandalf\", \"gandalf\", \"gandalf\", \"gandalf\", \"gandalf\", \"gandalf\", \"gandalf pippin\", \"gandalf pippin\", \"gandalf pippin arrive\", \"gandalf pippin flash\", \"gate\", \"gate\", \"gate\", \"gate city\", \"gate city troll\", \"gate draw orcs\", \"get\", \"gimli\", \"gimli\", \"go\", \"go\", \"go ill\", \"go ill gondorians\", \"go inside\", \"go inside shuts\", \"gollum\", \"gollum\", \"gollum\", \"gollum\", \"gollum\", \"gollum\", \"gollum arrive\", \"gollum arrive mina\", \"gollum arrives\", \"gollum arrives\", \"gollum arrives attack\", \"gollum betrays\", \"gollum betrays frodo\", \"gollum cunning prediction\", \"gollum reach\", \"gollum render\", \"gollum render sam\", \"gollum struggling climb\", \"gollum treachery\", \"gollum treachery hobbit\", \"gondor\", \"gondorian\", \"gondorian\", \"gondorian city\", \"gondorian city mina\", \"gondorian trebuchet\", \"gondorian trebuchet mordor\", \"gondorians\", \"gondorians\", \"gondorians abandon\", \"gondorians abandon position\", \"gondorians huge\", \"gondorians huge battering\", \"great gondorian\", \"great gondorian city\", \"grima\", \"ha\", \"ha\", \"ha\", \"ha come\", \"ha paralysed\", \"ha paralysed shelob\", \"ha taken\", \"ha vision\", \"ha vision eldarion\", \"helm\", \"helm deep\", \"helm deep gandalf\", \"heralding\", \"heralding start\", \"heralding start war\", \"hidden\", \"hidden cliff\", \"hidden cliff surrounding\", \"hide\", \"hide cloak\", \"hide cloak group\", \"hobbit\", \"hobbit\", \"hobbit\", \"hobbit\", \"honorable\", \"honorable man\", \"honorable man architect\", \"hope\", \"hope mind\", \"horse\", \"horse\", \"hugo\", \"hugo weaving\", \"hugo weaving forsaken\", \"immense orc\", \"immense orc army\", \"inside\", \"inside shuts\", \"inside shuts door\", \"keeping\", \"keeping return\", \"keeping return leaving\", \"king\", \"king\", \"king\", \"king\", \"king angmar\", \"king angmar leader\", \"king ringwraiths\", \"king ringwraiths fell\", \"king th\\u00e9oden\", \"king th\\u00e9oden\", \"lair\", \"lair heralding\", \"lair heralding start\", \"land\", \"land arwen\", \"land arwen liv\", \"large\", \"large\", \"large\", \"last\", \"last\", \"lava destruction barad\", \"lead\", \"lead\", \"lead\", \"lead gollum\", \"lead gollum struggling\", \"leader\", \"leader nazg\\u00fbl\", \"leader nazg\\u00fbl dispatch\", \"leading\", \"leading pas\", \"leading pas cirith\", \"leave\", \"leave\", \"leave aragorn\", \"leave aragorn tell\", \"leaving\", \"leaving rivendell\", \"leaving rivendell way\", \"legolas\", \"legolas\", \"lest\", \"lest urge\", \"lest urge look\", \"level\", \"level city\", \"level city orcs\", \"level looting\", \"lie hidden\", \"lied\", \"lied said\", \"lied said aragorn\", \"life\", \"life\", \"life\", \"like\", \"like coma\", \"liv\", \"liv tyler ha\", \"locate\", \"long\", \"long\", \"long arrow\", \"long arrow encamped\", \"look\", \"looting\", \"looting burning\", \"looting burning massacring\", \"loses\", \"loses hope\", \"loses hope mind\", \"love\", \"love\", \"lower\", \"lower level\", \"lower level looting\", \"manipulates\", \"manipulates taking\", \"manipulates taking doomed\", \"marries\", \"meal\", \"meal faramir\", \"meal faramir attack\", \"meanwhile\", \"meanwhile frodo\", \"meanwhile frodo sam\", \"measure\", \"measure fortify\", \"meet\", \"men\", \"men\", \"men\", \"merry\", \"merry\", \"merry\", \"merry take leave\", \"middle\", \"middle\", \"middle earth\", \"middle earth\", \"middle earth set\", \"mina\", \"mina\", \"mina\", \"mina\", \"mina\", \"mina\", \"mina morgul\", \"mina morgul\", \"mina morgul wary\", \"mina tirith\", \"mina tirith\", \"mina tirith\", \"mina tirith\", \"mina tirith ride\", \"mordor\", \"mordor\", \"mordor\", \"mordor shaken\", \"mordor shaken apart\", \"morgul\", \"morgul\", \"morgul\", \"mount\", \"mount\", \"mount\", \"mount doom\", \"mount doom\", \"mount doom\", \"mount doom blown\", \"mount doom gollum\", \"moving\", \"moving attack\", \"narsil ha\", \"narsil ha come\", \"night\", \"noon\", \"noon meal\", \"noon meal faramir\", \"notice\", \"offer\", \"offer carry ring\", \"one\", \"one\", \"open\", \"open witch\", \"open witch king\", \"opening\", \"opening\", \"opening door\", \"orc\", \"orc\", \"orc army\", \"orc army lair\", \"orcs\", \"orcs\", \"orcs\", \"orcs\", \"orcs\", \"orcs away\", \"orcs pippin\", \"order back home\", \"osgiliath\", \"osgiliath\", \"osgiliath\", \"osgiliath manipulates\", \"osgiliath manipulates taking\", \"otto show affection\", \"outpouring\", \"palant\\u00edr\", \"palant\\u00edr\", \"pas cirith\", \"pas cirith ungol\", \"peace\", \"peace\", \"pippin\", \"pippin\", \"pippin\", \"pippin\", \"pippin\", \"pippin\", \"pippin arrive\", \"pippin flash\", \"pippin flash lightning\", \"pippin see\", \"pippin sings denethor\", \"play\", \"play hobbit\", \"play hobbit time\", \"pleased\", \"pleased faramir\", \"pleased faramir failed\", \"pour defender\", \"pour defender retreat\", \"power\", \"power\", \"power\", \"prediction\", \"prediction faramir\", \"prediction faramir ride\", \"prepares\", \"present\", \"present\", \"provision\", \"provision frodo\", \"provision frodo deluded\", \"put\", \"put disappearing\", \"put disappearing sight\", \"pyre\", \"pyre burn\", \"pyre burn alive\", \"pyre burn death\", \"pyre unconscious\", \"quest\", \"quest aragorn tell\", \"quickly\", \"quickly asks\", \"quickly asks hide\", \"racing\", \"racing towards\", \"racing towards mount\", \"reclaim\", \"reclaim city\", \"reclaim city gollum\", \"reclaimed\", \"red\", \"reforge narsil ha\", \"remaining\", \"remaining\", \"remaining soldier\", \"remaining soldier black\", \"render\", \"rescue\", \"rescue\", \"rescue frodo\", \"rescue frodo\", \"rest\", \"rest\", \"return\", \"return\", \"reuniting member\", \"ride\", \"ride\", \"ride\", \"ride\", \"ride head\", \"ride head long\", \"ride reclaim city\", \"ring\", \"ring\", \"ring\", \"ring\", \"ring\", \"ring finger\", \"ring finger biting\", \"ring fire\", \"ring fire succumbs\", \"ring thereby\", \"ringwraiths\", \"ringwraiths\", \"ringwraiths\", \"ringwraiths racing towards\", \"rivendell\", \"rivendell way\", \"rivendell way undying\", \"river\", \"road\", \"road\", \"rohirrim\", \"rosie\", \"sadwyn\", \"sadwyn brophy\", \"sadwyn brophy son\", \"said\", \"said aragorn\", \"said aragorn future\", \"sam\", \"sam\", \"sam\", \"sam\", \"sam\", \"sam\", \"sam gollum\", \"sam gollum\", \"sam gollum arrive\", \"sam rescue\", \"sam rescue\", \"sam sigh\", \"sam sigh say\", \"saruman\", \"sauron\", \"sauron\", \"sauron\", \"sauron\", \"sauron\", \"sauron\", \"sauron meanwhile\", \"sauron meanwhile frodo\", \"sauron moving\", \"sauron sam carry\", \"sauron sends\", \"sauron sends ringwraiths\", \"save faramir denethor\", \"saying\", \"saying\", \"saying break\", \"scene\", \"scene\", \"screen\", \"screen fade\", \"screen fade black\", \"see\", \"see\", \"see\", \"see\", \"see\", \"seems\", \"seems caught\", \"seems caught grief\", \"send\", \"send forth legion\", \"set\", \"sewing\", \"sewing terror\", \"sewing terror among\", \"shelob\", \"shelob sam\", \"shelob sam return\", \"shelob stinger\", \"ship\", \"ship\", \"ship\", \"shire\", \"shire amidst torrent\", \"shoot\", \"shoot\", \"shoot opening\", \"shoot opening door\", \"show\", \"show\", \"shuts\", \"shuts door\", \"shuts door screen\", \"skirmish\", \"skirmish gondorian\", \"skirmish gondorian trebuchet\", \"slowly\", \"slowly\", \"sm\\u00e9agol\", \"sm\\u00e9agol\", \"sm\\u00e9agol\", \"soldier black\", \"soldier black gate\", \"son\", \"son\", \"son\", \"son aragorn\", \"son aragorn realises\", \"stair leading\", \"stair leading pas\", \"state suspicious sam\", \"still\", \"still\", \"still\", \"stirring\", \"stirring awake\", \"stirring awake injury\", \"street\", \"street lower\", \"street lower level\", \"stricken\", \"stricken mad\", \"stricken mad grief\", \"suffering\", \"surrounding\", \"surrounding accursed\", \"surrounding accursed city\", \"sword\", \"sword\", \"take\", \"take\", \"take\", \"taken\", \"taken measure\", \"taking\", \"taking\", \"tell\", \"tell\", \"tell father\", \"tell father foretold\", \"threat\", \"threat\", \"threat sauron\", \"threat sauron meanwhile\", \"th\\u00e9oden\", \"th\\u00e9oden\", \"th\\u00e9oden\", \"th\\u00e9oden\", \"th\\u00e9oden ha\", \"th\\u00e9oden ha prepared\", \"th\\u00e9oden notice\", \"th\\u00e9oden notice tell\", \"time reforge\", \"time reforge narsil\", \"tirith\", \"tirith\", \"tirith\", \"tirith\", \"tirith ride\", \"tirith ride send\", \"tirith saying\", \"together\", \"together return\", \"together return rivendell\", \"torture\", \"towards mount\", \"towards mount doom\", \"tower\", \"tower\", \"tower\", \"treachery\", \"treachery hobbit\", \"trebuchet\", \"tree\", \"tree\", \"tree gandalf\", \"tree gandalf deduces\", \"try\", \"try take\", \"try take ring\", \"trying\", \"trying helpful\", \"trying helpful offer\", \"turn\", \"turn\", \"two\", \"tyler\", \"tyler ha\", \"tyler ha vision\", \"unaware faramir\", \"unconcernedly\", \"unconcernedly eats\", \"unconscious attack\", \"unconscious attack frodo\", \"unconscious faramir\", \"unconscious faramir denethor\", \"undying\", \"undying land\", \"ungol\", \"ungol\", \"ungol come\", \"ungol come investigate\", \"ungol gollum betrays\", \"ungol lie\", \"ungol lie hidden\", \"upper\", \"upper level\", \"upper level city\", \"urge look\", \"urge look palant\\u00edr\", \"use\", \"valinor\", \"vision\", \"vision white\", \"vision white tree\", \"war\", \"war\", \"war\", \"war outpouring\", \"war outpouring army\", \"warning\", \"warning taking pippin\", \"wary\", \"wary enemy\", \"wary enemy locate\", \"west\", \"west\", \"west\", \"west\", \"white\", \"white\", \"white\", \"white tree\", \"white tree\", \"winding\", \"winding\", \"witch\", \"witch\", \"witch\", \"witch\", \"witch king\", \"witch king\", \"witch king\", \"witch king\", \"wizard\", \"wound\", \"\\u00e9owyn\", \"\\u00e9owyn\", \"\\u00e9owyn\"]}, \"R\": 30, \"lambda.step\": 0.01, \"plot.opts\": {\"xlab\": \"PC1\", \"ylab\": \"PC2\"}, \"topic.order\": [1, 2, 3, 4, 5, 6, 7, 8, 9, 10, 11, 12, 13, 14, 15]};\n",
       "\n",
       "function LDAvis_load_lib(url, callback){\n",
       "  var s = document.createElement('script');\n",
       "  s.src = url;\n",
       "  s.async = true;\n",
       "  s.onreadystatechange = s.onload = callback;\n",
       "  s.onerror = function(){console.warn(\"failed to load library \" + url);};\n",
       "  document.getElementsByTagName(\"head\")[0].appendChild(s);\n",
       "}\n",
       "\n",
       "if(typeof(LDAvis) !== \"undefined\"){\n",
       "   // already loaded: just create the visualization\n",
       "   !function(LDAvis){\n",
       "       new LDAvis(\"#\" + \"ldavis_el11971399533533301288151511676\", ldavis_el11971399533533301288151511676_data);\n",
       "   }(LDAvis);\n",
       "}else if(typeof define === \"function\" && define.amd){\n",
       "   // require.js is available: use it to load d3/LDAvis\n",
       "   require.config({paths: {d3: \"https://cdnjs.cloudflare.com/ajax/libs/d3/3.5.5/d3.min\"}});\n",
       "   require([\"d3\"], function(d3){\n",
       "      window.d3 = d3;\n",
       "      LDAvis_load_lib(\"https://cdn.rawgit.com/bmabey/pyLDAvis/files/ldavis.v1.0.0.js\", function(){\n",
       "        new LDAvis(\"#\" + \"ldavis_el11971399533533301288151511676\", ldavis_el11971399533533301288151511676_data);\n",
       "      });\n",
       "    });\n",
       "}else{\n",
       "    // require.js not available: dynamically load d3 & LDAvis\n",
       "    LDAvis_load_lib(\"https://cdnjs.cloudflare.com/ajax/libs/d3/3.5.5/d3.min.js\", function(){\n",
       "         LDAvis_load_lib(\"https://cdn.rawgit.com/bmabey/pyLDAvis/files/ldavis.v1.0.0.js\", function(){\n",
       "                 new LDAvis(\"#\" + \"ldavis_el11971399533533301288151511676\", ldavis_el11971399533533301288151511676_data);\n",
       "            })\n",
       "         });\n",
       "}\n",
       "</script>"
      ],
      "text/plain": [
       "PreparedData(topic_coordinates=                x           y  topics  cluster       Freq\n",
       "topic                                                    \n",
       "0      114.344879  114.308296       1        1  18.405516\n",
       "1      105.821045  -93.749626       2        1   0.001619\n",
       "2     -138.334473   95.320763       3        1  15.785051\n",
       "3       -7.436697  111.259697       4        1   0.001619\n",
       "4     -207.550629 -105.472603       5        1   3.703033\n",
       "5       52.817650   14.603765       6        1  18.396796\n",
       "6      168.010849    6.806950       7        1   0.001619\n",
       "7      -94.169601 -157.789551       8        1  12.357771\n",
       "8     -122.849174  -39.059418       9        1   3.298530\n",
       "9      -94.894264  195.408295      10        1   4.849868\n",
       "10      24.927401 -180.464874      11        1  13.029408\n",
       "11     -53.413467   26.832108      12        1   7.327640\n",
       "12     -12.255850  -72.093201      13        1   0.001619\n",
       "13    -224.217957   28.070581      14        1   2.838291\n",
       "14      36.154255  209.427582      15        1   0.001619, topic_info=     Category       Freq     Term      Total  loglift  logprob\n",
       "1268  Default  14.000000   gollum  14.000000  30.0000  30.0000\n",
       "1112  Default  18.000000    frodo  18.000000  29.0000  29.0000\n",
       "2455  Default  11.000000     ring  11.000000  28.0000  28.0000\n",
       "2160  Default   9.000000   pippin   9.000000  27.0000  27.0000\n",
       "2831  Default   5.000000  sméagol   5.000000  26.0000  26.0000\n",
       "...       ...        ...      ...        ...      ...      ...\n",
       "2618  Topic15   0.000019   sauron   6.074529  -1.6232  -8.1418\n",
       "1112  Topic15   0.000019    frodo  18.712198  -2.7483  -8.1418\n",
       "2556  Topic15   0.000019      sam  17.769205  -2.6966  -8.1418\n",
       "1248  Topic15   0.000019       go   5.577805  -1.5379  -8.1418\n",
       "1268  Topic15   0.000019   gollum  14.075580  -2.4636  -8.1418\n",
       "\n",
       "[1333 rows x 6 columns], token_table=      Topic      Freq          Term\n",
       "term                               \n",
       "0         1  0.852921       abandon\n",
       "6         3  1.064704          able\n",
       "26        3  0.658603           age\n",
       "40       12  1.055760         alert\n",
       "41       12  1.055760  alert sauron\n",
       "...     ...       ...           ...\n",
       "3398      6  1.018260        wizard\n",
       "3405      1  0.641729         wound\n",
       "3423      1  0.213607         éowyn\n",
       "3423      6  0.427214         éowyn\n",
       "3423      8  0.213607         éowyn\n",
       "\n",
       "[876 rows x 3 columns], R=30, lambda_step=0.01, plot_opts={'xlab': 'PC1', 'ylab': 'PC2'}, topic_order=[1, 2, 3, 4, 5, 6, 7, 8, 9, 10, 11, 12, 13, 14, 15])"
      ]
     },
     "execution_count": 73,
     "metadata": {},
     "output_type": "execute_result"
    }
   ],
   "source": [
    "visual = pyLDAvis.sklearn.prepare(lda, synopsis_vector, vectorizer, mds = 'tsne', sort_topics = False)\n",
    "\n",
    "visual"
   ]
  },
  {
   "cell_type": "code",
   "execution_count": 74,
   "metadata": {},
   "outputs": [],
   "source": [
    "with open('./img/visual.pkl', 'wb') as f:\n",
    "    pickle.dump(visual, f)    "
   ]
  },
  {
   "cell_type": "code",
   "execution_count": 75,
   "metadata": {},
   "outputs": [],
   "source": [
    "visual = pickle.load(open('./img/visual.pkl', 'rb')) #pickle since it took about 15 minutes to generate"
   ]
  },
  {
   "cell_type": "markdown",
   "metadata": {},
   "source": [
    "Return to [Table of Contents](#table)"
   ]
  }
 ],
 "metadata": {
  "kernelspec": {
   "display_name": "Python 3",
   "language": "python",
   "name": "python3"
  },
  "language_info": {
   "codemirror_mode": {
    "name": "ipython",
    "version": 3
   },
   "file_extension": ".py",
   "mimetype": "text/x-python",
   "name": "python",
   "nbconvert_exporter": "python",
   "pygments_lexer": "ipython3",
   "version": "3.7.7"
  }
 },
 "nbformat": 4,
 "nbformat_minor": 2
}
